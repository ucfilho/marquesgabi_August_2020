{
  "nbformat": 4,
  "nbformat_minor": 0,
  "metadata": {
    "colab": {
      "name": "05_ANN_build_PSD_ago_12_2020.ipynb",
      "provenance": [],
      "collapsed_sections": [],
      "include_colab_link": true
    },
    "kernelspec": {
      "name": "python3",
      "display_name": "Python 3"
    }
  },
  "cells": [
    {
      "cell_type": "markdown",
      "metadata": {
        "id": "view-in-github",
        "colab_type": "text"
      },
      "source": [
        "<a href=\"https://colab.research.google.com/github/ucfilho/marquesgabi_August_2020/blob/master/05_ANN_build_PSD_ago_12_2020.ipynb\" target=\"_parent\"><img src=\"https://colab.research.google.com/assets/colab-badge.svg\" alt=\"Open In Colab\"/></a>"
      ]
    },
    {
      "cell_type": "code",
      "metadata": {
        "id": "Sog7Z9pyhUD_",
        "colab_type": "code",
        "colab": {}
      },
      "source": [
        "import matplotlib.pyplot as plt\n",
        "import random\n",
        "import numpy as np\n",
        "import cv2\n",
        "import zipfile\n",
        "from random import randint\n",
        "from PIL import Image\n",
        "import re\n",
        "from sklearn.model_selection import train_test_split\n",
        "#import scikit-image\n",
        "import skimage\n",
        "import pandas as pd\n",
        "import sklearn\n",
        "import matplotlib.pyplot as plt\n",
        "\n"
      ],
      "execution_count": 1,
      "outputs": []
    },
    {
      "cell_type": "code",
      "metadata": {
        "id": "Ne27Oa8E66fS",
        "colab_type": "code",
        "colab": {
          "base_uri": "https://localhost:8080/",
          "height": 53
        },
        "outputId": "dde71a76-9fcc-45a9-acc6-4fc02c9c6b55"
      },
      "source": [
        "!pip install mahotas"
      ],
      "execution_count": 2,
      "outputs": [
        {
          "output_type": "stream",
          "text": [
            "Requirement already satisfied: mahotas in /usr/local/lib/python3.6/dist-packages (1.4.10)\n",
            "Requirement already satisfied: numpy in /usr/local/lib/python3.6/dist-packages (from mahotas) (1.18.5)\n"
          ],
          "name": "stdout"
        }
      ]
    },
    {
      "cell_type": "code",
      "metadata": {
        "id": "wYo6yMKOjiJQ",
        "colab_type": "code",
        "colab": {}
      },
      "source": [
        "# Import the 'transform' module from 'skimage'\n",
        "from skimage import transform "
      ],
      "execution_count": 3,
      "outputs": []
    },
    {
      "cell_type": "code",
      "metadata": {
        "id": "La6dFeJujmZM",
        "colab_type": "code",
        "colab": {}
      },
      "source": [
        "# TensorFlow and tf.keras\n",
        "import tensorflow as tf\n",
        "from tensorflow import keras"
      ],
      "execution_count": 4,
      "outputs": []
    },
    {
      "cell_type": "code",
      "metadata": {
        "id": "5mOm3AQvCUp3",
        "colab_type": "code",
        "colab": {}
      },
      "source": [
        "# 03_ANN_NEW_DATA... only the grains in 882 are used for training \n",
        "#                    the ANN and segmented images are used to \n",
        "#                    train no-grain"
      ],
      "execution_count": 5,
      "outputs": []
    },
    {
      "cell_type": "markdown",
      "metadata": {
        "id": "HMDoD-W9CVol",
        "colab_type": "text"
      },
      "source": [
        "# 03_ANN_NEW_DATA... only the grains in 882 are used for training the ANN and segmented images are used to train no-grain"
      ]
    },
    {
      "cell_type": "code",
      "metadata": {
        "id": "LJAZpHlAi6Vq",
        "colab_type": "code",
        "colab": {
          "base_uri": "https://localhost:8080/",
          "height": 53
        },
        "outputId": "7666491c-acbc-45a4-ec9d-e26e9d1e1784"
      },
      "source": [
        "!git clone https://github.com/ucfilho/marquesgabi_Julho_2020_using\n",
        "%cd marquesgabi_Julho_2020_using\n",
        "Transfere='FotosTreino882_and_Segm.zip'\n",
        "file_name = zipfile.ZipFile(Transfere, 'r')\n",
        "file_name.extractall()"
      ],
      "execution_count": 6,
      "outputs": [
        {
          "output_type": "stream",
          "text": [
            "fatal: destination path 'marquesgabi_Julho_2020_using' already exists and is not an empty directory.\n",
            "/content/marquesgabi_Julho_2020_using\n"
          ],
          "name": "stdout"
        }
      ]
    },
    {
      "cell_type": "code",
      "metadata": {
        "id": "BYx5ot9RrYYt",
        "colab_type": "code",
        "colab": {}
      },
      "source": [
        "# First step: get the segmented file (photos stored in csv file)\n",
        "\n",
        "\n"
      ],
      "execution_count": 7,
      "outputs": []
    },
    {
      "cell_type": "markdown",
      "metadata": {
        "id": "j8Bl70iLs7FF",
        "colab_type": "text"
      },
      "source": [
        "# First step: get the segmented file (photos stored in csv file)"
      ]
    },
    {
      "cell_type": "code",
      "metadata": {
        "id": "C35MvO7VjUA0",
        "colab_type": "code",
        "colab": {}
      },
      "source": [
        "labels = [] #name files\n",
        "\n",
        "with zipfile.ZipFile(Transfere, \"r\") as f:\n",
        "  for f in f.namelist():\n",
        "    labels.append(f)"
      ],
      "execution_count": 8,
      "outputs": []
    },
    {
      "cell_type": "code",
      "metadata": {
        "id": "KuDx6iA-w0aW",
        "colab_type": "code",
        "colab": {}
      },
      "source": [
        "Num=len(labels)\n",
        "df=pd.read_csv(labels[0])\n",
        "for i in range(1,Num):\n",
        "  df_new=pd.read_csv(labels[i])\n",
        "  df_new = df_new[~df_new['Type'].isin(['G'])] # drop grain row which is not in 882\n",
        "  frames = [df, df_new]\n",
        "  df= pd.concat(frames, ignore_index=True)\n",
        "\n",
        "y_valor=df['Type']"
      ],
      "execution_count": 9,
      "outputs": []
    },
    {
      "cell_type": "code",
      "metadata": {
        "id": "DuwLJl-21LQt",
        "colab_type": "code",
        "colab": {
          "base_uri": "https://localhost:8080/",
          "height": 270
        },
        "outputId": "a42ee68f-bf7d-44f4-899e-fa0fb6b5334d"
      },
      "source": [
        "print(df)"
      ],
      "execution_count": 10,
      "outputs": [
        {
          "output_type": "stream",
          "text": [
            "     Unnamed: 0 Type          0  ...        782        783  Width\n",
            "0             0    G    0.00000  ...    0.68631    0.68769    NaN\n",
            "1             1    G    0.00000  ...    0.49262    0.50909    NaN\n",
            "2             2    G    0.45321  ...    0.54919    0.55439    NaN\n",
            "3             3    G    0.75367  ...    0.48524    0.61876    NaN\n",
            "4             4    G    0.94521  ...    0.98108    0.95838    NaN\n",
            "..          ...  ...        ...  ...        ...        ...    ...\n",
            "976           7    B   84.33883  ...    7.14600    7.38484  142.0\n",
            "977           8    I  104.73698  ...    2.05457    0.38150  163.0\n",
            "978           9    I   75.70248  ...  107.38844  106.00001  154.0\n",
            "979          10    I   56.64465  ...    3.15316    0.40107  187.0\n",
            "980          11    B  111.50165  ...    0.00000    0.00000  194.0\n",
            "\n",
            "[981 rows x 787 columns]\n"
          ],
          "name": "stdout"
        }
      ]
    },
    {
      "cell_type": "code",
      "metadata": {
        "id": "UwELp2Lv1NKY",
        "colab_type": "code",
        "colab": {
          "base_uri": "https://localhost:8080/",
          "height": 162
        },
        "outputId": "b41c4b80-7124-4799-f3fd-7c30c87dfe33"
      },
      "source": [
        "print(df.head())"
      ],
      "execution_count": 11,
      "outputs": [
        {
          "output_type": "stream",
          "text": [
            "   Unnamed: 0 Type        0        1  ...      781      782      783  Width\n",
            "0           0    G  0.00000  0.00000  ...  0.68642  0.68631  0.68769    NaN\n",
            "1           1    G  0.00000  0.00000  ...  0.47277  0.49262  0.50909    NaN\n",
            "2           2    G  0.45321  0.52257  ...  0.54645  0.54919  0.55439    NaN\n",
            "3           3    G  0.75367  0.64590  ...  0.43356  0.48524  0.61876    NaN\n",
            "4           4    G  0.94521  0.89736  ...  0.98942  0.98108  0.95838    NaN\n",
            "\n",
            "[5 rows x 787 columns]\n"
          ],
          "name": "stdout"
        }
      ]
    },
    {
      "cell_type": "code",
      "metadata": {
        "id": "cMCpdgC91ON0",
        "colab_type": "code",
        "colab": {
          "base_uri": "https://localhost:8080/",
          "height": 270
        },
        "outputId": "64746ae2-48f1-423c-b187-c576dff7da9f"
      },
      "source": [
        "print(df)"
      ],
      "execution_count": 12,
      "outputs": [
        {
          "output_type": "stream",
          "text": [
            "     Unnamed: 0 Type          0  ...        782        783  Width\n",
            "0             0    G    0.00000  ...    0.68631    0.68769    NaN\n",
            "1             1    G    0.00000  ...    0.49262    0.50909    NaN\n",
            "2             2    G    0.45321  ...    0.54919    0.55439    NaN\n",
            "3             3    G    0.75367  ...    0.48524    0.61876    NaN\n",
            "4             4    G    0.94521  ...    0.98108    0.95838    NaN\n",
            "..          ...  ...        ...  ...        ...        ...    ...\n",
            "976           7    B   84.33883  ...    7.14600    7.38484  142.0\n",
            "977           8    I  104.73698  ...    2.05457    0.38150  163.0\n",
            "978           9    I   75.70248  ...  107.38844  106.00001  154.0\n",
            "979          10    I   56.64465  ...    3.15316    0.40107  187.0\n",
            "980          11    B  111.50165  ...    0.00000    0.00000  194.0\n",
            "\n",
            "[981 rows x 787 columns]\n"
          ],
          "name": "stdout"
        }
      ]
    },
    {
      "cell_type": "code",
      "metadata": {
        "colab_type": "code",
        "id": "wq1CSlXUhjEv",
        "colab": {
          "base_uri": "https://localhost:8080/",
          "height": 162
        },
        "outputId": "0de9e683-7e6f-40f9-e589-b596b3e1e398"
      },
      "source": [
        "df_teste=pd.read_csv(labels[2])\n",
        "print(df_teste.head())"
      ],
      "execution_count": 13,
      "outputs": [
        {
          "output_type": "stream",
          "text": [
            "   Unnamed: 0  Width Type          0  ...       780       781        782        783\n",
            "0           0    157    I   71.90012  ...  49.57118  35.95513    7.75954    1.03862\n",
            "1           1    124    I  127.06763  ...  94.57544  98.71695  100.52861  100.84391\n",
            "2           2    182    G   87.10651  ...   5.33136   5.84024    5.89941    5.65089\n",
            "3           3    101    I   99.01176  ...  35.15087  41.39006   43.76875   44.09146\n",
            "4           4    183    I   56.30844  ...  52.96656  53.65711   53.44656   53.11703\n",
            "\n",
            "[5 rows x 787 columns]\n"
          ],
          "name": "stdout"
        }
      ]
    },
    {
      "cell_type": "code",
      "metadata": {
        "id": "nkMXproqxZig",
        "colab_type": "code",
        "colab": {
          "base_uri": "https://localhost:8080/",
          "height": 162
        },
        "outputId": "adf3afa8-a021-43bc-fa12-78ceeae678cf"
      },
      "source": [
        "print(df.tail())"
      ],
      "execution_count": 14,
      "outputs": [
        {
          "output_type": "stream",
          "text": [
            "     Unnamed: 0 Type          0  ...        782        783  Width\n",
            "976           7    B   84.33883  ...    7.14600    7.38484  142.0\n",
            "977           8    I  104.73698  ...    2.05457    0.38150  163.0\n",
            "978           9    I   75.70248  ...  107.38844  106.00001  154.0\n",
            "979          10    I   56.64465  ...    3.15316    0.40107  187.0\n",
            "980          11    B  111.50165  ...    0.00000    0.00000  194.0\n",
            "\n",
            "[5 rows x 787 columns]\n"
          ],
          "name": "stdout"
        }
      ]
    },
    {
      "cell_type": "code",
      "metadata": {
        "id": "TpuIGIU-pkiG",
        "colab_type": "code",
        "colab": {}
      },
      "source": [
        "Fotos=df.drop(['Unnamed: 0','Type','Width'], axis=1)"
      ],
      "execution_count": 15,
      "outputs": []
    },
    {
      "cell_type": "code",
      "metadata": {
        "id": "QYpsqk8iqOG2",
        "colab_type": "code",
        "colab": {}
      },
      "source": [
        "df=df.drop(['Unnamed: 0','Type','Width'], axis=1)"
      ],
      "execution_count": 16,
      "outputs": []
    },
    {
      "cell_type": "code",
      "metadata": {
        "id": "zfXvfb-n9LPp",
        "colab_type": "code",
        "colab": {
          "base_uri": "https://localhost:8080/",
          "height": 216
        },
        "outputId": "aae42e11-c189-41fd-a034-69af47912afb"
      },
      "source": [
        "print(df.describe())"
      ],
      "execution_count": 17,
      "outputs": [
        {
          "output_type": "stream",
          "text": [
            "                0           1           2  ...         781         782         783\n",
            "count  981.000000  981.000000  981.000000  ...  981.000000  981.000000  981.000000\n",
            "mean     7.834253    7.847765    7.784539  ...    5.294938    5.215285    5.291887\n",
            "std     23.507544   23.434137   23.360003  ...   18.945649   19.327633   19.863527\n",
            "min      0.000000    0.000000    0.000000  ...    0.000000    0.000000    0.000000\n",
            "25%      0.311510    0.309190    0.313200  ...    0.332510    0.336190    0.329620\n",
            "50%      0.499150    0.490170    0.490990  ...    0.483030    0.479810    0.489680\n",
            "75%      0.640190    0.644030    0.652580  ...    0.639650    0.640320    0.637210\n",
            "max    127.067630  126.206040  120.224750  ...  108.437500  114.958580  121.952670\n",
            "\n",
            "[8 rows x 784 columns]\n"
          ],
          "name": "stdout"
        }
      ]
    },
    {
      "cell_type": "code",
      "metadata": {
        "id": "X2PqY2SbzFI2",
        "colab_type": "code",
        "colab": {
          "base_uri": "https://localhost:8080/",
          "height": 35
        },
        "outputId": "462ed8ab-c08d-44e0-cf2a-f42b2b9c67ca"
      },
      "source": [
        "print(np.array(Fotos).shape )"
      ],
      "execution_count": 18,
      "outputs": [
        {
          "output_type": "stream",
          "text": [
            "(981, 784)\n"
          ],
          "name": "stdout"
        }
      ]
    },
    {
      "cell_type": "markdown",
      "metadata": {
        "id": "sDoUMG4vsmoa",
        "colab_type": "text"
      },
      "source": [
        "# Second step: create the ann to evaluate which is a grain in photos segmented\n"
      ]
    },
    {
      "cell_type": "code",
      "metadata": {
        "id": "qlX05oVmx3cY",
        "colab_type": "code",
        "colab": {}
      },
      "source": [
        "# only crop photos teach what is grain...."
      ],
      "execution_count": 19,
      "outputs": []
    },
    {
      "cell_type": "code",
      "metadata": {
        "id": "biuEDBlM4H_J",
        "colab_type": "code",
        "colab": {}
      },
      "source": [
        "images28=np.array(df)"
      ],
      "execution_count": 20,
      "outputs": []
    },
    {
      "cell_type": "code",
      "metadata": {
        "id": "G1FNc_PgKZ3o",
        "colab_type": "code",
        "colab": {}
      },
      "source": [
        "#print(y_valor)"
      ],
      "execution_count": 21,
      "outputs": []
    },
    {
      "cell_type": "code",
      "metadata": {
        "id": "PgZ5KNGh8mzN",
        "colab_type": "code",
        "colab": {}
      },
      "source": [
        "y_new=[]\n",
        "Grain=0\n",
        "Others=0\n",
        "Cont=-1\n",
        "Others_Local=[]\n",
        "Grain_Local=[]\n",
        "for x in y_valor:\n",
        "  Cont=Cont+1\n",
        "  if re.search('G', x):\n",
        "    y_new.append(1)\n",
        "    Grain=Grain+1\n",
        "    Grain_Local.append(Cont)\n",
        "  else:\n",
        "    y_new.append(2)\n",
        "    Others=Others+1\n",
        "    Others_Local.append(Cont)"
      ],
      "execution_count": 22,
      "outputs": []
    },
    {
      "cell_type": "code",
      "metadata": {
        "id": "q4IZyKSa_Xvv",
        "colab_type": "code",
        "colab": {
          "base_uri": "https://localhost:8080/",
          "height": 109
        },
        "outputId": "216c119a-c9e1-4422-8a1b-16599f52b664"
      },
      "source": [
        "print('Graos=',Grain)\n",
        "print('Others=',Others)\n",
        "print('Others local',Others_Local)\n",
        "print('Grain local',Grain_Local)\n",
        "\n",
        "sampled_list = random.sample(Others_Local,Grain)"
      ],
      "execution_count": 23,
      "outputs": [
        {
          "output_type": "stream",
          "text": [
            "Graos= 245\n",
            "Others= 736\n",
            "Others local [13, 14, 15, 16, 17, 18, 19, 20, 21, 22, 23, 24, 25, 26, 27, 28, 29, 30, 31, 32, 33, 34, 35, 44, 45, 46, 47, 48, 49, 50, 51, 52, 53, 54, 55, 56, 57, 58, 59, 60, 61, 62, 63, 64, 65, 66, 67, 68, 69, 70, 71, 77, 78, 79, 80, 81, 82, 83, 84, 85, 86, 87, 88, 89, 90, 91, 92, 93, 94, 95, 96, 97, 98, 99, 100, 101, 102, 103, 104, 105, 106, 107, 115, 116, 117, 118, 119, 120, 121, 122, 123, 124, 125, 126, 127, 128, 129, 130, 131, 132, 133, 134, 135, 136, 137, 138, 139, 140, 141, 142, 143, 150, 151, 152, 153, 154, 155, 156, 157, 158, 159, 160, 161, 162, 163, 164, 165, 166, 167, 168, 169, 174, 175, 176, 177, 178, 179, 180, 181, 182, 183, 184, 185, 186, 187, 188, 189, 190, 191, 192, 193, 194, 195, 196, 197, 198, 199, 200, 201, 202, 203, 204, 205, 214, 215, 216, 217, 218, 219, 220, 221, 222, 223, 224, 225, 226, 227, 228, 229, 230, 231, 232, 233, 234, 235, 236, 237, 238, 239, 240, 241, 250, 251, 252, 253, 254, 255, 256, 257, 258, 259, 260, 261, 262, 263, 264, 265, 266, 267, 277, 278, 279, 280, 281, 282, 283, 284, 285, 286, 287, 288, 289, 290, 291, 292, 293, 294, 295, 296, 297, 298, 299, 300, 301, 302, 303, 311, 312, 313, 314, 315, 316, 317, 318, 319, 320, 321, 322, 323, 324, 325, 326, 327, 328, 329, 330, 331, 332, 333, 334, 335, 336, 337, 338, 339, 346, 347, 348, 349, 350, 351, 352, 353, 354, 355, 356, 357, 358, 359, 360, 361, 362, 363, 364, 365, 381, 382, 383, 384, 385, 386, 387, 388, 389, 390, 391, 392, 393, 394, 395, 396, 397, 398, 399, 400, 401, 407, 408, 409, 410, 411, 412, 413, 414, 415, 416, 417, 418, 419, 420, 421, 422, 423, 424, 425, 426, 427, 443, 444, 445, 446, 447, 448, 449, 450, 451, 452, 453, 454, 455, 456, 457, 458, 459, 460, 461, 462, 463, 474, 475, 476, 477, 478, 479, 480, 481, 482, 483, 484, 485, 486, 487, 488, 489, 490, 491, 492, 493, 494, 495, 496, 497, 498, 499, 509, 510, 511, 512, 513, 514, 515, 516, 517, 518, 519, 520, 521, 522, 523, 524, 525, 526, 527, 528, 529, 530, 531, 532, 533, 534, 535, 545, 546, 547, 548, 549, 550, 551, 552, 553, 554, 555, 556, 557, 558, 559, 560, 561, 578, 579, 580, 581, 582, 583, 584, 585, 586, 587, 595, 596, 597, 598, 599, 600, 601, 602, 603, 604, 605, 606, 607, 608, 609, 610, 611, 612, 613, 614, 615, 616, 617, 618, 619, 620, 621, 622, 623, 633, 634, 635, 636, 637, 638, 639, 640, 641, 642, 643, 644, 645, 646, 647, 648, 649, 650, 651, 652, 653, 654, 655, 656, 657, 658, 659, 670, 671, 672, 673, 674, 675, 676, 677, 678, 679, 680, 681, 682, 683, 684, 685, 686, 687, 688, 689, 690, 691, 692, 693, 694, 695, 705, 706, 707, 708, 709, 710, 711, 712, 713, 714, 715, 716, 717, 718, 719, 720, 721, 722, 723, 724, 725, 726, 727, 728, 729, 730, 731, 740, 741, 742, 743, 744, 745, 746, 747, 748, 749, 750, 751, 752, 753, 754, 755, 756, 757, 771, 772, 773, 774, 775, 776, 777, 778, 779, 780, 781, 782, 783, 796, 797, 798, 799, 800, 801, 802, 803, 804, 805, 806, 807, 808, 809, 810, 811, 812, 813, 814, 815, 816, 817, 818, 819, 829, 830, 831, 832, 833, 834, 835, 836, 837, 838, 839, 840, 841, 842, 843, 844, 845, 846, 847, 848, 849, 850, 851, 852, 853, 854, 855, 864, 865, 866, 867, 868, 869, 870, 871, 872, 873, 874, 875, 876, 877, 878, 879, 880, 881, 882, 883, 884, 885, 886, 887, 888, 889, 890, 891, 892, 893, 894, 895, 896, 897, 898, 899, 900, 901, 902, 903, 904, 905, 906, 907, 908, 909, 910, 911, 912, 913, 914, 915, 916, 917, 918, 919, 920, 921, 922, 923, 924, 925, 926, 927, 928, 929, 930, 931, 932, 933, 934, 935, 936, 937, 938, 939, 940, 941, 942, 943, 944, 945, 946, 947, 948, 949, 950, 951, 952, 953, 954, 955, 956, 957, 958, 959, 960, 961, 962, 963, 964, 965, 966, 967, 968, 969, 970, 971, 972, 973, 974, 975, 976, 977, 978, 979, 980]\n",
            "Grain local [0, 1, 2, 3, 4, 5, 6, 7, 8, 9, 10, 11, 12, 36, 37, 38, 39, 40, 41, 42, 43, 72, 73, 74, 75, 76, 108, 109, 110, 111, 112, 113, 114, 144, 145, 146, 147, 148, 149, 170, 171, 172, 173, 206, 207, 208, 209, 210, 211, 212, 213, 242, 243, 244, 245, 246, 247, 248, 249, 268, 269, 270, 271, 272, 273, 274, 275, 276, 304, 305, 306, 307, 308, 309, 310, 340, 341, 342, 343, 344, 345, 366, 367, 368, 369, 370, 371, 372, 373, 374, 375, 376, 377, 378, 379, 380, 402, 403, 404, 405, 406, 428, 429, 430, 431, 432, 433, 434, 435, 436, 437, 438, 439, 440, 441, 442, 464, 465, 466, 467, 468, 469, 470, 471, 472, 473, 500, 501, 502, 503, 504, 505, 506, 507, 508, 536, 537, 538, 539, 540, 541, 542, 543, 544, 562, 563, 564, 565, 566, 567, 568, 569, 570, 571, 572, 573, 574, 575, 576, 577, 588, 589, 590, 591, 592, 593, 594, 624, 625, 626, 627, 628, 629, 630, 631, 632, 660, 661, 662, 663, 664, 665, 666, 667, 668, 669, 696, 697, 698, 699, 700, 701, 702, 703, 704, 732, 733, 734, 735, 736, 737, 738, 739, 758, 759, 760, 761, 762, 763, 764, 765, 766, 767, 768, 769, 770, 784, 785, 786, 787, 788, 789, 790, 791, 792, 793, 794, 795, 820, 821, 822, 823, 824, 825, 826, 827, 828, 856, 857, 858, 859, 860, 861, 862, 863]\n"
          ],
          "name": "stdout"
        }
      ]
    },
    {
      "cell_type": "code",
      "metadata": {
        "colab_type": "code",
        "id": "zvRB2ROqCgc6",
        "colab": {
          "base_uri": "https://localhost:8080/",
          "height": 91
        },
        "outputId": "b5938d54-d053-4465-acef-9e6ca61d0ca4"
      },
      "source": [
        "print('Graos=',Grain)\n",
        "print('Others=',Others)\n",
        "print('Others local',Others_Local)\n",
        "sampled_list = random.sample(Others_Local,Grain)\n"
      ],
      "execution_count": 24,
      "outputs": [
        {
          "output_type": "stream",
          "text": [
            "Graos= 245\n",
            "Others= 736\n",
            "Others local [13, 14, 15, 16, 17, 18, 19, 20, 21, 22, 23, 24, 25, 26, 27, 28, 29, 30, 31, 32, 33, 34, 35, 44, 45, 46, 47, 48, 49, 50, 51, 52, 53, 54, 55, 56, 57, 58, 59, 60, 61, 62, 63, 64, 65, 66, 67, 68, 69, 70, 71, 77, 78, 79, 80, 81, 82, 83, 84, 85, 86, 87, 88, 89, 90, 91, 92, 93, 94, 95, 96, 97, 98, 99, 100, 101, 102, 103, 104, 105, 106, 107, 115, 116, 117, 118, 119, 120, 121, 122, 123, 124, 125, 126, 127, 128, 129, 130, 131, 132, 133, 134, 135, 136, 137, 138, 139, 140, 141, 142, 143, 150, 151, 152, 153, 154, 155, 156, 157, 158, 159, 160, 161, 162, 163, 164, 165, 166, 167, 168, 169, 174, 175, 176, 177, 178, 179, 180, 181, 182, 183, 184, 185, 186, 187, 188, 189, 190, 191, 192, 193, 194, 195, 196, 197, 198, 199, 200, 201, 202, 203, 204, 205, 214, 215, 216, 217, 218, 219, 220, 221, 222, 223, 224, 225, 226, 227, 228, 229, 230, 231, 232, 233, 234, 235, 236, 237, 238, 239, 240, 241, 250, 251, 252, 253, 254, 255, 256, 257, 258, 259, 260, 261, 262, 263, 264, 265, 266, 267, 277, 278, 279, 280, 281, 282, 283, 284, 285, 286, 287, 288, 289, 290, 291, 292, 293, 294, 295, 296, 297, 298, 299, 300, 301, 302, 303, 311, 312, 313, 314, 315, 316, 317, 318, 319, 320, 321, 322, 323, 324, 325, 326, 327, 328, 329, 330, 331, 332, 333, 334, 335, 336, 337, 338, 339, 346, 347, 348, 349, 350, 351, 352, 353, 354, 355, 356, 357, 358, 359, 360, 361, 362, 363, 364, 365, 381, 382, 383, 384, 385, 386, 387, 388, 389, 390, 391, 392, 393, 394, 395, 396, 397, 398, 399, 400, 401, 407, 408, 409, 410, 411, 412, 413, 414, 415, 416, 417, 418, 419, 420, 421, 422, 423, 424, 425, 426, 427, 443, 444, 445, 446, 447, 448, 449, 450, 451, 452, 453, 454, 455, 456, 457, 458, 459, 460, 461, 462, 463, 474, 475, 476, 477, 478, 479, 480, 481, 482, 483, 484, 485, 486, 487, 488, 489, 490, 491, 492, 493, 494, 495, 496, 497, 498, 499, 509, 510, 511, 512, 513, 514, 515, 516, 517, 518, 519, 520, 521, 522, 523, 524, 525, 526, 527, 528, 529, 530, 531, 532, 533, 534, 535, 545, 546, 547, 548, 549, 550, 551, 552, 553, 554, 555, 556, 557, 558, 559, 560, 561, 578, 579, 580, 581, 582, 583, 584, 585, 586, 587, 595, 596, 597, 598, 599, 600, 601, 602, 603, 604, 605, 606, 607, 608, 609, 610, 611, 612, 613, 614, 615, 616, 617, 618, 619, 620, 621, 622, 623, 633, 634, 635, 636, 637, 638, 639, 640, 641, 642, 643, 644, 645, 646, 647, 648, 649, 650, 651, 652, 653, 654, 655, 656, 657, 658, 659, 670, 671, 672, 673, 674, 675, 676, 677, 678, 679, 680, 681, 682, 683, 684, 685, 686, 687, 688, 689, 690, 691, 692, 693, 694, 695, 705, 706, 707, 708, 709, 710, 711, 712, 713, 714, 715, 716, 717, 718, 719, 720, 721, 722, 723, 724, 725, 726, 727, 728, 729, 730, 731, 740, 741, 742, 743, 744, 745, 746, 747, 748, 749, 750, 751, 752, 753, 754, 755, 756, 757, 771, 772, 773, 774, 775, 776, 777, 778, 779, 780, 781, 782, 783, 796, 797, 798, 799, 800, 801, 802, 803, 804, 805, 806, 807, 808, 809, 810, 811, 812, 813, 814, 815, 816, 817, 818, 819, 829, 830, 831, 832, 833, 834, 835, 836, 837, 838, 839, 840, 841, 842, 843, 844, 845, 846, 847, 848, 849, 850, 851, 852, 853, 854, 855, 864, 865, 866, 867, 868, 869, 870, 871, 872, 873, 874, 875, 876, 877, 878, 879, 880, 881, 882, 883, 884, 885, 886, 887, 888, 889, 890, 891, 892, 893, 894, 895, 896, 897, 898, 899, 900, 901, 902, 903, 904, 905, 906, 907, 908, 909, 910, 911, 912, 913, 914, 915, 916, 917, 918, 919, 920, 921, 922, 923, 924, 925, 926, 927, 928, 929, 930, 931, 932, 933, 934, 935, 936, 937, 938, 939, 940, 941, 942, 943, 944, 945, 946, 947, 948, 949, 950, 951, 952, 953, 954, 955, 956, 957, 958, 959, 960, 961, 962, 963, 964, 965, 966, 967, 968, 969, 970, 971, 972, 973, 974, 975, 976, 977, 978, 979, 980]\n"
          ],
          "name": "stdout"
        }
      ]
    },
    {
      "cell_type": "code",
      "metadata": {
        "colab_type": "code",
        "id": "TgjoSbt0Chl-",
        "colab": {
          "base_uri": "https://localhost:8080/",
          "height": 109
        },
        "outputId": "d030f341-153c-4bd7-91ef-adf8e5b1c1ec"
      },
      "source": [
        "print('Graos=',Grain)\n",
        "print('Others=',Others)\n",
        "print('Others local',Others_Local)\n",
        "print('Grain local',Grain_Local)\n"
      ],
      "execution_count": 25,
      "outputs": [
        {
          "output_type": "stream",
          "text": [
            "Graos= 245\n",
            "Others= 736\n",
            "Others local [13, 14, 15, 16, 17, 18, 19, 20, 21, 22, 23, 24, 25, 26, 27, 28, 29, 30, 31, 32, 33, 34, 35, 44, 45, 46, 47, 48, 49, 50, 51, 52, 53, 54, 55, 56, 57, 58, 59, 60, 61, 62, 63, 64, 65, 66, 67, 68, 69, 70, 71, 77, 78, 79, 80, 81, 82, 83, 84, 85, 86, 87, 88, 89, 90, 91, 92, 93, 94, 95, 96, 97, 98, 99, 100, 101, 102, 103, 104, 105, 106, 107, 115, 116, 117, 118, 119, 120, 121, 122, 123, 124, 125, 126, 127, 128, 129, 130, 131, 132, 133, 134, 135, 136, 137, 138, 139, 140, 141, 142, 143, 150, 151, 152, 153, 154, 155, 156, 157, 158, 159, 160, 161, 162, 163, 164, 165, 166, 167, 168, 169, 174, 175, 176, 177, 178, 179, 180, 181, 182, 183, 184, 185, 186, 187, 188, 189, 190, 191, 192, 193, 194, 195, 196, 197, 198, 199, 200, 201, 202, 203, 204, 205, 214, 215, 216, 217, 218, 219, 220, 221, 222, 223, 224, 225, 226, 227, 228, 229, 230, 231, 232, 233, 234, 235, 236, 237, 238, 239, 240, 241, 250, 251, 252, 253, 254, 255, 256, 257, 258, 259, 260, 261, 262, 263, 264, 265, 266, 267, 277, 278, 279, 280, 281, 282, 283, 284, 285, 286, 287, 288, 289, 290, 291, 292, 293, 294, 295, 296, 297, 298, 299, 300, 301, 302, 303, 311, 312, 313, 314, 315, 316, 317, 318, 319, 320, 321, 322, 323, 324, 325, 326, 327, 328, 329, 330, 331, 332, 333, 334, 335, 336, 337, 338, 339, 346, 347, 348, 349, 350, 351, 352, 353, 354, 355, 356, 357, 358, 359, 360, 361, 362, 363, 364, 365, 381, 382, 383, 384, 385, 386, 387, 388, 389, 390, 391, 392, 393, 394, 395, 396, 397, 398, 399, 400, 401, 407, 408, 409, 410, 411, 412, 413, 414, 415, 416, 417, 418, 419, 420, 421, 422, 423, 424, 425, 426, 427, 443, 444, 445, 446, 447, 448, 449, 450, 451, 452, 453, 454, 455, 456, 457, 458, 459, 460, 461, 462, 463, 474, 475, 476, 477, 478, 479, 480, 481, 482, 483, 484, 485, 486, 487, 488, 489, 490, 491, 492, 493, 494, 495, 496, 497, 498, 499, 509, 510, 511, 512, 513, 514, 515, 516, 517, 518, 519, 520, 521, 522, 523, 524, 525, 526, 527, 528, 529, 530, 531, 532, 533, 534, 535, 545, 546, 547, 548, 549, 550, 551, 552, 553, 554, 555, 556, 557, 558, 559, 560, 561, 578, 579, 580, 581, 582, 583, 584, 585, 586, 587, 595, 596, 597, 598, 599, 600, 601, 602, 603, 604, 605, 606, 607, 608, 609, 610, 611, 612, 613, 614, 615, 616, 617, 618, 619, 620, 621, 622, 623, 633, 634, 635, 636, 637, 638, 639, 640, 641, 642, 643, 644, 645, 646, 647, 648, 649, 650, 651, 652, 653, 654, 655, 656, 657, 658, 659, 670, 671, 672, 673, 674, 675, 676, 677, 678, 679, 680, 681, 682, 683, 684, 685, 686, 687, 688, 689, 690, 691, 692, 693, 694, 695, 705, 706, 707, 708, 709, 710, 711, 712, 713, 714, 715, 716, 717, 718, 719, 720, 721, 722, 723, 724, 725, 726, 727, 728, 729, 730, 731, 740, 741, 742, 743, 744, 745, 746, 747, 748, 749, 750, 751, 752, 753, 754, 755, 756, 757, 771, 772, 773, 774, 775, 776, 777, 778, 779, 780, 781, 782, 783, 796, 797, 798, 799, 800, 801, 802, 803, 804, 805, 806, 807, 808, 809, 810, 811, 812, 813, 814, 815, 816, 817, 818, 819, 829, 830, 831, 832, 833, 834, 835, 836, 837, 838, 839, 840, 841, 842, 843, 844, 845, 846, 847, 848, 849, 850, 851, 852, 853, 854, 855, 864, 865, 866, 867, 868, 869, 870, 871, 872, 873, 874, 875, 876, 877, 878, 879, 880, 881, 882, 883, 884, 885, 886, 887, 888, 889, 890, 891, 892, 893, 894, 895, 896, 897, 898, 899, 900, 901, 902, 903, 904, 905, 906, 907, 908, 909, 910, 911, 912, 913, 914, 915, 916, 917, 918, 919, 920, 921, 922, 923, 924, 925, 926, 927, 928, 929, 930, 931, 932, 933, 934, 935, 936, 937, 938, 939, 940, 941, 942, 943, 944, 945, 946, 947, 948, 949, 950, 951, 952, 953, 954, 955, 956, 957, 958, 959, 960, 961, 962, 963, 964, 965, 966, 967, 968, 969, 970, 971, 972, 973, 974, 975, 976, 977, 978, 979, 980]\n",
            "Grain local [0, 1, 2, 3, 4, 5, 6, 7, 8, 9, 10, 11, 12, 36, 37, 38, 39, 40, 41, 42, 43, 72, 73, 74, 75, 76, 108, 109, 110, 111, 112, 113, 114, 144, 145, 146, 147, 148, 149, 170, 171, 172, 173, 206, 207, 208, 209, 210, 211, 212, 213, 242, 243, 244, 245, 246, 247, 248, 249, 268, 269, 270, 271, 272, 273, 274, 275, 276, 304, 305, 306, 307, 308, 309, 310, 340, 341, 342, 343, 344, 345, 366, 367, 368, 369, 370, 371, 372, 373, 374, 375, 376, 377, 378, 379, 380, 402, 403, 404, 405, 406, 428, 429, 430, 431, 432, 433, 434, 435, 436, 437, 438, 439, 440, 441, 442, 464, 465, 466, 467, 468, 469, 470, 471, 472, 473, 500, 501, 502, 503, 504, 505, 506, 507, 508, 536, 537, 538, 539, 540, 541, 542, 543, 544, 562, 563, 564, 565, 566, 567, 568, 569, 570, 571, 572, 573, 574, 575, 576, 577, 588, 589, 590, 591, 592, 593, 594, 624, 625, 626, 627, 628, 629, 630, 631, 632, 660, 661, 662, 663, 664, 665, 666, 667, 668, 669, 696, 697, 698, 699, 700, 701, 702, 703, 704, 732, 733, 734, 735, 736, 737, 738, 739, 758, 759, 760, 761, 762, 763, 764, 765, 766, 767, 768, 769, 770, 784, 785, 786, 787, 788, 789, 790, 791, 792, 793, 794, 795, 820, 821, 822, 823, 824, 825, 826, 827, 828, 856, 857, 858, 859, 860, 861, 862, 863]\n"
          ],
          "name": "stdout"
        }
      ]
    },
    {
      "cell_type": "code",
      "metadata": {
        "id": "HkM-s9TiCyLt",
        "colab_type": "code",
        "colab": {}
      },
      "source": [
        "x_new=[]\n",
        "y_rede=[]\n",
        "for i in range(Grain):\n",
        "  x_new.append(Fotos.iloc[Grain_Local[i]])\n",
        "  x_new.append(Fotos.iloc[sampled_list[i]])\n",
        "  y_rede.append(y_new[Grain_Local[i]])\n",
        "  y_rede.append(y_new[sampled_list[i]])\n"
      ],
      "execution_count": 26,
      "outputs": []
    },
    {
      "cell_type": "code",
      "metadata": {
        "id": "4qHR83qhGa0G",
        "colab_type": "code",
        "colab": {
          "base_uri": "https://localhost:8080/",
          "height": 35
        },
        "outputId": "06ed4031-26c8-427f-d218-0ab1f993e565"
      },
      "source": [
        "np.array(x_new).shape"
      ],
      "execution_count": 27,
      "outputs": [
        {
          "output_type": "execute_result",
          "data": {
            "text/plain": [
              "(490, 784)"
            ]
          },
          "metadata": {
            "tags": []
          },
          "execution_count": 27
        }
      ]
    },
    {
      "cell_type": "code",
      "metadata": {
        "id": "MZp3WDdEFu3I",
        "colab_type": "code",
        "colab": {}
      },
      "source": [
        "#pd.DataFrame(y_rede).describe()"
      ],
      "execution_count": 28,
      "outputs": []
    },
    {
      "cell_type": "code",
      "metadata": {
        "id": "Nb33el9Y9AXG",
        "colab_type": "code",
        "colab": {}
      },
      "source": [
        "# y_valor=np.copy(y_new)\n",
        "y_total=np.copy(y_rede)"
      ],
      "execution_count": 29,
      "outputs": []
    },
    {
      "cell_type": "code",
      "metadata": {
        "id": "MSs3qh0_uO94",
        "colab_type": "code",
        "colab": {}
      },
      "source": [
        "#Define data train and data test\n",
        "#images28=Fotos\n",
        "images28=x_new #Fotos\n",
        "W_train, W_test, yw_train, yw_test = train_test_split(np.array(images28), np.array(y_total), \n",
        "                                                    test_size=0.30, shuffle=True, \n",
        "                                                    random_state=42)"
      ],
      "execution_count": 30,
      "outputs": []
    },
    {
      "cell_type": "code",
      "metadata": {
        "id": "MGzcVt8V0ft2",
        "colab_type": "code",
        "colab": {
          "base_uri": "https://localhost:8080/",
          "height": 89
        },
        "outputId": "98dd3b3b-52ab-4708-ecb0-af2a935c4791"
      },
      "source": [
        "print(len(y_total))\n",
        "print(len(yw_test))\n",
        "print(len(yw_train))\n",
        "A=490*0.3\n",
        "print(A)"
      ],
      "execution_count": 31,
      "outputs": [
        {
          "output_type": "stream",
          "text": [
            "490\n",
            "147\n",
            "343\n",
            "147.0\n"
          ],
          "name": "stdout"
        }
      ]
    },
    {
      "cell_type": "code",
      "metadata": {
        "id": "pwHcagDGuow0",
        "colab_type": "code",
        "colab": {}
      },
      "source": [
        "train_images=W_train #imagens utilizadas para o treino\n",
        "train_labels=yw_train # resposta esperada para o treino\n",
        "test_images=W_test\n",
        "test_labels=yw_test"
      ],
      "execution_count": 32,
      "outputs": []
    },
    {
      "cell_type": "code",
      "metadata": {
        "id": "YEblnmBlsTMc",
        "colab_type": "code",
        "colab": {}
      },
      "source": [
        "#print(len(test_labels))"
      ],
      "execution_count": 33,
      "outputs": []
    },
    {
      "cell_type": "code",
      "metadata": {
        "id": "IWSEclzGurul",
        "colab_type": "code",
        "colab": {}
      },
      "source": [
        "model = keras.Sequential([\n",
        "    keras.layers.Flatten(input_shape=(28, 28)),\n",
        "    keras.layers.Dense(128, activation='relu'),\n",
        "    keras.layers.Dense(10)\n",
        "])"
      ],
      "execution_count": 34,
      "outputs": []
    },
    {
      "cell_type": "code",
      "metadata": {
        "id": "w88iZqfVusm0",
        "colab_type": "code",
        "colab": {}
      },
      "source": [
        "model.compile(optimizer='adam',\n",
        "              loss=tf.keras.losses.SparseCategoricalCrossentropy(from_logits=True),\n",
        "              metrics=['accuracy'])"
      ],
      "execution_count": 35,
      "outputs": []
    },
    {
      "cell_type": "code",
      "metadata": {
        "id": "a0MAtbvxuwQE",
        "colab_type": "code",
        "colab": {
          "base_uri": "https://localhost:8080/",
          "height": 1000
        },
        "outputId": "e5dbf0cb-6c61-492c-b3f6-d238c9042ee8"
      },
      "source": [
        "# GRAIN use crop photos other cases segmented\n",
        "model.fit(train_images, train_labels, epochs=200) "
      ],
      "execution_count": 36,
      "outputs": [
        {
          "output_type": "stream",
          "text": [
            "Epoch 1/200\n",
            "WARNING:tensorflow:Model was constructed with shape (None, 28, 28) for input Tensor(\"flatten_input:0\", shape=(None, 28, 28), dtype=float32), but it was called on an input with incompatible shape (None, 784).\n",
            "WARNING:tensorflow:Model was constructed with shape (None, 28, 28) for input Tensor(\"flatten_input:0\", shape=(None, 28, 28), dtype=float32), but it was called on an input with incompatible shape (None, 784).\n",
            "11/11 [==============================] - 0s 2ms/step - loss: 4.0388 - accuracy: 0.4606 \n",
            "Epoch 2/200\n",
            "11/11 [==============================] - 0s 2ms/step - loss: 1.2512 - accuracy: 0.5714\n",
            "Epoch 3/200\n",
            "11/11 [==============================] - 0s 2ms/step - loss: 1.1439 - accuracy: 0.5102\n",
            "Epoch 4/200\n",
            "11/11 [==============================] - 0s 2ms/step - loss: 0.9770 - accuracy: 0.5714\n",
            "Epoch 5/200\n",
            "11/11 [==============================] - 0s 2ms/step - loss: 0.9495 - accuracy: 0.5248\n",
            "Epoch 6/200\n",
            "11/11 [==============================] - 0s 2ms/step - loss: 0.7356 - accuracy: 0.5831\n",
            "Epoch 7/200\n",
            "11/11 [==============================] - 0s 2ms/step - loss: 1.2605 - accuracy: 0.5160\n",
            "Epoch 8/200\n",
            "11/11 [==============================] - 0s 2ms/step - loss: 1.7929 - accuracy: 0.5102\n",
            "Epoch 9/200\n",
            "11/11 [==============================] - 0s 2ms/step - loss: 0.8754 - accuracy: 0.5685\n",
            "Epoch 10/200\n",
            "11/11 [==============================] - 0s 2ms/step - loss: 0.6051 - accuracy: 0.6647\n",
            "Epoch 11/200\n",
            "11/11 [==============================] - 0s 2ms/step - loss: 0.6109 - accuracy: 0.6385\n",
            "Epoch 12/200\n",
            "11/11 [==============================] - 0s 2ms/step - loss: 0.5770 - accuracy: 0.7376\n",
            "Epoch 13/200\n",
            "11/11 [==============================] - 0s 2ms/step - loss: 1.1893 - accuracy: 0.5190\n",
            "Epoch 14/200\n",
            "11/11 [==============================] - 0s 3ms/step - loss: 0.7388 - accuracy: 0.6239\n",
            "Epoch 15/200\n",
            "11/11 [==============================] - 0s 2ms/step - loss: 0.6324 - accuracy: 0.6910\n",
            "Epoch 16/200\n",
            "11/11 [==============================] - 0s 2ms/step - loss: 0.8631 - accuracy: 0.5423\n",
            "Epoch 17/200\n",
            "11/11 [==============================] - 0s 2ms/step - loss: 0.5542 - accuracy: 0.6997\n",
            "Epoch 18/200\n",
            "11/11 [==============================] - 0s 3ms/step - loss: 0.8456 - accuracy: 0.5773\n",
            "Epoch 19/200\n",
            "11/11 [==============================] - 0s 2ms/step - loss: 0.8663 - accuracy: 0.5627\n",
            "Epoch 20/200\n",
            "11/11 [==============================] - 0s 2ms/step - loss: 0.5368 - accuracy: 0.7143\n",
            "Epoch 21/200\n",
            "11/11 [==============================] - 0s 2ms/step - loss: 0.4940 - accuracy: 0.7755\n",
            "Epoch 22/200\n",
            "11/11 [==============================] - 0s 2ms/step - loss: 0.4791 - accuracy: 0.7843\n",
            "Epoch 23/200\n",
            "11/11 [==============================] - 0s 2ms/step - loss: 0.4770 - accuracy: 0.7959\n",
            "Epoch 24/200\n",
            "11/11 [==============================] - 0s 2ms/step - loss: 0.4599 - accuracy: 0.8105\n",
            "Epoch 25/200\n",
            "11/11 [==============================] - 0s 2ms/step - loss: 0.4436 - accuracy: 0.7930\n",
            "Epoch 26/200\n",
            "11/11 [==============================] - 0s 2ms/step - loss: 0.4296 - accuracy: 0.8251\n",
            "Epoch 27/200\n",
            "11/11 [==============================] - 0s 2ms/step - loss: 0.4244 - accuracy: 0.8047\n",
            "Epoch 28/200\n",
            "11/11 [==============================] - 0s 2ms/step - loss: 0.4124 - accuracy: 0.8397\n",
            "Epoch 29/200\n",
            "11/11 [==============================] - 0s 2ms/step - loss: 0.4021 - accuracy: 0.8192\n",
            "Epoch 30/200\n",
            "11/11 [==============================] - 0s 2ms/step - loss: 0.3937 - accuracy: 0.8397\n",
            "Epoch 31/200\n",
            "11/11 [==============================] - 0s 2ms/step - loss: 0.3941 - accuracy: 0.8134\n",
            "Epoch 32/200\n",
            "11/11 [==============================] - 0s 2ms/step - loss: 0.4407 - accuracy: 0.8338\n",
            "Epoch 33/200\n",
            "11/11 [==============================] - 0s 2ms/step - loss: 1.7334 - accuracy: 0.5481\n",
            "Epoch 34/200\n",
            "11/11 [==============================] - 0s 2ms/step - loss: 0.9604 - accuracy: 0.6501\n",
            "Epoch 35/200\n",
            "11/11 [==============================] - 0s 2ms/step - loss: 1.5468 - accuracy: 0.6735\n",
            "Epoch 36/200\n",
            "11/11 [==============================] - 0s 2ms/step - loss: 2.6299 - accuracy: 0.5102\n",
            "Epoch 37/200\n",
            "11/11 [==============================] - 0s 2ms/step - loss: 1.2086 - accuracy: 0.6093\n",
            "Epoch 38/200\n",
            "11/11 [==============================] - 0s 2ms/step - loss: 0.4740 - accuracy: 0.7493\n",
            "Epoch 39/200\n",
            "11/11 [==============================] - 0s 2ms/step - loss: 0.4699 - accuracy: 0.7697\n",
            "Epoch 40/200\n",
            "11/11 [==============================] - 0s 2ms/step - loss: 0.4371 - accuracy: 0.7901\n",
            "Epoch 41/200\n",
            "11/11 [==============================] - 0s 2ms/step - loss: 0.4219 - accuracy: 0.8338\n",
            "Epoch 42/200\n",
            "11/11 [==============================] - 0s 2ms/step - loss: 0.4084 - accuracy: 0.8309\n",
            "Epoch 43/200\n",
            "11/11 [==============================] - 0s 2ms/step - loss: 0.4081 - accuracy: 0.7988\n",
            "Epoch 44/200\n",
            "11/11 [==============================] - 0s 2ms/step - loss: 0.4014 - accuracy: 0.8251\n",
            "Epoch 45/200\n",
            "11/11 [==============================] - 0s 2ms/step - loss: 0.3996 - accuracy: 0.8367\n",
            "Epoch 46/200\n",
            "11/11 [==============================] - 0s 2ms/step - loss: 0.3960 - accuracy: 0.8251\n",
            "Epoch 47/200\n",
            "11/11 [==============================] - 0s 2ms/step - loss: 0.3939 - accuracy: 0.8280\n",
            "Epoch 48/200\n",
            "11/11 [==============================] - 0s 2ms/step - loss: 0.3909 - accuracy: 0.8309\n",
            "Epoch 49/200\n",
            "11/11 [==============================] - 0s 2ms/step - loss: 0.3895 - accuracy: 0.8338\n",
            "Epoch 50/200\n",
            "11/11 [==============================] - 0s 2ms/step - loss: 0.3883 - accuracy: 0.8309\n",
            "Epoch 51/200\n",
            "11/11 [==============================] - 0s 2ms/step - loss: 0.3846 - accuracy: 0.8338\n",
            "Epoch 52/200\n",
            "11/11 [==============================] - 0s 2ms/step - loss: 0.3828 - accuracy: 0.8397\n",
            "Epoch 53/200\n",
            "11/11 [==============================] - 0s 2ms/step - loss: 0.3792 - accuracy: 0.8426\n",
            "Epoch 54/200\n",
            "11/11 [==============================] - 0s 2ms/step - loss: 0.3764 - accuracy: 0.8426\n",
            "Epoch 55/200\n",
            "11/11 [==============================] - 0s 2ms/step - loss: 0.3742 - accuracy: 0.8397\n",
            "Epoch 56/200\n",
            "11/11 [==============================] - 0s 2ms/step - loss: 0.3752 - accuracy: 0.8367\n",
            "Epoch 57/200\n",
            "11/11 [==============================] - 0s 2ms/step - loss: 0.3701 - accuracy: 0.8484\n",
            "Epoch 58/200\n",
            "11/11 [==============================] - 0s 2ms/step - loss: 0.3681 - accuracy: 0.8484\n",
            "Epoch 59/200\n",
            "11/11 [==============================] - 0s 2ms/step - loss: 0.3667 - accuracy: 0.8397\n",
            "Epoch 60/200\n",
            "11/11 [==============================] - 0s 2ms/step - loss: 0.3636 - accuracy: 0.8455\n",
            "Epoch 61/200\n",
            "11/11 [==============================] - 0s 2ms/step - loss: 0.3618 - accuracy: 0.8455\n",
            "Epoch 62/200\n",
            "11/11 [==============================] - 0s 2ms/step - loss: 0.3637 - accuracy: 0.8455\n",
            "Epoch 63/200\n",
            "11/11 [==============================] - 0s 2ms/step - loss: 0.3652 - accuracy: 0.8542\n",
            "Epoch 64/200\n",
            "11/11 [==============================] - 0s 2ms/step - loss: 0.3644 - accuracy: 0.8367\n",
            "Epoch 65/200\n",
            "11/11 [==============================] - 0s 2ms/step - loss: 0.3550 - accuracy: 0.8542\n",
            "Epoch 66/200\n",
            "11/11 [==============================] - 0s 2ms/step - loss: 0.3544 - accuracy: 0.8601\n",
            "Epoch 67/200\n",
            "11/11 [==============================] - 0s 2ms/step - loss: 0.3520 - accuracy: 0.8484\n",
            "Epoch 68/200\n",
            "11/11 [==============================] - 0s 2ms/step - loss: 0.3527 - accuracy: 0.8542\n",
            "Epoch 69/200\n",
            "11/11 [==============================] - 0s 2ms/step - loss: 0.3519 - accuracy: 0.8571\n",
            "Epoch 70/200\n",
            "11/11 [==============================] - 0s 2ms/step - loss: 0.3496 - accuracy: 0.8455\n",
            "Epoch 71/200\n",
            "11/11 [==============================] - 0s 2ms/step - loss: 0.3448 - accuracy: 0.8571\n",
            "Epoch 72/200\n",
            "11/11 [==============================] - 0s 2ms/step - loss: 0.3432 - accuracy: 0.8601\n",
            "Epoch 73/200\n",
            "11/11 [==============================] - 0s 2ms/step - loss: 0.3424 - accuracy: 0.8601\n",
            "Epoch 74/200\n",
            "11/11 [==============================] - 0s 2ms/step - loss: 0.3402 - accuracy: 0.8659\n",
            "Epoch 75/200\n",
            "11/11 [==============================] - 0s 2ms/step - loss: 0.3444 - accuracy: 0.8630\n",
            "Epoch 76/200\n",
            "11/11 [==============================] - 0s 2ms/step - loss: 0.3409 - accuracy: 0.8717\n",
            "Epoch 77/200\n",
            "11/11 [==============================] - 0s 2ms/step - loss: 0.3456 - accuracy: 0.8367\n",
            "Epoch 78/200\n",
            "11/11 [==============================] - 0s 2ms/step - loss: 0.3346 - accuracy: 0.8484\n",
            "Epoch 79/200\n",
            "11/11 [==============================] - 0s 2ms/step - loss: 0.3369 - accuracy: 0.8688\n",
            "Epoch 80/200\n",
            "11/11 [==============================] - 0s 2ms/step - loss: 0.3323 - accuracy: 0.8601\n",
            "Epoch 81/200\n",
            "11/11 [==============================] - 0s 2ms/step - loss: 0.3311 - accuracy: 0.8630\n",
            "Epoch 82/200\n",
            "11/11 [==============================] - 0s 2ms/step - loss: 0.3309 - accuracy: 0.8688\n",
            "Epoch 83/200\n",
            "11/11 [==============================] - 0s 2ms/step - loss: 0.3279 - accuracy: 0.8659\n",
            "Epoch 84/200\n",
            "11/11 [==============================] - 0s 2ms/step - loss: 0.3292 - accuracy: 0.8630\n",
            "Epoch 85/200\n",
            "11/11 [==============================] - 0s 2ms/step - loss: 0.3318 - accuracy: 0.8630\n",
            "Epoch 86/200\n",
            "11/11 [==============================] - 0s 2ms/step - loss: 1.0615 - accuracy: 0.6327\n",
            "Epoch 87/200\n",
            "11/11 [==============================] - 0s 2ms/step - loss: 0.5199 - accuracy: 0.7843\n",
            "Epoch 88/200\n",
            "11/11 [==============================] - 0s 2ms/step - loss: 1.4463 - accuracy: 0.6006\n",
            "Epoch 89/200\n",
            "11/11 [==============================] - 0s 2ms/step - loss: 0.6389 - accuracy: 0.7493\n",
            "Epoch 90/200\n",
            "11/11 [==============================] - 0s 2ms/step - loss: 0.4941 - accuracy: 0.7464\n",
            "Epoch 91/200\n",
            "11/11 [==============================] - 0s 2ms/step - loss: 0.3593 - accuracy: 0.8309\n",
            "Epoch 92/200\n",
            "11/11 [==============================] - 0s 3ms/step - loss: 0.3519 - accuracy: 0.8455\n",
            "Epoch 93/200\n",
            "11/11 [==============================] - 0s 2ms/step - loss: 0.3401 - accuracy: 0.8571\n",
            "Epoch 94/200\n",
            "11/11 [==============================] - 0s 2ms/step - loss: 0.3371 - accuracy: 0.8630\n",
            "Epoch 95/200\n",
            "11/11 [==============================] - 0s 2ms/step - loss: 0.3340 - accuracy: 0.8601\n",
            "Epoch 96/200\n",
            "11/11 [==============================] - 0s 3ms/step - loss: 0.3306 - accuracy: 0.8659\n",
            "Epoch 97/200\n",
            "11/11 [==============================] - 0s 2ms/step - loss: 0.3276 - accuracy: 0.8630\n",
            "Epoch 98/200\n",
            "11/11 [==============================] - 0s 2ms/step - loss: 0.3297 - accuracy: 0.8601\n",
            "Epoch 99/200\n",
            "11/11 [==============================] - 0s 2ms/step - loss: 0.3323 - accuracy: 0.8688\n",
            "Epoch 100/200\n",
            "11/11 [==============================] - 0s 2ms/step - loss: 0.3369 - accuracy: 0.8513\n",
            "Epoch 101/200\n",
            "11/11 [==============================] - 0s 2ms/step - loss: 0.3266 - accuracy: 0.8717\n",
            "Epoch 102/200\n",
            "11/11 [==============================] - 0s 2ms/step - loss: 0.3221 - accuracy: 0.8776\n",
            "Epoch 103/200\n",
            "11/11 [==============================] - 0s 2ms/step - loss: 0.3197 - accuracy: 0.8659\n",
            "Epoch 104/200\n",
            "11/11 [==============================] - 0s 2ms/step - loss: 0.3180 - accuracy: 0.8688\n",
            "Epoch 105/200\n",
            "11/11 [==============================] - 0s 2ms/step - loss: 0.3159 - accuracy: 0.8688\n",
            "Epoch 106/200\n",
            "11/11 [==============================] - 0s 2ms/step - loss: 0.3141 - accuracy: 0.8717\n",
            "Epoch 107/200\n",
            "11/11 [==============================] - 0s 2ms/step - loss: 0.3124 - accuracy: 0.8717\n",
            "Epoch 108/200\n",
            "11/11 [==============================] - 0s 2ms/step - loss: 0.3104 - accuracy: 0.8805\n",
            "Epoch 109/200\n",
            "11/11 [==============================] - 0s 2ms/step - loss: 0.3146 - accuracy: 0.8834\n",
            "Epoch 110/200\n",
            "11/11 [==============================] - 0s 2ms/step - loss: 0.3126 - accuracy: 0.8805\n",
            "Epoch 111/200\n",
            "11/11 [==============================] - 0s 2ms/step - loss: 0.3097 - accuracy: 0.8717\n",
            "Epoch 112/200\n",
            "11/11 [==============================] - 0s 2ms/step - loss: 0.3101 - accuracy: 0.8776\n",
            "Epoch 113/200\n",
            "11/11 [==============================] - 0s 2ms/step - loss: 0.3053 - accuracy: 0.8776\n",
            "Epoch 114/200\n",
            "11/11 [==============================] - 0s 2ms/step - loss: 0.3032 - accuracy: 0.8805\n",
            "Epoch 115/200\n",
            "11/11 [==============================] - 0s 2ms/step - loss: 0.3038 - accuracy: 0.8746\n",
            "Epoch 116/200\n",
            "11/11 [==============================] - 0s 2ms/step - loss: 0.2996 - accuracy: 0.8776\n",
            "Epoch 117/200\n",
            "11/11 [==============================] - 0s 2ms/step - loss: 0.2960 - accuracy: 0.8834\n",
            "Epoch 118/200\n",
            "11/11 [==============================] - 0s 2ms/step - loss: 0.2944 - accuracy: 0.8834\n",
            "Epoch 119/200\n",
            "11/11 [==============================] - 0s 2ms/step - loss: 0.2951 - accuracy: 0.8834\n",
            "Epoch 120/200\n",
            "11/11 [==============================] - 0s 2ms/step - loss: 0.2909 - accuracy: 0.8834\n",
            "Epoch 121/200\n",
            "11/11 [==============================] - 0s 2ms/step - loss: 0.2890 - accuracy: 0.8863\n",
            "Epoch 122/200\n",
            "11/11 [==============================] - 0s 2ms/step - loss: 0.2926 - accuracy: 0.8805\n",
            "Epoch 123/200\n",
            "11/11 [==============================] - 0s 2ms/step - loss: 0.2866 - accuracy: 0.8921\n",
            "Epoch 124/200\n",
            "11/11 [==============================] - 0s 2ms/step - loss: 0.2938 - accuracy: 0.8805\n",
            "Epoch 125/200\n",
            "11/11 [==============================] - 0s 2ms/step - loss: 0.3471 - accuracy: 0.8484\n",
            "Epoch 126/200\n",
            "11/11 [==============================] - 0s 2ms/step - loss: 2.3459 - accuracy: 0.5481\n",
            "Epoch 127/200\n",
            "11/11 [==============================] - 0s 2ms/step - loss: 0.7407 - accuracy: 0.7464\n",
            "Epoch 128/200\n",
            "11/11 [==============================] - 0s 2ms/step - loss: 0.9620 - accuracy: 0.7376\n",
            "Epoch 129/200\n",
            "11/11 [==============================] - 0s 2ms/step - loss: 0.7049 - accuracy: 0.7055\n",
            "Epoch 130/200\n",
            "11/11 [==============================] - 0s 2ms/step - loss: 0.5627 - accuracy: 0.7872\n",
            "Epoch 131/200\n",
            "11/11 [==============================] - 0s 2ms/step - loss: 2.9402 - accuracy: 0.5306\n",
            "Epoch 132/200\n",
            "11/11 [==============================] - 0s 2ms/step - loss: 1.9009 - accuracy: 0.5831\n",
            "Epoch 133/200\n",
            "11/11 [==============================] - 0s 2ms/step - loss: 0.3951 - accuracy: 0.8192\n",
            "Epoch 134/200\n",
            "11/11 [==============================] - 0s 2ms/step - loss: 0.8743 - accuracy: 0.7026\n",
            "Epoch 135/200\n",
            "11/11 [==============================] - 0s 2ms/step - loss: 0.8967 - accuracy: 0.6501\n",
            "Epoch 136/200\n",
            "11/11 [==============================] - 0s 2ms/step - loss: 0.3899 - accuracy: 0.8134\n",
            "Epoch 137/200\n",
            "11/11 [==============================] - 0s 2ms/step - loss: 0.3957 - accuracy: 0.8222\n",
            "Epoch 138/200\n",
            "11/11 [==============================] - 0s 2ms/step - loss: 0.3520 - accuracy: 0.8484\n",
            "Epoch 139/200\n",
            "11/11 [==============================] - 0s 2ms/step - loss: 0.3492 - accuracy: 0.8426\n",
            "Epoch 140/200\n",
            "11/11 [==============================] - 0s 2ms/step - loss: 0.3450 - accuracy: 0.8571\n",
            "Epoch 141/200\n",
            "11/11 [==============================] - 0s 2ms/step - loss: 0.3445 - accuracy: 0.8746\n",
            "Epoch 142/200\n",
            "11/11 [==============================] - 0s 2ms/step - loss: 0.3450 - accuracy: 0.8601\n",
            "Epoch 143/200\n",
            "11/11 [==============================] - 0s 2ms/step - loss: 0.3405 - accuracy: 0.8542\n",
            "Epoch 144/200\n",
            "11/11 [==============================] - 0s 2ms/step - loss: 0.3390 - accuracy: 0.8601\n",
            "Epoch 145/200\n",
            "11/11 [==============================] - 0s 2ms/step - loss: 0.3381 - accuracy: 0.8776\n",
            "Epoch 146/200\n",
            "11/11 [==============================] - 0s 2ms/step - loss: 0.3374 - accuracy: 0.8571\n",
            "Epoch 147/200\n",
            "11/11 [==============================] - 0s 3ms/step - loss: 0.3351 - accuracy: 0.8601\n",
            "Epoch 148/200\n",
            "11/11 [==============================] - 0s 2ms/step - loss: 0.3344 - accuracy: 0.8717\n",
            "Epoch 149/200\n",
            "11/11 [==============================] - 0s 2ms/step - loss: 0.3333 - accuracy: 0.8717\n",
            "Epoch 150/200\n",
            "11/11 [==============================] - 0s 2ms/step - loss: 0.3311 - accuracy: 0.8688\n",
            "Epoch 151/200\n",
            "11/11 [==============================] - 0s 2ms/step - loss: 0.3306 - accuracy: 0.8746\n",
            "Epoch 152/200\n",
            "11/11 [==============================] - 0s 2ms/step - loss: 0.3313 - accuracy: 0.8601\n",
            "Epoch 153/200\n",
            "11/11 [==============================] - 0s 2ms/step - loss: 0.3311 - accuracy: 0.8630\n",
            "Epoch 154/200\n",
            "11/11 [==============================] - 0s 2ms/step - loss: 0.3272 - accuracy: 0.8746\n",
            "Epoch 155/200\n",
            "11/11 [==============================] - 0s 2ms/step - loss: 0.3260 - accuracy: 0.8746\n",
            "Epoch 156/200\n",
            "11/11 [==============================] - 0s 2ms/step - loss: 0.3247 - accuracy: 0.8659\n",
            "Epoch 157/200\n",
            "11/11 [==============================] - 0s 2ms/step - loss: 0.3231 - accuracy: 0.8717\n",
            "Epoch 158/200\n",
            "11/11 [==============================] - 0s 2ms/step - loss: 0.3229 - accuracy: 0.8746\n",
            "Epoch 159/200\n",
            "11/11 [==============================] - 0s 2ms/step - loss: 0.3210 - accuracy: 0.8746\n",
            "Epoch 160/200\n",
            "11/11 [==============================] - 0s 2ms/step - loss: 0.3200 - accuracy: 0.8717\n",
            "Epoch 161/200\n",
            "11/11 [==============================] - 0s 2ms/step - loss: 0.3201 - accuracy: 0.8746\n",
            "Epoch 162/200\n",
            "11/11 [==============================] - 0s 2ms/step - loss: 0.3181 - accuracy: 0.8805\n",
            "Epoch 163/200\n",
            "11/11 [==============================] - 0s 2ms/step - loss: 0.3169 - accuracy: 0.8805\n",
            "Epoch 164/200\n",
            "11/11 [==============================] - 0s 2ms/step - loss: 0.3161 - accuracy: 0.8776\n",
            "Epoch 165/200\n",
            "11/11 [==============================] - 0s 2ms/step - loss: 0.3165 - accuracy: 0.8805\n",
            "Epoch 166/200\n",
            "11/11 [==============================] - 0s 2ms/step - loss: 0.3141 - accuracy: 0.8805\n",
            "Epoch 167/200\n",
            "11/11 [==============================] - 0s 2ms/step - loss: 0.3142 - accuracy: 0.8746\n",
            "Epoch 168/200\n",
            "11/11 [==============================] - 0s 2ms/step - loss: 0.3147 - accuracy: 0.8746\n",
            "Epoch 169/200\n",
            "11/11 [==============================] - 0s 2ms/step - loss: 0.3114 - accuracy: 0.8746\n",
            "Epoch 170/200\n",
            "11/11 [==============================] - 0s 3ms/step - loss: 0.3105 - accuracy: 0.8805\n",
            "Epoch 171/200\n",
            "11/11 [==============================] - 0s 2ms/step - loss: 0.3093 - accuracy: 0.8834\n",
            "Epoch 172/200\n",
            "11/11 [==============================] - 0s 2ms/step - loss: 0.3097 - accuracy: 0.8776\n",
            "Epoch 173/200\n",
            "11/11 [==============================] - 0s 2ms/step - loss: 0.3083 - accuracy: 0.8776\n",
            "Epoch 174/200\n",
            "11/11 [==============================] - 0s 2ms/step - loss: 0.3074 - accuracy: 0.8863\n",
            "Epoch 175/200\n",
            "11/11 [==============================] - 0s 2ms/step - loss: 0.3061 - accuracy: 0.8746\n",
            "Epoch 176/200\n",
            "11/11 [==============================] - 0s 2ms/step - loss: 0.3052 - accuracy: 0.8863\n",
            "Epoch 177/200\n",
            "11/11 [==============================] - 0s 2ms/step - loss: 0.3049 - accuracy: 0.8805\n",
            "Epoch 178/200\n",
            "11/11 [==============================] - 0s 2ms/step - loss: 0.3031 - accuracy: 0.8805\n",
            "Epoch 179/200\n",
            "11/11 [==============================] - 0s 2ms/step - loss: 0.3022 - accuracy: 0.8834\n",
            "Epoch 180/200\n",
            "11/11 [==============================] - 0s 2ms/step - loss: 0.3023 - accuracy: 0.8805\n",
            "Epoch 181/200\n",
            "11/11 [==============================] - 0s 2ms/step - loss: 0.3006 - accuracy: 0.8863\n",
            "Epoch 182/200\n",
            "11/11 [==============================] - 0s 2ms/step - loss: 0.3003 - accuracy: 0.8892\n",
            "Epoch 183/200\n",
            "11/11 [==============================] - 0s 2ms/step - loss: 0.2992 - accuracy: 0.8863\n",
            "Epoch 184/200\n",
            "11/11 [==============================] - 0s 2ms/step - loss: 0.2988 - accuracy: 0.8863\n",
            "Epoch 185/200\n",
            "11/11 [==============================] - 0s 2ms/step - loss: 0.2971 - accuracy: 0.8834\n",
            "Epoch 186/200\n",
            "11/11 [==============================] - 0s 2ms/step - loss: 0.2960 - accuracy: 0.8834\n",
            "Epoch 187/200\n",
            "11/11 [==============================] - 0s 2ms/step - loss: 0.2972 - accuracy: 0.8863\n",
            "Epoch 188/200\n",
            "11/11 [==============================] - 0s 2ms/step - loss: 0.2944 - accuracy: 0.8892\n",
            "Epoch 189/200\n",
            "11/11 [==============================] - 0s 2ms/step - loss: 0.2940 - accuracy: 0.8863\n",
            "Epoch 190/200\n",
            "11/11 [==============================] - 0s 2ms/step - loss: 0.2936 - accuracy: 0.8863\n",
            "Epoch 191/200\n",
            "11/11 [==============================] - 0s 2ms/step - loss: 0.2918 - accuracy: 0.8863\n",
            "Epoch 192/200\n",
            "11/11 [==============================] - 0s 2ms/step - loss: 0.2927 - accuracy: 0.8863\n",
            "Epoch 193/200\n",
            "11/11 [==============================] - 0s 2ms/step - loss: 0.2957 - accuracy: 0.8834\n",
            "Epoch 194/200\n",
            "11/11 [==============================] - 0s 2ms/step - loss: 0.2940 - accuracy: 0.8776\n",
            "Epoch 195/200\n",
            "11/11 [==============================] - 0s 2ms/step - loss: 0.2874 - accuracy: 0.8892\n",
            "Epoch 196/200\n",
            "11/11 [==============================] - 0s 2ms/step - loss: 0.2925 - accuracy: 0.8892\n",
            "Epoch 197/200\n",
            "11/11 [==============================] - 0s 2ms/step - loss: 0.2889 - accuracy: 0.8863\n",
            "Epoch 198/200\n",
            "11/11 [==============================] - 0s 2ms/step - loss: 0.2886 - accuracy: 0.8863\n",
            "Epoch 199/200\n",
            "11/11 [==============================] - 0s 2ms/step - loss: 0.2854 - accuracy: 0.8863\n",
            "Epoch 200/200\n",
            "11/11 [==============================] - 0s 2ms/step - loss: 0.2877 - accuracy: 0.8892\n"
          ],
          "name": "stdout"
        },
        {
          "output_type": "execute_result",
          "data": {
            "text/plain": [
              "<tensorflow.python.keras.callbacks.History at 0x7f906ee68c88>"
            ]
          },
          "metadata": {
            "tags": []
          },
          "execution_count": 36
        }
      ]
    },
    {
      "cell_type": "code",
      "metadata": {
        "id": "I0BTZBnKuy5p",
        "colab_type": "code",
        "colab": {}
      },
      "source": [
        "#ANN das imagens\n",
        "x=np.array(W_test)\n",
        "logits = model(x, training=False)\n",
        "prediction = tf.argmax(logits, axis=1, output_type=tf.int32)\n",
        "#print(prediction)"
      ],
      "execution_count": 37,
      "outputs": []
    },
    {
      "cell_type": "code",
      "metadata": {
        "id": "JRYwCufJyyTI",
        "colab_type": "code",
        "colab": {
          "base_uri": "https://localhost:8080/",
          "height": 144
        },
        "outputId": "fa8af7fe-ea99-4f74-d83f-9ba559a0e74b"
      },
      "source": [
        "print(x)"
      ],
      "execution_count": 38,
      "outputs": [
        {
          "output_type": "stream",
          "text": [
            "[[0.62516 0.67814 0.7257  ... 0.34312 0.32268 0.31357]\n",
            " [0.52206 0.51394 0.51079 ... 0.75293 0.64692 0.61091]\n",
            " [0.15494 0.1429  0.13764 ... 0.15702 0.08283 0.09974]\n",
            " ...\n",
            " [0.28489 0.28489 0.29007 ... 0.65457 0.56667 0.46355]\n",
            " [0.5801  0.59905 0.64345 ... 0.44491 0.43344 0.44076]\n",
            " [0.55431 0.55598 0.55389 ... 0.54527 0.55317 0.57701]]\n"
          ],
          "name": "stdout"
        }
      ]
    },
    {
      "cell_type": "code",
      "metadata": {
        "id": "wU-3mMSMu6a6",
        "colab_type": "code",
        "colab": {}
      },
      "source": [
        "y_valor=np.copy(yw_test)\n",
        "data = {'y_Actual': y_valor,\n",
        "        'y_Predicted': prediction\n",
        "        }  # este dado esta no formato de dicionario\n",
        "\n",
        "df = pd.DataFrame(data, columns=['y_Actual','y_Predicted'])\n",
        "#print (df)"
      ],
      "execution_count": 39,
      "outputs": []
    },
    {
      "cell_type": "code",
      "metadata": {
        "id": "u48SDVPavRwS",
        "colab_type": "code",
        "colab": {
          "base_uri": "https://localhost:8080/",
          "height": 89
        },
        "outputId": "4df29e8b-ae4f-497c-c4af-b76d44a84d49"
      },
      "source": [
        "confusion_matrix = pd.crosstab(df['y_Actual'], df['y_Predicted'], rownames=['Actual'], colnames=['Predicted'])\n",
        "print(confusion_matrix)"
      ],
      "execution_count": 40,
      "outputs": [
        {
          "output_type": "stream",
          "text": [
            "Predicted   1   2\n",
            "Actual           \n",
            "1          68   9\n",
            "2          10  60\n"
          ],
          "name": "stdout"
        }
      ]
    },
    {
      "cell_type": "code",
      "metadata": {
        "id": "hyU1PG434y8F",
        "colab_type": "code",
        "colab": {
          "base_uri": "https://localhost:8080/",
          "height": 180
        },
        "outputId": "495991ce-e566-4363-a368-42cfc409cbf3"
      },
      "source": [
        "y_true = df['y_Actual']\n",
        "y_pred = df['y_Predicted']\n",
        "print(sklearn.metrics.classification_report(y_true, y_pred))"
      ],
      "execution_count": 41,
      "outputs": [
        {
          "output_type": "stream",
          "text": [
            "              precision    recall  f1-score   support\n",
            "\n",
            "           1       0.87      0.88      0.88        77\n",
            "           2       0.87      0.86      0.86        70\n",
            "\n",
            "    accuracy                           0.87       147\n",
            "   macro avg       0.87      0.87      0.87       147\n",
            "weighted avg       0.87      0.87      0.87       147\n",
            "\n"
          ],
          "name": "stdout"
        }
      ]
    },
    {
      "cell_type": "code",
      "metadata": {
        "id": "uiD6Nl-JHqvu",
        "colab_type": "code",
        "colab": {}
      },
      "source": [
        "#"
      ],
      "execution_count": 42,
      "outputs": []
    },
    {
      "cell_type": "markdown",
      "metadata": {
        "id": "B3UfvtMqHzxM",
        "colab_type": "text"
      },
      "source": [
        "# Third step: testing ANN other segmented images"
      ]
    },
    {
      "cell_type": "code",
      "metadata": {
        "id": "MN7tnJfjHIdo",
        "colab_type": "code",
        "colab": {
          "base_uri": "https://localhost:8080/",
          "height": 53
        },
        "outputId": "7d2ea35c-6741-48cd-9c6a-aed12b79e0b2"
      },
      "source": [
        "!git clone https://github.com/ucfilho/marquesgabi_August_2020\n",
        "%cd marquesgabi_August_2020"
      ],
      "execution_count": 43,
      "outputs": [
        {
          "output_type": "stream",
          "text": [
            "fatal: destination path 'marquesgabi_August_2020' already exists and is not an empty directory.\n",
            "/content/marquesgabi_Julho_2020_using/marquesgabi_August_2020\n"
          ],
          "name": "stdout"
        }
      ]
    },
    {
      "cell_type": "code",
      "metadata": {
        "id": "TMdkCzS5HkG_",
        "colab_type": "code",
        "colab": {}
      },
      "source": [
        "Transfere='img28_all00.zip'\n",
        "file_name = zipfile.ZipFile(Transfere, 'r')\n",
        "file_name.extractall()"
      ],
      "execution_count": 44,
      "outputs": []
    },
    {
      "cell_type": "code",
      "metadata": {
        "id": "I9WiyyRrMTHX",
        "colab_type": "code",
        "colab": {}
      },
      "source": [
        "labels = [] #name files\n",
        "\n",
        "with zipfile.ZipFile(Transfere, \"r\") as f:\n",
        "  for f in f.namelist():\n",
        "    labels.append(f)"
      ],
      "execution_count": 45,
      "outputs": []
    },
    {
      "cell_type": "code",
      "metadata": {
        "id": "_MM9nDQtwsq4",
        "colab_type": "code",
        "colab": {
          "base_uri": "https://localhost:8080/",
          "height": 35
        },
        "outputId": "b4b2f0fe-abec-429f-b4ea-2314739554a8"
      },
      "source": [
        "df=pd.read_csv(labels[0])\n",
        "print(df.shape)"
      ],
      "execution_count": 46,
      "outputs": [
        {
          "output_type": "stream",
          "text": [
            "(150, 787)\n"
          ],
          "name": "stdout"
        }
      ]
    },
    {
      "cell_type": "code",
      "metadata": {
        "id": "DxWbtaIEKsSg",
        "colab_type": "code",
        "colab": {
          "base_uri": "https://localhost:8080/",
          "height": 162
        },
        "outputId": "58d45ec6-9bcb-41d7-a4cc-d286e0feaff9"
      },
      "source": [
        "df=pd.read_csv(labels[0])\n",
        "Width_All=df['Width']\n",
        "df=df.drop(['Unnamed: 0','Type','Width'], axis=1)\n",
        "print(df.head())"
      ],
      "execution_count": 47,
      "outputs": [
        {
          "output_type": "stream",
          "text": [
            "          0         1         2  ...        781       782       783\n",
            "0  61.14508  60.20605  63.89233  ...   87.26298  86.56084  70.53898\n",
            "1  54.96550  56.12730  56.46103  ...    6.09697   6.10529   6.17609\n",
            "2  81.32749  86.75936  93.59119  ...  104.26302  98.95892  98.95303\n",
            "3   0.39589   0.51145   0.68329  ...   60.38241  58.77369  57.35922\n",
            "4  48.26560  49.34269  51.20098  ...   86.94305  86.16422  92.14825\n",
            "\n",
            "[5 rows x 784 columns]\n"
          ],
          "name": "stdout"
        }
      ]
    },
    {
      "cell_type": "markdown",
      "metadata": {
        "id": "u4f7NjosMyYG",
        "colab_type": "text"
      },
      "source": [
        "# Fourth step test ANN for data to be used for PSD (Particle size distribution) determination"
      ]
    },
    {
      "cell_type": "code",
      "metadata": {
        "id": "OqQ2_G5_5KhB",
        "colab_type": "code",
        "colab": {}
      },
      "source": [
        "# Mahotas used: marquesgabi_fev_2020/02_Mahotas_fracionado_fev_20_2020.ipynb"
      ],
      "execution_count": 48,
      "outputs": []
    },
    {
      "cell_type": "code",
      "metadata": {
        "id": "CNesWgX1-gqp",
        "colab_type": "code",
        "colab": {
          "base_uri": "https://localhost:8080/",
          "height": 53
        },
        "outputId": "8c89de8c-d907-46e4-9d90-e433e2943de5"
      },
      "source": [
        "!git clone https://github.com/ucfilho/marquesgabi_fev_2020 #clonar do Github\n",
        "%cd marquesgabi_fev_2020"
      ],
      "execution_count": 49,
      "outputs": [
        {
          "output_type": "stream",
          "text": [
            "fatal: destination path 'marquesgabi_fev_2020' already exists and is not an empty directory.\n",
            "/content/marquesgabi_Julho_2020_using/marquesgabi_August_2020/marquesgabi_fev_2020\n"
          ],
          "name": "stdout"
        }
      ]
    },
    {
      "cell_type": "code",
      "metadata": {
        "id": "UAjAyirk5XtD",
        "colab_type": "code",
        "colab": {}
      },
      "source": [
        "import mahotas.features.texture as mht\n",
        "import mahotas.features\n",
        "from skimage import filters\n",
        "from skimage import exposure\n",
        "import skimage.feature as sk\n",
        "from google.colab import files\n",
        "from numpy import linalg as LA\n",
        "from scipy import stats\n",
        "from scipy.signal import find_peaks\n",
        "from scipy.signal import peak_prominences\n",
        "from scipy.signal import peak_widths\n",
        "from scipy import integrate\n",
        "import re\n",
        "import Go2BlackWhite\n",
        "import Go2Mahotas"
      ],
      "execution_count": 50,
      "outputs": []
    },
    {
      "cell_type": "code",
      "metadata": {
        "id": "P3ktDsN-851A",
        "colab_type": "code",
        "colab": {}
      },
      "source": [
        "\n",
        "Escolha=['ASM', 'constrast', 'correl', 'variance', 'inv diff mom', 'sum aveg', \n",
        "         'sum var', 'sum entropy', 'entropy', 'dif var', 'dif entropy', \n",
        "         'IMC1', 'IMC2']\n",
        "\n",
        "Prop=Escolha[1] # Propriedade a escolher para ter picos, largura de pico, proeminencia,..."
      ],
      "execution_count": 51,
      "outputs": []
    },
    {
      "cell_type": "code",
      "metadata": {
        "id": "N_BbzDjxPjaS",
        "colab_type": "code",
        "colab": {}
      },
      "source": [
        "#ANN das imagens\n",
        "x=np.array(df)\n",
        "logits = model(x, training=False)\n",
        "prediction = tf.argmax(logits, axis=1, output_type=tf.int32)\n",
        "#print(prediction)"
      ],
      "execution_count": 52,
      "outputs": []
    },
    {
      "cell_type": "code",
      "metadata": {
        "id": "1Z8keSNCQLCu",
        "colab_type": "code",
        "colab": {
          "base_uri": "https://localhost:8080/",
          "height": 35
        },
        "outputId": "1e46ee1b-6465-48d5-b11e-3ebe8f1be199"
      },
      "source": [
        "y=np.array(prediction)\n",
        "Num=len(y)\n",
        "print(Num)"
      ],
      "execution_count": 53,
      "outputs": [
        {
          "output_type": "stream",
          "text": [
            "150\n"
          ],
          "name": "stdout"
        }
      ]
    },
    {
      "cell_type": "code",
      "metadata": {
        "id": "jeI5CgqMVIy_",
        "colab_type": "code",
        "colab": {
          "base_uri": "https://localhost:8080/",
          "height": 107
        },
        "outputId": "a0a52a64-9968-4460-fa1d-d654b757969b"
      },
      "source": [
        "print(y)"
      ],
      "execution_count": 54,
      "outputs": [
        {
          "output_type": "stream",
          "text": [
            "[2 2 2 2 2 2 2 2 2 2 2 2 2 2 2 2 2 2 2 2 1 1 2 2 2 2 2 2 2 1 2 2 2 2 2 2 1\n",
            " 2 2 2 2 2 2 2 2 2 2 2 2 2 2 2 1 2 2 2 1 2 2 2 2 2 1 2 2 2 2 2 1 2 1 2 2 1\n",
            " 2 2 2 2 2 2 2 2 2 2 2 2 2 1 2 2 2 2 2 2 2 2 2 2 1 2 2 2 2 2 2 2 2 2 2 2 2\n",
            " 2 2 2 2 2 1 2 2 2 2 2 2 2 2 2 2 2 2 2 2 1 2 2 2 2 2 2 2 2 2 2 2 2 1 2 2 2\n",
            " 2 2]\n"
          ],
          "name": "stdout"
        }
      ]
    },
    {
      "cell_type": "code",
      "metadata": {
        "id": "oFxdeNNzQylf",
        "colab_type": "code",
        "colab": {
          "base_uri": "https://localhost:8080/",
          "height": 421
        },
        "outputId": "81090e8a-c59c-4ff5-d8f2-8d8540704d94"
      },
      "source": [
        "# select just the grains to show picture\n",
        "grain=[]\n",
        "Mahotas_Prop=[]\n",
        "Todas_Fotos=[] \n",
        "\n",
        "img28_all=pd.DataFrame(x)\n",
        "Width_Grain_2=[]\n",
        "\n",
        "Size=28 # tamanho da foto\n",
        "Sub_Size=int(Size/5) # tamanho do fracionamento\n",
        "Row_Crop=1/2 # posicao do corte\n",
        "#Row_Crop=1/3 # posicao do corte\n",
        "Crop=int(Size*Row_Crop)\n",
        "\n",
        "\n",
        "for i in range(Num):\n",
        "  if(y[i]==1):\n",
        "    grain.append(i)\n",
        "    Width_Grain_2.append(Width_All[i])\n",
        "\n",
        "cont=0 # \n",
        "cols=5\n",
        "rows=int(len(grain)/cols)+1\n",
        "Grao_in_All28=[]\n",
        "\n",
        "for i in range(Num):\n",
        "  if(y[i]==1):\n",
        "    Grao_in_All28.append(i)\n",
        "    cont=cont+1\n",
        "    plt.subplot(rows,cols,cont) # subplot not allow cont=0\n",
        "    plt.xticks([])\n",
        "    plt.yticks([])\n",
        "    plt.grid(False)\n",
        "    Foto=np.array(img28_all.iloc[i]).reshape(28,28)\n",
        "    plt.imshow(Foto, cmap = \"gray\")\n",
        "    plt.xlabel(i)\n",
        "\n",
        "    Prop_Escolhida=[]\n",
        "    \n",
        "    # p_foto=ww[k].reshape(Size,Size)\n",
        "    p_foto=Foto\n",
        "    GLCM=[]\n",
        "    glcm_haralick=[]\n",
        "    x_ref=[]\n",
        "    Count=Sub_Size\n",
        "    p=np.zeros((Sub_Size,Sub_Size))\n",
        "    j_ref=0\n",
        "    Cada_foto=[]\n",
        "    Posicao_X=[]\n",
        "    Posicao_Y=[]\n",
        "    for k in range(Size):\n",
        "      if((k+Sub_Size-1)<Size):\n",
        "        #print(\"(k+Sub_Size)=\",(k+Sub_Size),\"k=\",k)\n",
        "        for i in range(Sub_Size):\n",
        "          Posicao_X.append(Crop+i)\n",
        "          for j in range(Sub_Size):\n",
        "            p[i,j]=p_foto[Crop+i,j+k]\n",
        "            Posicao_Y.append(j+k)\n",
        "\n",
        "        WW=np.copy(p) \n",
        "        Cada_foto.append(WW.ravel())\n",
        "        x_ref.append(Count-Sub_Size)\n",
        "        Count=Count+1\n",
        "      \n",
        "        Mahotas =pd.DataFrame(mahotas.features.haralick(p.astype(int)), columns =Escolha)\n",
        "        Prop_Escolhida.append(Mahotas[Prop].mean())\n",
        "\n",
        "    Todas_Fotos.append(Prop_Escolhida)\n",
        "\n",
        "df_mahotas=pd.DataFrame(Todas_Fotos)\n",
        "\n",
        "plt.subplots_adjust(bottom=0.1, right=1.2, top=2,hspace=0.3, wspace=0.1)"
      ],
      "execution_count": 55,
      "outputs": [
        {
          "output_type": "display_data",
          "data": {
            "image/png": "[encoded data removed]",
            "text/plain": [
              "<Figure size 432x288 with 15 Axes>"
            ]
          },
          "metadata": {
            "tags": []
          }
        }
      ]
    },
    {
      "cell_type": "code",
      "metadata": {
        "id": "ctD7cxXR6tZf",
        "colab_type": "code",
        "colab": {
          "base_uri": "https://localhost:8080/",
          "height": 343
        },
        "outputId": "f1b59bf0-9a23-4cf6-e3b8-f2b66292356a"
      },
      "source": [
        "print(df_mahotas)"
      ],
      "execution_count": 56,
      "outputs": [
        {
          "output_type": "stream",
          "text": [
            "            0            1            2   ...          21          22          23\n",
            "0   792.006250  1178.500000  1179.603125  ...   54.609375   49.796875   44.356250\n",
            "1   232.918750    28.193750   103.018750  ...   12.550000   13.806250   11.634375\n",
            "2    32.578125    30.650000    22.793750  ...  305.534375  164.243750   13.253125\n",
            "3    38.546875    46.821875    57.181250  ...   97.378125   31.246875   15.221875\n",
            "4    16.043750    31.578125    37.318750  ...  645.328125  409.193750  157.218750\n",
            "5    94.071875   118.943750   126.446875  ...  636.143750  547.806250  325.096875\n",
            "6    37.565625    23.587500    17.753125  ...  128.203125  176.621875  174.328125\n",
            "7    44.884375    27.321875    32.496875  ...  473.128125  321.856250   30.665625\n",
            "8   152.050000   196.825000   383.678125  ...  210.450000  202.884375   29.221875\n",
            "9   114.512500   135.787500   146.418750  ...  611.093750  464.553125  215.062500\n",
            "10   53.331250    22.168750    18.365625  ...   18.528125   12.415625   10.865625\n",
            "11   10.437500     9.231250     8.175000  ...    4.362500   19.565625   55.203125\n",
            "12  114.512500   135.787500   146.418750  ...  611.093750  464.553125  215.062500\n",
            "13    5.031250     3.621875     1.962500  ...  495.993750  618.518750  614.512500\n",
            "14   97.756250    84.600000    55.037500  ...  174.425000  330.271875  632.425000\n",
            "\n",
            "[15 rows x 24 columns]\n"
          ],
          "name": "stdout"
        }
      ]
    },
    {
      "cell_type": "code",
      "metadata": {
        "id": "JU2tWkqICxsn",
        "colab_type": "code",
        "colab": {
          "base_uri": "https://localhost:8080/",
          "height": 282
        },
        "outputId": "e5b8298a-f97e-459e-a2d4-e7c51ae1dd66"
      },
      "source": [
        "rows=1;cols=2\n",
        "k=8\n",
        "plt.subplot(rows,cols,1)\n",
        "plt.plot(df_mahotas.iloc[k])\n",
        "Foto=np.array(img28_all.iloc[Grao_in_All28[k]]).reshape(28,28)\n",
        "plt.subplot(rows,cols,2)\n",
        "plt.imshow(Foto, cmap = \"gray\")"
      ],
      "execution_count": 57,
      "outputs": [
        {
          "output_type": "execute_result",
          "data": {
            "text/plain": [
              "<matplotlib.image.AxesImage at 0x7f905d233278>"
            ]
          },
          "metadata": {
            "tags": []
          },
          "execution_count": 57
        },
        {
          "output_type": "display_data",
          "data": {
            "image/png": "[encoded data removed]",
            "text/plain": [
              "<Figure size 432x288 with 2 Axes>"
            ]
          },
          "metadata": {
            "tags": [],
            "needs_background": "light"
          }
        }
      ]
    },
    {
      "cell_type": "code",
      "metadata": {
        "id": "K1mMdsBdtCxF",
        "colab_type": "code",
        "colab": {
          "base_uri": "https://localhost:8080/",
          "height": 35
        },
        "outputId": "1302ad50-b7da-4b2c-9817-c54400322153"
      },
      "source": [
        "print(Width_Grain_2)"
      ],
      "execution_count": 58,
      "outputs": [
        {
          "output_type": "stream",
          "text": [
            "[141, 111, 137, 175, 196, 200, 119, 187, 114, 194, 118, 194, 194, 111, 196]\n"
          ],
          "name": "stdout"
        }
      ]
    },
    {
      "cell_type": "code",
      "metadata": {
        "id": "UdLe_4CpYgQK",
        "colab_type": "code",
        "colab": {}
      },
      "source": [
        "Width_Grain=Width_All.iloc[grain]"
      ],
      "execution_count": 59,
      "outputs": []
    },
    {
      "cell_type": "code",
      "metadata": {
        "id": "wuv-ZqzBO5gG",
        "colab_type": "code",
        "colab": {
          "base_uri": "https://localhost:8080/",
          "height": 35
        },
        "outputId": "0279b346-ad1b-4504-ec94-132f328d67be"
      },
      "source": [
        "Width_Grain=np.array(Width_Grain) # passando de Serie (dataframe 1d) para np.array\n",
        "print(Width_Grain) \n"
      ],
      "execution_count": 60,
      "outputs": [
        {
          "output_type": "stream",
          "text": [
            "[141 111 137 175 196 200 119 187 114 194 118 194 194 111 196]\n"
          ],
          "name": "stdout"
        }
      ]
    },
    {
      "cell_type": "code",
      "metadata": {
        "id": "eiaxgbsoO3nB",
        "colab_type": "code",
        "colab": {
          "base_uri": "https://localhost:8080/",
          "height": 35
        },
        "outputId": "6956bc7c-178b-41c9-afc9-847d1cd814ee"
      },
      "source": [
        "print(Width_Grain_2) # lista : tem virgula entre os elementos"
      ],
      "execution_count": 61,
      "outputs": [
        {
          "output_type": "stream",
          "text": [
            "[141, 111, 137, 175, 196, 200, 119, 187, 114, 194, 118, 194, 194, 111, 196]\n"
          ],
          "name": "stdout"
        }
      ]
    },
    {
      "cell_type": "markdown",
      "metadata": {
        "id": "HbBBcNo46AWy",
        "colab_type": "text"
      },
      "source": [
        "# Fifth step create classes"
      ]
    },
    {
      "cell_type": "code",
      "metadata": {
        "id": "7j23MjtE57Gt",
        "colab_type": "code",
        "colab": {
          "base_uri": "https://localhost:8080/",
          "height": 35
        },
        "outputId": "81b7dca0-2464-4a23-a591-9da9d7285992"
      },
      "source": [
        "Width_bounds=[100,200]\n",
        "N_Class=4\n",
        "Class=[]\n",
        "a=Width_bounds[0]\n",
        "b=Width_bounds[1]\n",
        "delta_ab=(b-a)/N_Class\n",
        "for i in range(N_Class-1):\n",
        "  valor=a+delta_ab*(i+1)\n",
        "  Class.append(valor)\n",
        "\n",
        "print(Class)"
      ],
      "execution_count": 62,
      "outputs": [
        {
          "output_type": "stream",
          "text": [
            "[125.0, 150.0, 175.0]\n"
          ],
          "name": "stdout"
        }
      ]
    },
    {
      "cell_type": "code",
      "metadata": {
        "id": "qf-sX8qd6s8L",
        "colab_type": "code",
        "colab": {
          "base_uri": "https://localhost:8080/",
          "height": 35
        },
        "outputId": "51d03203-f2c1-41fe-ba9c-2ea9cdab6288"
      },
      "source": [
        "Num=len(Width_Grain)\n",
        "count=[0,0,0,0]\n",
        "Hist_Width=[]\n",
        "for i in range(Num):\n",
        "  if(Width_Grain[i]<Class[0]):\n",
        "    count[0]=count[0]+1\n",
        "    Hist_Width.append(0)\n",
        "  elif(Width_Grain[i]<Class[1]):\n",
        "    count[1]=count[1]+1\n",
        "    Hist_Width.append(1)\n",
        "  elif(Width_Grain[i]<Class[2]):\n",
        "    count[2]=count[2]+1\n",
        "    Hist_Width.append(2)\n",
        "  else:\n",
        "    count[3]=count[3]+1\n",
        "    Hist_Width.append(3)\n",
        "\n",
        "print(count)"
      ],
      "execution_count": 63,
      "outputs": [
        {
          "output_type": "stream",
          "text": [
            "[5, 2, 0, 8]\n"
          ],
          "name": "stdout"
        }
      ]
    }
  ]
}