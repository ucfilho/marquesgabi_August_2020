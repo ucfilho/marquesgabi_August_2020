{
  "nbformat": 4,
  "nbformat_minor": 0,
  "metadata": {
    "colab": {
      "name": "04_ANN_NEW_DATA_CLASSIFICA_ago_04_2020.ipynb",
      "provenance": [],
      "collapsed_sections": [],
      "include_colab_link": true
    },
    "kernelspec": {
      "name": "python3",
      "display_name": "Python 3"
    }
  },
  "cells": [
    {
      "cell_type": "markdown",
      "metadata": {
        "id": "view-in-github",
        "colab_type": "text"
      },
      "source": [
        "<a href=\"https://colab.research.google.com/github/ucfilho/marquesgabi_August_2020/blob/master/04_ANN_NEW_DATA_CLASSIFICA_ago_04_2020.ipynb\" target=\"_parent\"><img src=\"https://colab.research.google.com/assets/colab-badge.svg\" alt=\"Open In Colab\"/></a>"
      ]
    },
    {
      "cell_type": "code",
      "metadata": {
        "id": "Sog7Z9pyhUD_",
        "colab_type": "code",
        "colab": {}
      },
      "source": [
        "import matplotlib.pyplot as plt\n",
        "import random\n",
        "import numpy as np\n",
        "import cv2\n",
        "import zipfile\n",
        "from random import randint\n",
        "from PIL import Image\n",
        "import re\n",
        "from sklearn.model_selection import train_test_split\n",
        "#import scikit-image\n",
        "import skimage\n",
        "import pandas as pd\n",
        "import sklearn\n"
      ],
      "execution_count": 1,
      "outputs": []
    },
    {
      "cell_type": "code",
      "metadata": {
        "id": "wYo6yMKOjiJQ",
        "colab_type": "code",
        "colab": {}
      },
      "source": [
        "# Import the 'transform' module from 'skimage'\n",
        "from skimage import transform "
      ],
      "execution_count": 2,
      "outputs": []
    },
    {
      "cell_type": "code",
      "metadata": {
        "id": "La6dFeJujmZM",
        "colab_type": "code",
        "colab": {}
      },
      "source": [
        "# TensorFlow and tf.keras\n",
        "import tensorflow as tf\n",
        "from tensorflow import keras"
      ],
      "execution_count": 3,
      "outputs": []
    },
    {
      "cell_type": "code",
      "metadata": {
        "id": "5mOm3AQvCUp3",
        "colab_type": "code",
        "colab": {}
      },
      "source": [
        "# 03_ANN_NEW_DATA... only the grains in 882 are used for training \n",
        "#                    the ANN and segmented images are used to \n",
        "#                    train no-grain"
      ],
      "execution_count": 4,
      "outputs": []
    },
    {
      "cell_type": "markdown",
      "metadata": {
        "id": "HMDoD-W9CVol",
        "colab_type": "text"
      },
      "source": [
        "# 03_ANN_NEW_DATA... only the grains in 882 are used for training the ANN and segmented images are used to train no-grain"
      ]
    },
    {
      "cell_type": "code",
      "metadata": {
        "id": "LJAZpHlAi6Vq",
        "colab_type": "code",
        "colab": {
          "base_uri": "https://localhost:8080/",
          "height": 72
        },
        "outputId": "7402eb93-fdba-4460-daef-e6ac74dfd1f7"
      },
      "source": [
        "!git clone https://github.com/ucfilho/marquesgabi_Julho_2020_using\n",
        "%cd marquesgabi_Julho_2020_using\n",
        "Transfere='FotosTreino882_and_Segm.zip'\n",
        "file_name = zipfile.ZipFile(Transfere, 'r')\n",
        "file_name.extractall()"
      ],
      "execution_count": 5,
      "outputs": [
        {
          "output_type": "stream",
          "text": [
            "fatal: destination path 'marquesgabi_Julho_2020_using' already exists and is not an empty directory.\n",
            "/content/marquesgabi_Julho_2020_using\n"
          ],
          "name": "stdout"
        }
      ]
    },
    {
      "cell_type": "code",
      "metadata": {
        "id": "BYx5ot9RrYYt",
        "colab_type": "code",
        "colab": {}
      },
      "source": [
        "# First step: get the segmented file (photos stored in csv file)"
      ],
      "execution_count": 6,
      "outputs": []
    },
    {
      "cell_type": "markdown",
      "metadata": {
        "id": "j8Bl70iLs7FF",
        "colab_type": "text"
      },
      "source": [
        "# First step: get the segmented file (photos stored in csv file)"
      ]
    },
    {
      "cell_type": "code",
      "metadata": {
        "id": "C35MvO7VjUA0",
        "colab_type": "code",
        "colab": {}
      },
      "source": [
        "labels = [] #name files\n",
        "\n",
        "with zipfile.ZipFile(Transfere, \"r\") as f:\n",
        "  for f in f.namelist():\n",
        "    labels.append(f)"
      ],
      "execution_count": 7,
      "outputs": []
    },
    {
      "cell_type": "code",
      "metadata": {
        "id": "KuDx6iA-w0aW",
        "colab_type": "code",
        "colab": {}
      },
      "source": [
        "Num=len(labels)\n",
        "df=pd.read_csv(labels[0])\n",
        "for i in range(1,Num):\n",
        "  df_new=pd.read_csv(labels[i])\n",
        "  df_new = df_new[~df_new['Type'].isin(['G'])] # drop grain row which is not in 882\n",
        "  frames = [df, df_new]\n",
        "  df= pd.concat(frames, ignore_index=True)\n",
        "\n",
        "y_valor=df['Type']"
      ],
      "execution_count": 8,
      "outputs": []
    },
    {
      "cell_type": "code",
      "metadata": {
        "id": "DuwLJl-21LQt",
        "colab_type": "code",
        "colab": {
          "base_uri": "https://localhost:8080/",
          "height": 261
        },
        "outputId": "20520f9a-05a4-433a-9358-d18642434298"
      },
      "source": [
        "print(df)"
      ],
      "execution_count": 9,
      "outputs": [
        {
          "output_type": "stream",
          "text": [
            "     Unnamed: 0 Type          0  ...        782        783  Width\n",
            "0             0    G    0.00000  ...    0.68631    0.68769    NaN\n",
            "1             1    G    0.00000  ...    0.49262    0.50909    NaN\n",
            "2             2    G    0.45321  ...    0.54919    0.55439    NaN\n",
            "3             3    G    0.75367  ...    0.48524    0.61876    NaN\n",
            "4             4    G    0.94521  ...    0.98108    0.95838    NaN\n",
            "..          ...  ...        ...  ...        ...        ...    ...\n",
            "976           7    B   84.33883  ...    7.14600    7.38484  142.0\n",
            "977           8    I  104.73698  ...    2.05457    0.38150  163.0\n",
            "978           9    I   75.70248  ...  107.38844  106.00001  154.0\n",
            "979          10    I   56.64465  ...    3.15316    0.40107  187.0\n",
            "980          11    B  111.50165  ...    0.00000    0.00000  194.0\n",
            "\n",
            "[981 rows x 787 columns]\n"
          ],
          "name": "stdout"
        }
      ]
    },
    {
      "cell_type": "code",
      "metadata": {
        "id": "UwELp2Lv1NKY",
        "colab_type": "code",
        "colab": {
          "base_uri": "https://localhost:8080/",
          "height": 176
        },
        "outputId": "e24ae89b-8835-4be0-eed9-934941c89245"
      },
      "source": [
        "print(df.head())"
      ],
      "execution_count": 10,
      "outputs": [
        {
          "output_type": "stream",
          "text": [
            "   Unnamed: 0 Type        0        1  ...      781      782      783  Width\n",
            "0           0    G  0.00000  0.00000  ...  0.68642  0.68631  0.68769    NaN\n",
            "1           1    G  0.00000  0.00000  ...  0.47277  0.49262  0.50909    NaN\n",
            "2           2    G  0.45321  0.52257  ...  0.54645  0.54919  0.55439    NaN\n",
            "3           3    G  0.75367  0.64590  ...  0.43356  0.48524  0.61876    NaN\n",
            "4           4    G  0.94521  0.89736  ...  0.98942  0.98108  0.95838    NaN\n",
            "\n",
            "[5 rows x 787 columns]\n"
          ],
          "name": "stdout"
        }
      ]
    },
    {
      "cell_type": "code",
      "metadata": {
        "id": "cMCpdgC91ON0",
        "colab_type": "code",
        "colab": {
          "base_uri": "https://localhost:8080/",
          "height": 261
        },
        "outputId": "f2c159a0-325d-407c-a6b9-b494e8a6aded"
      },
      "source": [
        "print(df)"
      ],
      "execution_count": 11,
      "outputs": [
        {
          "output_type": "stream",
          "text": [
            "     Unnamed: 0 Type          0  ...        782        783  Width\n",
            "0             0    G    0.00000  ...    0.68631    0.68769    NaN\n",
            "1             1    G    0.00000  ...    0.49262    0.50909    NaN\n",
            "2             2    G    0.45321  ...    0.54919    0.55439    NaN\n",
            "3             3    G    0.75367  ...    0.48524    0.61876    NaN\n",
            "4             4    G    0.94521  ...    0.98108    0.95838    NaN\n",
            "..          ...  ...        ...  ...        ...        ...    ...\n",
            "976           7    B   84.33883  ...    7.14600    7.38484  142.0\n",
            "977           8    I  104.73698  ...    2.05457    0.38150  163.0\n",
            "978           9    I   75.70248  ...  107.38844  106.00001  154.0\n",
            "979          10    I   56.64465  ...    3.15316    0.40107  187.0\n",
            "980          11    B  111.50165  ...    0.00000    0.00000  194.0\n",
            "\n",
            "[981 rows x 787 columns]\n"
          ],
          "name": "stdout"
        }
      ]
    },
    {
      "cell_type": "code",
      "metadata": {
        "colab_type": "code",
        "id": "wq1CSlXUhjEv",
        "colab": {
          "base_uri": "https://localhost:8080/",
          "height": 176
        },
        "outputId": "e6d580d9-9fc5-4aad-e3d9-119cd9d0b080"
      },
      "source": [
        "df_teste=pd.read_csv(labels[2])\n",
        "print(df_teste.head())"
      ],
      "execution_count": 12,
      "outputs": [
        {
          "output_type": "stream",
          "text": [
            "   Unnamed: 0  Width Type          0  ...       780       781        782        783\n",
            "0           0    157    I   71.90012  ...  49.57118  35.95513    7.75954    1.03862\n",
            "1           1    124    I  127.06763  ...  94.57544  98.71695  100.52861  100.84391\n",
            "2           2    182    G   87.10651  ...   5.33136   5.84024    5.89941    5.65089\n",
            "3           3    101    I   99.01176  ...  35.15087  41.39006   43.76875   44.09146\n",
            "4           4    183    I   56.30844  ...  52.96656  53.65711   53.44656   53.11703\n",
            "\n",
            "[5 rows x 787 columns]\n"
          ],
          "name": "stdout"
        }
      ]
    },
    {
      "cell_type": "code",
      "metadata": {
        "id": "nkMXproqxZig",
        "colab_type": "code",
        "colab": {
          "base_uri": "https://localhost:8080/",
          "height": 156
        },
        "outputId": "60c4f29a-2d86-49a6-8a4c-cf307b897b67"
      },
      "source": [
        "print(df.tail())"
      ],
      "execution_count": 13,
      "outputs": [
        {
          "output_type": "stream",
          "text": [
            "     Unnamed: 0 Type          0  ...        782        783  Width\n",
            "976           7    B   84.33883  ...    7.14600    7.38484  142.0\n",
            "977           8    I  104.73698  ...    2.05457    0.38150  163.0\n",
            "978           9    I   75.70248  ...  107.38844  106.00001  154.0\n",
            "979          10    I   56.64465  ...    3.15316    0.40107  187.0\n",
            "980          11    B  111.50165  ...    0.00000    0.00000  194.0\n",
            "\n",
            "[5 rows x 787 columns]\n"
          ],
          "name": "stdout"
        }
      ]
    },
    {
      "cell_type": "code",
      "metadata": {
        "id": "TpuIGIU-pkiG",
        "colab_type": "code",
        "colab": {}
      },
      "source": [
        "Fotos=df.drop(['Unnamed: 0','Type','Width'], axis=1)"
      ],
      "execution_count": 14,
      "outputs": []
    },
    {
      "cell_type": "code",
      "metadata": {
        "id": "QYpsqk8iqOG2",
        "colab_type": "code",
        "colab": {}
      },
      "source": [
        "df=df.drop(['Unnamed: 0','Type','Width'], axis=1)"
      ],
      "execution_count": 15,
      "outputs": []
    },
    {
      "cell_type": "code",
      "metadata": {
        "id": "zfXvfb-n9LPp",
        "colab_type": "code",
        "colab": {
          "base_uri": "https://localhost:8080/",
          "height": 229
        },
        "outputId": "fd649969-3cf6-47c8-eb2b-5751d2a37cd8"
      },
      "source": [
        "print(df.describe())"
      ],
      "execution_count": 16,
      "outputs": [
        {
          "output_type": "stream",
          "text": [
            "                0           1           2  ...         781         782         783\n",
            "count  981.000000  981.000000  981.000000  ...  981.000000  981.000000  981.000000\n",
            "mean     7.834253    7.847765    7.784539  ...    5.294938    5.215285    5.291887\n",
            "std     23.507544   23.434137   23.360003  ...   18.945649   19.327633   19.863527\n",
            "min      0.000000    0.000000    0.000000  ...    0.000000    0.000000    0.000000\n",
            "25%      0.311510    0.309190    0.313200  ...    0.332510    0.336190    0.329620\n",
            "50%      0.499150    0.490170    0.490990  ...    0.483030    0.479810    0.489680\n",
            "75%      0.640190    0.644030    0.652580  ...    0.639650    0.640320    0.637210\n",
            "max    127.067630  126.206040  120.224750  ...  108.437500  114.958580  121.952670\n",
            "\n",
            "[8 rows x 784 columns]\n"
          ],
          "name": "stdout"
        }
      ]
    },
    {
      "cell_type": "code",
      "metadata": {
        "id": "X2PqY2SbzFI2",
        "colab_type": "code",
        "colab": {
          "base_uri": "https://localhost:8080/",
          "height": 34
        },
        "outputId": "387aaf24-2df5-40ff-8723-899483a42326"
      },
      "source": [
        "print(np.array(Fotos).shape )"
      ],
      "execution_count": 17,
      "outputs": [
        {
          "output_type": "stream",
          "text": [
            "(981, 784)\n"
          ],
          "name": "stdout"
        }
      ]
    },
    {
      "cell_type": "markdown",
      "metadata": {
        "id": "sDoUMG4vsmoa",
        "colab_type": "text"
      },
      "source": [
        "# Second step: create the ann to evaluate which is a grain in photos segmented\n"
      ]
    },
    {
      "cell_type": "code",
      "metadata": {
        "id": "biuEDBlM4H_J",
        "colab_type": "code",
        "colab": {}
      },
      "source": [
        "images28=np.array(df)"
      ],
      "execution_count": 18,
      "outputs": []
    },
    {
      "cell_type": "code",
      "metadata": {
        "id": "G1FNc_PgKZ3o",
        "colab_type": "code",
        "colab": {}
      },
      "source": [
        "#print(y_valor)"
      ],
      "execution_count": 19,
      "outputs": []
    },
    {
      "cell_type": "code",
      "metadata": {
        "id": "PgZ5KNGh8mzN",
        "colab_type": "code",
        "colab": {}
      },
      "source": [
        "y_new=[]\n",
        "Grain=0\n",
        "Others=0\n",
        "Cont=-1\n",
        "Others_Local=[]\n",
        "Grain_Local=[]\n",
        "for x in y_valor:\n",
        "  Cont=Cont+1\n",
        "  if re.search('G', x):\n",
        "    y_new.append(1)\n",
        "    Grain=Grain+1\n",
        "    Grain_Local.append(Cont)\n",
        "  else:\n",
        "    y_new.append(2)\n",
        "    Others=Others+1\n",
        "    Others_Local.append(Cont)"
      ],
      "execution_count": 20,
      "outputs": []
    },
    {
      "cell_type": "code",
      "metadata": {
        "id": "q4IZyKSa_Xvv",
        "colab_type": "code",
        "colab": {
          "base_uri": "https://localhost:8080/",
          "height": 106
        },
        "outputId": "c1398046-b01a-439c-f32e-dd2816645655"
      },
      "source": [
        "print('Graos=',Grain)\n",
        "print('Others=',Others)\n",
        "print('Others local',Others_Local)\n",
        "print('Grain local',Grain_Local)\n",
        "\n",
        "sampled_list = random.sample(Others_Local,Grain)"
      ],
      "execution_count": 21,
      "outputs": [
        {
          "output_type": "stream",
          "text": [
            "Graos= 245\n",
            "Others= 736\n",
            "Others local [13, 14, 15, 16, 17, 18, 19, 20, 21, 22, 23, 24, 25, 26, 27, 28, 29, 30, 31, 32, 33, 34, 35, 44, 45, 46, 47, 48, 49, 50, 51, 52, 53, 54, 55, 56, 57, 58, 59, 60, 61, 62, 63, 64, 65, 66, 67, 68, 69, 70, 71, 77, 78, 79, 80, 81, 82, 83, 84, 85, 86, 87, 88, 89, 90, 91, 92, 93, 94, 95, 96, 97, 98, 99, 100, 101, 102, 103, 104, 105, 106, 107, 115, 116, 117, 118, 119, 120, 121, 122, 123, 124, 125, 126, 127, 128, 129, 130, 131, 132, 133, 134, 135, 136, 137, 138, 139, 140, 141, 142, 143, 150, 151, 152, 153, 154, 155, 156, 157, 158, 159, 160, 161, 162, 163, 164, 165, 166, 167, 168, 169, 174, 175, 176, 177, 178, 179, 180, 181, 182, 183, 184, 185, 186, 187, 188, 189, 190, 191, 192, 193, 194, 195, 196, 197, 198, 199, 200, 201, 202, 203, 204, 205, 214, 215, 216, 217, 218, 219, 220, 221, 222, 223, 224, 225, 226, 227, 228, 229, 230, 231, 232, 233, 234, 235, 236, 237, 238, 239, 240, 241, 250, 251, 252, 253, 254, 255, 256, 257, 258, 259, 260, 261, 262, 263, 264, 265, 266, 267, 277, 278, 279, 280, 281, 282, 283, 284, 285, 286, 287, 288, 289, 290, 291, 292, 293, 294, 295, 296, 297, 298, 299, 300, 301, 302, 303, 311, 312, 313, 314, 315, 316, 317, 318, 319, 320, 321, 322, 323, 324, 325, 326, 327, 328, 329, 330, 331, 332, 333, 334, 335, 336, 337, 338, 339, 346, 347, 348, 349, 350, 351, 352, 353, 354, 355, 356, 357, 358, 359, 360, 361, 362, 363, 364, 365, 381, 382, 383, 384, 385, 386, 387, 388, 389, 390, 391, 392, 393, 394, 395, 396, 397, 398, 399, 400, 401, 407, 408, 409, 410, 411, 412, 413, 414, 415, 416, 417, 418, 419, 420, 421, 422, 423, 424, 425, 426, 427, 443, 444, 445, 446, 447, 448, 449, 450, 451, 452, 453, 454, 455, 456, 457, 458, 459, 460, 461, 462, 463, 474, 475, 476, 477, 478, 479, 480, 481, 482, 483, 484, 485, 486, 487, 488, 489, 490, 491, 492, 493, 494, 495, 496, 497, 498, 499, 509, 510, 511, 512, 513, 514, 515, 516, 517, 518, 519, 520, 521, 522, 523, 524, 525, 526, 527, 528, 529, 530, 531, 532, 533, 534, 535, 545, 546, 547, 548, 549, 550, 551, 552, 553, 554, 555, 556, 557, 558, 559, 560, 561, 578, 579, 580, 581, 582, 583, 584, 585, 586, 587, 595, 596, 597, 598, 599, 600, 601, 602, 603, 604, 605, 606, 607, 608, 609, 610, 611, 612, 613, 614, 615, 616, 617, 618, 619, 620, 621, 622, 623, 633, 634, 635, 636, 637, 638, 639, 640, 641, 642, 643, 644, 645, 646, 647, 648, 649, 650, 651, 652, 653, 654, 655, 656, 657, 658, 659, 670, 671, 672, 673, 674, 675, 676, 677, 678, 679, 680, 681, 682, 683, 684, 685, 686, 687, 688, 689, 690, 691, 692, 693, 694, 695, 705, 706, 707, 708, 709, 710, 711, 712, 713, 714, 715, 716, 717, 718, 719, 720, 721, 722, 723, 724, 725, 726, 727, 728, 729, 730, 731, 740, 741, 742, 743, 744, 745, 746, 747, 748, 749, 750, 751, 752, 753, 754, 755, 756, 757, 771, 772, 773, 774, 775, 776, 777, 778, 779, 780, 781, 782, 783, 796, 797, 798, 799, 800, 801, 802, 803, 804, 805, 806, 807, 808, 809, 810, 811, 812, 813, 814, 815, 816, 817, 818, 819, 829, 830, 831, 832, 833, 834, 835, 836, 837, 838, 839, 840, 841, 842, 843, 844, 845, 846, 847, 848, 849, 850, 851, 852, 853, 854, 855, 864, 865, 866, 867, 868, 869, 870, 871, 872, 873, 874, 875, 876, 877, 878, 879, 880, 881, 882, 883, 884, 885, 886, 887, 888, 889, 890, 891, 892, 893, 894, 895, 896, 897, 898, 899, 900, 901, 902, 903, 904, 905, 906, 907, 908, 909, 910, 911, 912, 913, 914, 915, 916, 917, 918, 919, 920, 921, 922, 923, 924, 925, 926, 927, 928, 929, 930, 931, 932, 933, 934, 935, 936, 937, 938, 939, 940, 941, 942, 943, 944, 945, 946, 947, 948, 949, 950, 951, 952, 953, 954, 955, 956, 957, 958, 959, 960, 961, 962, 963, 964, 965, 966, 967, 968, 969, 970, 971, 972, 973, 974, 975, 976, 977, 978, 979, 980]\n",
            "Grain local [0, 1, 2, 3, 4, 5, 6, 7, 8, 9, 10, 11, 12, 36, 37, 38, 39, 40, 41, 42, 43, 72, 73, 74, 75, 76, 108, 109, 110, 111, 112, 113, 114, 144, 145, 146, 147, 148, 149, 170, 171, 172, 173, 206, 207, 208, 209, 210, 211, 212, 213, 242, 243, 244, 245, 246, 247, 248, 249, 268, 269, 270, 271, 272, 273, 274, 275, 276, 304, 305, 306, 307, 308, 309, 310, 340, 341, 342, 343, 344, 345, 366, 367, 368, 369, 370, 371, 372, 373, 374, 375, 376, 377, 378, 379, 380, 402, 403, 404, 405, 406, 428, 429, 430, 431, 432, 433, 434, 435, 436, 437, 438, 439, 440, 441, 442, 464, 465, 466, 467, 468, 469, 470, 471, 472, 473, 500, 501, 502, 503, 504, 505, 506, 507, 508, 536, 537, 538, 539, 540, 541, 542, 543, 544, 562, 563, 564, 565, 566, 567, 568, 569, 570, 571, 572, 573, 574, 575, 576, 577, 588, 589, 590, 591, 592, 593, 594, 624, 625, 626, 627, 628, 629, 630, 631, 632, 660, 661, 662, 663, 664, 665, 666, 667, 668, 669, 696, 697, 698, 699, 700, 701, 702, 703, 704, 732, 733, 734, 735, 736, 737, 738, 739, 758, 759, 760, 761, 762, 763, 764, 765, 766, 767, 768, 769, 770, 784, 785, 786, 787, 788, 789, 790, 791, 792, 793, 794, 795, 820, 821, 822, 823, 824, 825, 826, 827, 828, 856, 857, 858, 859, 860, 861, 862, 863]\n"
          ],
          "name": "stdout"
        }
      ]
    },
    {
      "cell_type": "code",
      "metadata": {
        "colab_type": "code",
        "id": "zvRB2ROqCgc6",
        "colab": {
          "base_uri": "https://localhost:8080/",
          "height": 89
        },
        "outputId": "ad25bc86-2243-4f1c-fe7f-d252b8c93f7a"
      },
      "source": [
        "print('Graos=',Grain)\n",
        "print('Others=',Others)\n",
        "print('Others local',Others_Local)\n",
        "sampled_list = random.sample(Others_Local,Grain)\n"
      ],
      "execution_count": 22,
      "outputs": [
        {
          "output_type": "stream",
          "text": [
            "Graos= 245\n",
            "Others= 736\n",
            "Others local [13, 14, 15, 16, 17, 18, 19, 20, 21, 22, 23, 24, 25, 26, 27, 28, 29, 30, 31, 32, 33, 34, 35, 44, 45, 46, 47, 48, 49, 50, 51, 52, 53, 54, 55, 56, 57, 58, 59, 60, 61, 62, 63, 64, 65, 66, 67, 68, 69, 70, 71, 77, 78, 79, 80, 81, 82, 83, 84, 85, 86, 87, 88, 89, 90, 91, 92, 93, 94, 95, 96, 97, 98, 99, 100, 101, 102, 103, 104, 105, 106, 107, 115, 116, 117, 118, 119, 120, 121, 122, 123, 124, 125, 126, 127, 128, 129, 130, 131, 132, 133, 134, 135, 136, 137, 138, 139, 140, 141, 142, 143, 150, 151, 152, 153, 154, 155, 156, 157, 158, 159, 160, 161, 162, 163, 164, 165, 166, 167, 168, 169, 174, 175, 176, 177, 178, 179, 180, 181, 182, 183, 184, 185, 186, 187, 188, 189, 190, 191, 192, 193, 194, 195, 196, 197, 198, 199, 200, 201, 202, 203, 204, 205, 214, 215, 216, 217, 218, 219, 220, 221, 222, 223, 224, 225, 226, 227, 228, 229, 230, 231, 232, 233, 234, 235, 236, 237, 238, 239, 240, 241, 250, 251, 252, 253, 254, 255, 256, 257, 258, 259, 260, 261, 262, 263, 264, 265, 266, 267, 277, 278, 279, 280, 281, 282, 283, 284, 285, 286, 287, 288, 289, 290, 291, 292, 293, 294, 295, 296, 297, 298, 299, 300, 301, 302, 303, 311, 312, 313, 314, 315, 316, 317, 318, 319, 320, 321, 322, 323, 324, 325, 326, 327, 328, 329, 330, 331, 332, 333, 334, 335, 336, 337, 338, 339, 346, 347, 348, 349, 350, 351, 352, 353, 354, 355, 356, 357, 358, 359, 360, 361, 362, 363, 364, 365, 381, 382, 383, 384, 385, 386, 387, 388, 389, 390, 391, 392, 393, 394, 395, 396, 397, 398, 399, 400, 401, 407, 408, 409, 410, 411, 412, 413, 414, 415, 416, 417, 418, 419, 420, 421, 422, 423, 424, 425, 426, 427, 443, 444, 445, 446, 447, 448, 449, 450, 451, 452, 453, 454, 455, 456, 457, 458, 459, 460, 461, 462, 463, 474, 475, 476, 477, 478, 479, 480, 481, 482, 483, 484, 485, 486, 487, 488, 489, 490, 491, 492, 493, 494, 495, 496, 497, 498, 499, 509, 510, 511, 512, 513, 514, 515, 516, 517, 518, 519, 520, 521, 522, 523, 524, 525, 526, 527, 528, 529, 530, 531, 532, 533, 534, 535, 545, 546, 547, 548, 549, 550, 551, 552, 553, 554, 555, 556, 557, 558, 559, 560, 561, 578, 579, 580, 581, 582, 583, 584, 585, 586, 587, 595, 596, 597, 598, 599, 600, 601, 602, 603, 604, 605, 606, 607, 608, 609, 610, 611, 612, 613, 614, 615, 616, 617, 618, 619, 620, 621, 622, 623, 633, 634, 635, 636, 637, 638, 639, 640, 641, 642, 643, 644, 645, 646, 647, 648, 649, 650, 651, 652, 653, 654, 655, 656, 657, 658, 659, 670, 671, 672, 673, 674, 675, 676, 677, 678, 679, 680, 681, 682, 683, 684, 685, 686, 687, 688, 689, 690, 691, 692, 693, 694, 695, 705, 706, 707, 708, 709, 710, 711, 712, 713, 714, 715, 716, 717, 718, 719, 720, 721, 722, 723, 724, 725, 726, 727, 728, 729, 730, 731, 740, 741, 742, 743, 744, 745, 746, 747, 748, 749, 750, 751, 752, 753, 754, 755, 756, 757, 771, 772, 773, 774, 775, 776, 777, 778, 779, 780, 781, 782, 783, 796, 797, 798, 799, 800, 801, 802, 803, 804, 805, 806, 807, 808, 809, 810, 811, 812, 813, 814, 815, 816, 817, 818, 819, 829, 830, 831, 832, 833, 834, 835, 836, 837, 838, 839, 840, 841, 842, 843, 844, 845, 846, 847, 848, 849, 850, 851, 852, 853, 854, 855, 864, 865, 866, 867, 868, 869, 870, 871, 872, 873, 874, 875, 876, 877, 878, 879, 880, 881, 882, 883, 884, 885, 886, 887, 888, 889, 890, 891, 892, 893, 894, 895, 896, 897, 898, 899, 900, 901, 902, 903, 904, 905, 906, 907, 908, 909, 910, 911, 912, 913, 914, 915, 916, 917, 918, 919, 920, 921, 922, 923, 924, 925, 926, 927, 928, 929, 930, 931, 932, 933, 934, 935, 936, 937, 938, 939, 940, 941, 942, 943, 944, 945, 946, 947, 948, 949, 950, 951, 952, 953, 954, 955, 956, 957, 958, 959, 960, 961, 962, 963, 964, 965, 966, 967, 968, 969, 970, 971, 972, 973, 974, 975, 976, 977, 978, 979, 980]\n"
          ],
          "name": "stdout"
        }
      ]
    },
    {
      "cell_type": "code",
      "metadata": {
        "colab_type": "code",
        "id": "TgjoSbt0Chl-",
        "colab": {
          "base_uri": "https://localhost:8080/",
          "height": 106
        },
        "outputId": "b80cb92a-4ba1-4fcf-e1fd-bf459641f74f"
      },
      "source": [
        "print('Graos=',Grain)\n",
        "print('Others=',Others)\n",
        "print('Others local',Others_Local)\n",
        "print('Grain local',Grain_Local)\n"
      ],
      "execution_count": 23,
      "outputs": [
        {
          "output_type": "stream",
          "text": [
            "Graos= 245\n",
            "Others= 736\n",
            "Others local [13, 14, 15, 16, 17, 18, 19, 20, 21, 22, 23, 24, 25, 26, 27, 28, 29, 30, 31, 32, 33, 34, 35, 44, 45, 46, 47, 48, 49, 50, 51, 52, 53, 54, 55, 56, 57, 58, 59, 60, 61, 62, 63, 64, 65, 66, 67, 68, 69, 70, 71, 77, 78, 79, 80, 81, 82, 83, 84, 85, 86, 87, 88, 89, 90, 91, 92, 93, 94, 95, 96, 97, 98, 99, 100, 101, 102, 103, 104, 105, 106, 107, 115, 116, 117, 118, 119, 120, 121, 122, 123, 124, 125, 126, 127, 128, 129, 130, 131, 132, 133, 134, 135, 136, 137, 138, 139, 140, 141, 142, 143, 150, 151, 152, 153, 154, 155, 156, 157, 158, 159, 160, 161, 162, 163, 164, 165, 166, 167, 168, 169, 174, 175, 176, 177, 178, 179, 180, 181, 182, 183, 184, 185, 186, 187, 188, 189, 190, 191, 192, 193, 194, 195, 196, 197, 198, 199, 200, 201, 202, 203, 204, 205, 214, 215, 216, 217, 218, 219, 220, 221, 222, 223, 224, 225, 226, 227, 228, 229, 230, 231, 232, 233, 234, 235, 236, 237, 238, 239, 240, 241, 250, 251, 252, 253, 254, 255, 256, 257, 258, 259, 260, 261, 262, 263, 264, 265, 266, 267, 277, 278, 279, 280, 281, 282, 283, 284, 285, 286, 287, 288, 289, 290, 291, 292, 293, 294, 295, 296, 297, 298, 299, 300, 301, 302, 303, 311, 312, 313, 314, 315, 316, 317, 318, 319, 320, 321, 322, 323, 324, 325, 326, 327, 328, 329, 330, 331, 332, 333, 334, 335, 336, 337, 338, 339, 346, 347, 348, 349, 350, 351, 352, 353, 354, 355, 356, 357, 358, 359, 360, 361, 362, 363, 364, 365, 381, 382, 383, 384, 385, 386, 387, 388, 389, 390, 391, 392, 393, 394, 395, 396, 397, 398, 399, 400, 401, 407, 408, 409, 410, 411, 412, 413, 414, 415, 416, 417, 418, 419, 420, 421, 422, 423, 424, 425, 426, 427, 443, 444, 445, 446, 447, 448, 449, 450, 451, 452, 453, 454, 455, 456, 457, 458, 459, 460, 461, 462, 463, 474, 475, 476, 477, 478, 479, 480, 481, 482, 483, 484, 485, 486, 487, 488, 489, 490, 491, 492, 493, 494, 495, 496, 497, 498, 499, 509, 510, 511, 512, 513, 514, 515, 516, 517, 518, 519, 520, 521, 522, 523, 524, 525, 526, 527, 528, 529, 530, 531, 532, 533, 534, 535, 545, 546, 547, 548, 549, 550, 551, 552, 553, 554, 555, 556, 557, 558, 559, 560, 561, 578, 579, 580, 581, 582, 583, 584, 585, 586, 587, 595, 596, 597, 598, 599, 600, 601, 602, 603, 604, 605, 606, 607, 608, 609, 610, 611, 612, 613, 614, 615, 616, 617, 618, 619, 620, 621, 622, 623, 633, 634, 635, 636, 637, 638, 639, 640, 641, 642, 643, 644, 645, 646, 647, 648, 649, 650, 651, 652, 653, 654, 655, 656, 657, 658, 659, 670, 671, 672, 673, 674, 675, 676, 677, 678, 679, 680, 681, 682, 683, 684, 685, 686, 687, 688, 689, 690, 691, 692, 693, 694, 695, 705, 706, 707, 708, 709, 710, 711, 712, 713, 714, 715, 716, 717, 718, 719, 720, 721, 722, 723, 724, 725, 726, 727, 728, 729, 730, 731, 740, 741, 742, 743, 744, 745, 746, 747, 748, 749, 750, 751, 752, 753, 754, 755, 756, 757, 771, 772, 773, 774, 775, 776, 777, 778, 779, 780, 781, 782, 783, 796, 797, 798, 799, 800, 801, 802, 803, 804, 805, 806, 807, 808, 809, 810, 811, 812, 813, 814, 815, 816, 817, 818, 819, 829, 830, 831, 832, 833, 834, 835, 836, 837, 838, 839, 840, 841, 842, 843, 844, 845, 846, 847, 848, 849, 850, 851, 852, 853, 854, 855, 864, 865, 866, 867, 868, 869, 870, 871, 872, 873, 874, 875, 876, 877, 878, 879, 880, 881, 882, 883, 884, 885, 886, 887, 888, 889, 890, 891, 892, 893, 894, 895, 896, 897, 898, 899, 900, 901, 902, 903, 904, 905, 906, 907, 908, 909, 910, 911, 912, 913, 914, 915, 916, 917, 918, 919, 920, 921, 922, 923, 924, 925, 926, 927, 928, 929, 930, 931, 932, 933, 934, 935, 936, 937, 938, 939, 940, 941, 942, 943, 944, 945, 946, 947, 948, 949, 950, 951, 952, 953, 954, 955, 956, 957, 958, 959, 960, 961, 962, 963, 964, 965, 966, 967, 968, 969, 970, 971, 972, 973, 974, 975, 976, 977, 978, 979, 980]\n",
            "Grain local [0, 1, 2, 3, 4, 5, 6, 7, 8, 9, 10, 11, 12, 36, 37, 38, 39, 40, 41, 42, 43, 72, 73, 74, 75, 76, 108, 109, 110, 111, 112, 113, 114, 144, 145, 146, 147, 148, 149, 170, 171, 172, 173, 206, 207, 208, 209, 210, 211, 212, 213, 242, 243, 244, 245, 246, 247, 248, 249, 268, 269, 270, 271, 272, 273, 274, 275, 276, 304, 305, 306, 307, 308, 309, 310, 340, 341, 342, 343, 344, 345, 366, 367, 368, 369, 370, 371, 372, 373, 374, 375, 376, 377, 378, 379, 380, 402, 403, 404, 405, 406, 428, 429, 430, 431, 432, 433, 434, 435, 436, 437, 438, 439, 440, 441, 442, 464, 465, 466, 467, 468, 469, 470, 471, 472, 473, 500, 501, 502, 503, 504, 505, 506, 507, 508, 536, 537, 538, 539, 540, 541, 542, 543, 544, 562, 563, 564, 565, 566, 567, 568, 569, 570, 571, 572, 573, 574, 575, 576, 577, 588, 589, 590, 591, 592, 593, 594, 624, 625, 626, 627, 628, 629, 630, 631, 632, 660, 661, 662, 663, 664, 665, 666, 667, 668, 669, 696, 697, 698, 699, 700, 701, 702, 703, 704, 732, 733, 734, 735, 736, 737, 738, 739, 758, 759, 760, 761, 762, 763, 764, 765, 766, 767, 768, 769, 770, 784, 785, 786, 787, 788, 789, 790, 791, 792, 793, 794, 795, 820, 821, 822, 823, 824, 825, 826, 827, 828, 856, 857, 858, 859, 860, 861, 862, 863]\n"
          ],
          "name": "stdout"
        }
      ]
    },
    {
      "cell_type": "code",
      "metadata": {
        "id": "HkM-s9TiCyLt",
        "colab_type": "code",
        "colab": {}
      },
      "source": [
        "x_new=[]\n",
        "y_rede=[]\n",
        "for i in range(Grain):\n",
        "  x_new.append(Fotos.iloc[Grain_Local[i]])\n",
        "  x_new.append(Fotos.iloc[sampled_list[i]])\n",
        "  y_rede.append(y_new[Grain_Local[i]])\n",
        "  y_rede.append(y_new[sampled_list[i]])\n"
      ],
      "execution_count": 24,
      "outputs": []
    },
    {
      "cell_type": "code",
      "metadata": {
        "id": "4qHR83qhGa0G",
        "colab_type": "code",
        "colab": {
          "base_uri": "https://localhost:8080/",
          "height": 34
        },
        "outputId": "67ec6931-2524-47af-c670-d04f445a94da"
      },
      "source": [
        "np.array(x_new).shape"
      ],
      "execution_count": 25,
      "outputs": [
        {
          "output_type": "execute_result",
          "data": {
            "text/plain": [
              "(490, 784)"
            ]
          },
          "metadata": {
            "tags": []
          },
          "execution_count": 25
        }
      ]
    },
    {
      "cell_type": "code",
      "metadata": {
        "id": "MZp3WDdEFu3I",
        "colab_type": "code",
        "colab": {}
      },
      "source": [
        "#pd.DataFrame(y_rede).describe()"
      ],
      "execution_count": 26,
      "outputs": []
    },
    {
      "cell_type": "code",
      "metadata": {
        "id": "Nb33el9Y9AXG",
        "colab_type": "code",
        "colab": {}
      },
      "source": [
        "# y_valor=np.copy(y_new)\n",
        "y_total=np.copy(y_rede)"
      ],
      "execution_count": 27,
      "outputs": []
    },
    {
      "cell_type": "code",
      "metadata": {
        "id": "MSs3qh0_uO94",
        "colab_type": "code",
        "colab": {}
      },
      "source": [
        "#Define data train and data test\n",
        "#images28=Fotos\n",
        "images28=x_new #Fotos\n",
        "W_train, W_test, yw_train, yw_test = train_test_split(np.array(images28), np.array(y_total), \n",
        "                                                    test_size=0.30, \n",
        "                                                    random_state=42)"
      ],
      "execution_count": 28,
      "outputs": []
    },
    {
      "cell_type": "code",
      "metadata": {
        "id": "MGzcVt8V0ft2",
        "colab_type": "code",
        "colab": {
          "base_uri": "https://localhost:8080/",
          "height": 86
        },
        "outputId": "279cd9a4-5b38-40b3-c0be-6b9bf8c33c10"
      },
      "source": [
        "print(len(y_total))\n",
        "print(len(yw_test))\n",
        "print(len(yw_train))\n",
        "A=490*0.3\n",
        "print(A)"
      ],
      "execution_count": 29,
      "outputs": [
        {
          "output_type": "stream",
          "text": [
            "490\n",
            "147\n",
            "343\n",
            "147.0\n"
          ],
          "name": "stdout"
        }
      ]
    },
    {
      "cell_type": "code",
      "metadata": {
        "id": "pwHcagDGuow0",
        "colab_type": "code",
        "colab": {}
      },
      "source": [
        "train_images=W_train #imagens utilizadas para o treino\n",
        "train_labels=yw_train # resposta esperada para o treino\n",
        "test_images=W_test\n",
        "test_labels=yw_test"
      ],
      "execution_count": 30,
      "outputs": []
    },
    {
      "cell_type": "code",
      "metadata": {
        "id": "YEblnmBlsTMc",
        "colab_type": "code",
        "colab": {}
      },
      "source": [
        "#print(len(test_labels))"
      ],
      "execution_count": 31,
      "outputs": []
    },
    {
      "cell_type": "code",
      "metadata": {
        "id": "IWSEclzGurul",
        "colab_type": "code",
        "colab": {}
      },
      "source": [
        "model = keras.Sequential([\n",
        "    keras.layers.Flatten(input_shape=(28, 28)),\n",
        "    keras.layers.Dense(128, activation='relu'),\n",
        "    keras.layers.Dense(10)\n",
        "])"
      ],
      "execution_count": 32,
      "outputs": []
    },
    {
      "cell_type": "code",
      "metadata": {
        "id": "w88iZqfVusm0",
        "colab_type": "code",
        "colab": {}
      },
      "source": [
        "model.compile(optimizer='adam',\n",
        "              loss=tf.keras.losses.SparseCategoricalCrossentropy(from_logits=True),\n",
        "              metrics=['accuracy'])"
      ],
      "execution_count": 33,
      "outputs": []
    },
    {
      "cell_type": "code",
      "metadata": {
        "id": "a0MAtbvxuwQE",
        "colab_type": "code",
        "colab": {
          "base_uri": "https://localhost:8080/",
          "height": 1000
        },
        "outputId": "030e28a6-6951-46e0-e7bf-88485a1e8276"
      },
      "source": [
        "model.fit(train_images, train_labels, epochs=500)"
      ],
      "execution_count": 34,
      "outputs": [
        {
          "output_type": "stream",
          "text": [
            "Epoch 1/500\n",
            "WARNING:tensorflow:Model was constructed with shape (None, 28, 28) for input Tensor(\"flatten_input:0\", shape=(None, 28, 28), dtype=float32), but it was called on an input with incompatible shape (None, 784).\n",
            "WARNING:tensorflow:Model was constructed with shape (None, 28, 28) for input Tensor(\"flatten_input:0\", shape=(None, 28, 28), dtype=float32), but it was called on an input with incompatible shape (None, 784).\n",
            "11/11 [==============================] - 0s 3ms/step - loss: 2.2279 - accuracy: 0.5160\n",
            "Epoch 2/500\n",
            "11/11 [==============================] - 0s 2ms/step - loss: 2.0301 - accuracy: 0.5773\n",
            "Epoch 3/500\n",
            "11/11 [==============================] - 0s 2ms/step - loss: 1.4595 - accuracy: 0.5102\n",
            "Epoch 4/500\n",
            "11/11 [==============================] - 0s 2ms/step - loss: 1.5459 - accuracy: 0.5102\n",
            "Epoch 5/500\n",
            "11/11 [==============================] - 0s 2ms/step - loss: 0.7623 - accuracy: 0.6268\n",
            "Epoch 6/500\n",
            "11/11 [==============================] - 0s 3ms/step - loss: 0.8125 - accuracy: 0.5831\n",
            "Epoch 7/500\n",
            "11/11 [==============================] - 0s 2ms/step - loss: 0.7191 - accuracy: 0.6181\n",
            "Epoch 8/500\n",
            "11/11 [==============================] - 0s 2ms/step - loss: 0.6269 - accuracy: 0.7143\n",
            "Epoch 9/500\n",
            "11/11 [==============================] - 0s 2ms/step - loss: 0.7683 - accuracy: 0.5977\n",
            "Epoch 10/500\n",
            "11/11 [==============================] - 0s 2ms/step - loss: 0.5229 - accuracy: 0.7114\n",
            "Epoch 11/500\n",
            "11/11 [==============================] - 0s 3ms/step - loss: 0.6729 - accuracy: 0.7347\n",
            "Epoch 12/500\n",
            "11/11 [==============================] - 0s 2ms/step - loss: 0.5642 - accuracy: 0.7055\n",
            "Epoch 13/500\n",
            "11/11 [==============================] - 0s 2ms/step - loss: 0.4811 - accuracy: 0.8047\n",
            "Epoch 14/500\n",
            "11/11 [==============================] - 0s 2ms/step - loss: 0.4794 - accuracy: 0.8105\n",
            "Epoch 15/500\n",
            "11/11 [==============================] - 0s 2ms/step - loss: 0.4798 - accuracy: 0.7755\n",
            "Epoch 16/500\n",
            "11/11 [==============================] - 0s 2ms/step - loss: 0.4664 - accuracy: 0.8280\n",
            "Epoch 17/500\n",
            "11/11 [==============================] - 0s 2ms/step - loss: 0.4617 - accuracy: 0.8017\n",
            "Epoch 18/500\n",
            "11/11 [==============================] - 0s 2ms/step - loss: 0.4533 - accuracy: 0.8222\n",
            "Epoch 19/500\n",
            "11/11 [==============================] - 0s 2ms/step - loss: 0.4472 - accuracy: 0.8280\n",
            "Epoch 20/500\n",
            "11/11 [==============================] - 0s 2ms/step - loss: 0.4388 - accuracy: 0.8163\n",
            "Epoch 21/500\n",
            "11/11 [==============================] - 0s 2ms/step - loss: 0.4351 - accuracy: 0.8280\n",
            "Epoch 22/500\n",
            "11/11 [==============================] - 0s 2ms/step - loss: 0.4284 - accuracy: 0.8222\n",
            "Epoch 23/500\n",
            "11/11 [==============================] - 0s 2ms/step - loss: 0.4230 - accuracy: 0.8251\n",
            "Epoch 24/500\n",
            "11/11 [==============================] - 0s 2ms/step - loss: 0.4210 - accuracy: 0.8397\n",
            "Epoch 25/500\n",
            "11/11 [==============================] - 0s 2ms/step - loss: 0.4161 - accuracy: 0.8309\n",
            "Epoch 26/500\n",
            "11/11 [==============================] - 0s 4ms/step - loss: 0.4117 - accuracy: 0.8338\n",
            "Epoch 27/500\n",
            "11/11 [==============================] - 0s 2ms/step - loss: 0.4102 - accuracy: 0.8338\n",
            "Epoch 28/500\n",
            "11/11 [==============================] - 0s 2ms/step - loss: 0.3999 - accuracy: 0.8105\n",
            "Epoch 29/500\n",
            "11/11 [==============================] - 0s 2ms/step - loss: 0.3930 - accuracy: 0.8309\n",
            "Epoch 30/500\n",
            "11/11 [==============================] - 0s 2ms/step - loss: 0.3897 - accuracy: 0.8309\n",
            "Epoch 31/500\n",
            "11/11 [==============================] - 0s 2ms/step - loss: 0.3845 - accuracy: 0.8309\n",
            "Epoch 32/500\n",
            "11/11 [==============================] - 0s 2ms/step - loss: 0.3815 - accuracy: 0.8367\n",
            "Epoch 33/500\n",
            "11/11 [==============================] - 0s 2ms/step - loss: 0.3783 - accuracy: 0.8367\n",
            "Epoch 34/500\n",
            "11/11 [==============================] - 0s 2ms/step - loss: 0.3738 - accuracy: 0.8426\n",
            "Epoch 35/500\n",
            "11/11 [==============================] - 0s 2ms/step - loss: 0.3687 - accuracy: 0.8426\n",
            "Epoch 36/500\n",
            "11/11 [==============================] - 0s 2ms/step - loss: 0.3651 - accuracy: 0.8426\n",
            "Epoch 37/500\n",
            "11/11 [==============================] - 0s 2ms/step - loss: 0.3602 - accuracy: 0.8484\n",
            "Epoch 38/500\n",
            "11/11 [==============================] - 0s 3ms/step - loss: 0.3684 - accuracy: 0.8397\n",
            "Epoch 39/500\n",
            "11/11 [==============================] - 0s 2ms/step - loss: 0.3574 - accuracy: 0.8513\n",
            "Epoch 40/500\n",
            "11/11 [==============================] - 0s 3ms/step - loss: 0.3493 - accuracy: 0.8455\n",
            "Epoch 41/500\n",
            "11/11 [==============================] - 0s 2ms/step - loss: 0.3441 - accuracy: 0.8513\n",
            "Epoch 42/500\n",
            "11/11 [==============================] - 0s 2ms/step - loss: 0.3411 - accuracy: 0.8455\n",
            "Epoch 43/500\n",
            "11/11 [==============================] - 0s 2ms/step - loss: 0.3391 - accuracy: 0.8513\n",
            "Epoch 44/500\n",
            "11/11 [==============================] - 0s 2ms/step - loss: 0.3385 - accuracy: 0.8542\n",
            "Epoch 45/500\n",
            "11/11 [==============================] - 0s 2ms/step - loss: 0.3615 - accuracy: 0.8397\n",
            "Epoch 46/500\n",
            "11/11 [==============================] - 0s 3ms/step - loss: 0.3458 - accuracy: 0.8513\n",
            "Epoch 47/500\n",
            "11/11 [==============================] - 0s 2ms/step - loss: 0.3403 - accuracy: 0.8513\n",
            "Epoch 48/500\n",
            "11/11 [==============================] - 0s 2ms/step - loss: 0.3372 - accuracy: 0.8571\n",
            "Epoch 49/500\n",
            "11/11 [==============================] - 0s 2ms/step - loss: 0.3268 - accuracy: 0.8688\n",
            "Epoch 50/500\n",
            "11/11 [==============================] - 0s 2ms/step - loss: 0.3179 - accuracy: 0.8717\n",
            "Epoch 51/500\n",
            "11/11 [==============================] - 0s 2ms/step - loss: 0.3460 - accuracy: 0.8426\n",
            "Epoch 52/500\n",
            "11/11 [==============================] - 0s 2ms/step - loss: 0.3309 - accuracy: 0.8601\n",
            "Epoch 53/500\n",
            "11/11 [==============================] - 0s 2ms/step - loss: 0.3234 - accuracy: 0.8601\n",
            "Epoch 54/500\n",
            "11/11 [==============================] - 0s 3ms/step - loss: 0.3111 - accuracy: 0.8805\n",
            "Epoch 55/500\n",
            "11/11 [==============================] - 0s 2ms/step - loss: 0.3056 - accuracy: 0.8659\n",
            "Epoch 56/500\n",
            "11/11 [==============================] - 0s 2ms/step - loss: 0.3042 - accuracy: 0.8688\n",
            "Epoch 57/500\n",
            "11/11 [==============================] - 0s 2ms/step - loss: 0.2951 - accuracy: 0.8776\n",
            "Epoch 58/500\n",
            "11/11 [==============================] - 0s 2ms/step - loss: 0.2938 - accuracy: 0.8805\n",
            "Epoch 59/500\n",
            "11/11 [==============================] - 0s 2ms/step - loss: 0.2947 - accuracy: 0.8717\n",
            "Epoch 60/500\n",
            "11/11 [==============================] - 0s 2ms/step - loss: 0.2870 - accuracy: 0.8834\n",
            "Epoch 61/500\n",
            "11/11 [==============================] - 0s 2ms/step - loss: 0.2878 - accuracy: 0.8746\n",
            "Epoch 62/500\n",
            "11/11 [==============================] - 0s 2ms/step - loss: 0.2997 - accuracy: 0.8717\n",
            "Epoch 63/500\n",
            "11/11 [==============================] - 0s 2ms/step - loss: 0.2989 - accuracy: 0.8717\n",
            "Epoch 64/500\n",
            "11/11 [==============================] - 0s 2ms/step - loss: 1.1356 - accuracy: 0.7318\n",
            "Epoch 65/500\n",
            "11/11 [==============================] - 0s 2ms/step - loss: 1.0211 - accuracy: 0.7230\n",
            "Epoch 66/500\n",
            "11/11 [==============================] - 0s 2ms/step - loss: 1.4913 - accuracy: 0.5977\n",
            "Epoch 67/500\n",
            "11/11 [==============================] - 0s 2ms/step - loss: 0.3605 - accuracy: 0.8426\n",
            "Epoch 68/500\n",
            "11/11 [==============================] - 0s 2ms/step - loss: 0.3124 - accuracy: 0.8688\n",
            "Epoch 69/500\n",
            "11/11 [==============================] - 0s 2ms/step - loss: 0.6016 - accuracy: 0.7522\n",
            "Epoch 70/500\n",
            "11/11 [==============================] - 0s 2ms/step - loss: 0.3346 - accuracy: 0.8630\n",
            "Epoch 71/500\n",
            "11/11 [==============================] - 0s 2ms/step - loss: 0.3411 - accuracy: 0.8484\n",
            "Epoch 72/500\n",
            "11/11 [==============================] - 0s 2ms/step - loss: 0.3086 - accuracy: 0.8659\n",
            "Epoch 73/500\n",
            "11/11 [==============================] - 0s 2ms/step - loss: 0.3003 - accuracy: 0.8834\n",
            "Epoch 74/500\n",
            "11/11 [==============================] - 0s 2ms/step - loss: 0.2965 - accuracy: 0.8805\n",
            "Epoch 75/500\n",
            "11/11 [==============================] - 0s 2ms/step - loss: 0.2963 - accuracy: 0.8776\n",
            "Epoch 76/500\n",
            "11/11 [==============================] - 0s 2ms/step - loss: 0.2933 - accuracy: 0.8746\n",
            "Epoch 77/500\n",
            "11/11 [==============================] - 0s 2ms/step - loss: 0.2928 - accuracy: 0.8776\n",
            "Epoch 78/500\n",
            "11/11 [==============================] - 0s 2ms/step - loss: 0.2891 - accuracy: 0.8834\n",
            "Epoch 79/500\n",
            "11/11 [==============================] - 0s 2ms/step - loss: 0.2888 - accuracy: 0.8834\n",
            "Epoch 80/500\n",
            "11/11 [==============================] - 0s 2ms/step - loss: 0.2875 - accuracy: 0.8746\n",
            "Epoch 81/500\n",
            "11/11 [==============================] - 0s 3ms/step - loss: 0.2869 - accuracy: 0.8805\n",
            "Epoch 82/500\n",
            "11/11 [==============================] - 0s 2ms/step - loss: 0.2932 - accuracy: 0.8834\n",
            "Epoch 83/500\n",
            "11/11 [==============================] - 0s 2ms/step - loss: 0.2896 - accuracy: 0.8717\n",
            "Epoch 84/500\n",
            "11/11 [==============================] - 0s 2ms/step - loss: 0.2799 - accuracy: 0.8834\n",
            "Epoch 85/500\n",
            "11/11 [==============================] - 0s 2ms/step - loss: 0.2794 - accuracy: 0.8863\n",
            "Epoch 86/500\n",
            "11/11 [==============================] - 0s 2ms/step - loss: 0.2834 - accuracy: 0.8717\n",
            "Epoch 87/500\n",
            "11/11 [==============================] - 0s 2ms/step - loss: 0.2817 - accuracy: 0.8834\n",
            "Epoch 88/500\n",
            "11/11 [==============================] - 0s 2ms/step - loss: 0.2794 - accuracy: 0.8863\n",
            "Epoch 89/500\n",
            "11/11 [==============================] - 0s 2ms/step - loss: 0.2733 - accuracy: 0.8921\n",
            "Epoch 90/500\n",
            "11/11 [==============================] - 0s 2ms/step - loss: 0.2725 - accuracy: 0.8863\n",
            "Epoch 91/500\n",
            "11/11 [==============================] - 0s 2ms/step - loss: 0.2716 - accuracy: 0.8834\n",
            "Epoch 92/500\n",
            "11/11 [==============================] - 0s 3ms/step - loss: 0.2683 - accuracy: 0.8834\n",
            "Epoch 93/500\n",
            "11/11 [==============================] - 0s 2ms/step - loss: 0.2669 - accuracy: 0.8805\n",
            "Epoch 94/500\n",
            "11/11 [==============================] - 0s 2ms/step - loss: 0.2675 - accuracy: 0.8921\n",
            "Epoch 95/500\n",
            "11/11 [==============================] - 0s 2ms/step - loss: 0.2655 - accuracy: 0.8863\n",
            "Epoch 96/500\n",
            "11/11 [==============================] - 0s 2ms/step - loss: 0.2627 - accuracy: 0.8863\n",
            "Epoch 97/500\n",
            "11/11 [==============================] - 0s 2ms/step - loss: 0.2643 - accuracy: 0.8892\n",
            "Epoch 98/500\n",
            "11/11 [==============================] - 0s 2ms/step - loss: 0.2623 - accuracy: 0.8834\n",
            "Epoch 99/500\n",
            "11/11 [==============================] - 0s 2ms/step - loss: 0.2686 - accuracy: 0.8863\n",
            "Epoch 100/500\n",
            "11/11 [==============================] - 0s 2ms/step - loss: 0.2635 - accuracy: 0.8892\n",
            "Epoch 101/500\n",
            "11/11 [==============================] - 0s 3ms/step - loss: 0.2596 - accuracy: 0.8921\n",
            "Epoch 102/500\n",
            "11/11 [==============================] - 0s 2ms/step - loss: 0.2560 - accuracy: 0.8863\n",
            "Epoch 103/500\n",
            "11/11 [==============================] - 0s 2ms/step - loss: 0.2572 - accuracy: 0.8892\n",
            "Epoch 104/500\n",
            "11/11 [==============================] - 0s 2ms/step - loss: 0.2538 - accuracy: 0.8950\n",
            "Epoch 105/500\n",
            "11/11 [==============================] - 0s 2ms/step - loss: 0.2579 - accuracy: 0.8863\n",
            "Epoch 106/500\n",
            "11/11 [==============================] - 0s 2ms/step - loss: 0.2511 - accuracy: 0.8892\n",
            "Epoch 107/500\n",
            "11/11 [==============================] - 0s 2ms/step - loss: 0.2515 - accuracy: 0.8834\n",
            "Epoch 108/500\n",
            "11/11 [==============================] - 0s 2ms/step - loss: 0.2513 - accuracy: 0.8921\n",
            "Epoch 109/500\n",
            "11/11 [==============================] - 0s 2ms/step - loss: 0.2502 - accuracy: 0.9038\n",
            "Epoch 110/500\n",
            "11/11 [==============================] - 0s 2ms/step - loss: 0.2475 - accuracy: 0.8980\n",
            "Epoch 111/500\n",
            "11/11 [==============================] - 0s 2ms/step - loss: 0.2496 - accuracy: 0.9009\n",
            "Epoch 112/500\n",
            "11/11 [==============================] - 0s 2ms/step - loss: 0.2530 - accuracy: 0.9009\n",
            "Epoch 113/500\n",
            "11/11 [==============================] - 0s 2ms/step - loss: 0.2459 - accuracy: 0.8892\n",
            "Epoch 114/500\n",
            "11/11 [==============================] - 0s 2ms/step - loss: 0.2446 - accuracy: 0.8980\n",
            "Epoch 115/500\n",
            "11/11 [==============================] - 0s 2ms/step - loss: 0.2502 - accuracy: 0.8892\n",
            "Epoch 116/500\n",
            "11/11 [==============================] - 0s 2ms/step - loss: 0.2447 - accuracy: 0.8892\n",
            "Epoch 117/500\n",
            "11/11 [==============================] - 0s 3ms/step - loss: 0.2399 - accuracy: 0.8950\n",
            "Epoch 118/500\n",
            "11/11 [==============================] - 0s 2ms/step - loss: 0.2454 - accuracy: 0.8980\n",
            "Epoch 119/500\n",
            "11/11 [==============================] - 0s 2ms/step - loss: 0.2401 - accuracy: 0.8892\n",
            "Epoch 120/500\n",
            "11/11 [==============================] - 0s 2ms/step - loss: 0.2365 - accuracy: 0.8980\n",
            "Epoch 121/500\n",
            "11/11 [==============================] - 0s 4ms/step - loss: 0.2365 - accuracy: 0.9038\n",
            "Epoch 122/500\n",
            "11/11 [==============================] - 0s 3ms/step - loss: 0.2352 - accuracy: 0.9009\n",
            "Epoch 123/500\n",
            "11/11 [==============================] - 0s 2ms/step - loss: 0.2378 - accuracy: 0.8921\n",
            "Epoch 124/500\n",
            "11/11 [==============================] - 0s 2ms/step - loss: 0.2354 - accuracy: 0.9096\n",
            "Epoch 125/500\n",
            "11/11 [==============================] - 0s 2ms/step - loss: 0.2375 - accuracy: 0.8950\n",
            "Epoch 126/500\n",
            "11/11 [==============================] - 0s 2ms/step - loss: 0.2308 - accuracy: 0.9009\n",
            "Epoch 127/500\n",
            "11/11 [==============================] - 0s 2ms/step - loss: 0.2308 - accuracy: 0.8980\n",
            "Epoch 128/500\n",
            "11/11 [==============================] - 0s 2ms/step - loss: 0.2296 - accuracy: 0.9096\n",
            "Epoch 129/500\n",
            "11/11 [==============================] - 0s 2ms/step - loss: 0.2285 - accuracy: 0.9009\n",
            "Epoch 130/500\n",
            "11/11 [==============================] - 0s 2ms/step - loss: 0.2274 - accuracy: 0.9096\n",
            "Epoch 131/500\n",
            "11/11 [==============================] - 0s 2ms/step - loss: 0.2338 - accuracy: 0.8980\n",
            "Epoch 132/500\n",
            "11/11 [==============================] - 0s 2ms/step - loss: 0.2288 - accuracy: 0.9242\n",
            "Epoch 133/500\n",
            "11/11 [==============================] - 0s 2ms/step - loss: 0.2284 - accuracy: 0.9009\n",
            "Epoch 134/500\n",
            "11/11 [==============================] - 0s 2ms/step - loss: 0.2242 - accuracy: 0.9155\n",
            "Epoch 135/500\n",
            "11/11 [==============================] - 0s 2ms/step - loss: 0.2205 - accuracy: 0.9096\n",
            "Epoch 136/500\n",
            "11/11 [==============================] - 0s 2ms/step - loss: 0.2194 - accuracy: 0.9096\n",
            "Epoch 137/500\n",
            "11/11 [==============================] - 0s 2ms/step - loss: 0.2195 - accuracy: 0.9125\n",
            "Epoch 138/500\n",
            "11/11 [==============================] - 0s 2ms/step - loss: 0.2182 - accuracy: 0.9155\n",
            "Epoch 139/500\n",
            "11/11 [==============================] - 0s 2ms/step - loss: 0.2203 - accuracy: 0.9271\n",
            "Epoch 140/500\n",
            "11/11 [==============================] - 0s 2ms/step - loss: 0.2245 - accuracy: 0.8980\n",
            "Epoch 141/500\n",
            "11/11 [==============================] - 0s 3ms/step - loss: 0.2138 - accuracy: 0.9213\n",
            "Epoch 142/500\n",
            "11/11 [==============================] - 0s 2ms/step - loss: 0.2205 - accuracy: 0.9096\n",
            "Epoch 143/500\n",
            "11/11 [==============================] - 0s 2ms/step - loss: 0.2138 - accuracy: 0.9300\n",
            "Epoch 144/500\n",
            "11/11 [==============================] - 0s 2ms/step - loss: 0.2164 - accuracy: 0.9009\n",
            "Epoch 145/500\n",
            "11/11 [==============================] - 0s 2ms/step - loss: 0.2135 - accuracy: 0.9184\n",
            "Epoch 146/500\n",
            "11/11 [==============================] - 0s 2ms/step - loss: 0.2104 - accuracy: 0.9125\n",
            "Epoch 147/500\n",
            "11/11 [==============================] - 0s 2ms/step - loss: 0.2085 - accuracy: 0.9213\n",
            "Epoch 148/500\n",
            "11/11 [==============================] - 0s 2ms/step - loss: 0.2209 - accuracy: 0.9125\n",
            "Epoch 149/500\n",
            "11/11 [==============================] - 0s 2ms/step - loss: 0.2163 - accuracy: 0.9184\n",
            "Epoch 150/500\n",
            "11/11 [==============================] - 0s 2ms/step - loss: 0.2282 - accuracy: 0.9155\n",
            "Epoch 151/500\n",
            "11/11 [==============================] - 0s 2ms/step - loss: 0.2307 - accuracy: 0.8921\n",
            "Epoch 152/500\n",
            "11/11 [==============================] - 0s 2ms/step - loss: 0.2280 - accuracy: 0.8980\n",
            "Epoch 153/500\n",
            "11/11 [==============================] - 0s 2ms/step - loss: 0.2139 - accuracy: 0.9300\n",
            "Epoch 154/500\n",
            "11/11 [==============================] - 0s 2ms/step - loss: 0.2117 - accuracy: 0.9096\n",
            "Epoch 155/500\n",
            "11/11 [==============================] - 0s 2ms/step - loss: 0.2148 - accuracy: 0.9155\n",
            "Epoch 156/500\n",
            "11/11 [==============================] - 0s 2ms/step - loss: 0.2103 - accuracy: 0.9125\n",
            "Epoch 157/500\n",
            "11/11 [==============================] - 0s 2ms/step - loss: 0.2100 - accuracy: 0.9125\n",
            "Epoch 158/500\n",
            "11/11 [==============================] - 0s 3ms/step - loss: 0.2056 - accuracy: 0.9271\n",
            "Epoch 159/500\n",
            "11/11 [==============================] - 0s 2ms/step - loss: 0.2020 - accuracy: 0.9271\n",
            "Epoch 160/500\n",
            "11/11 [==============================] - 0s 2ms/step - loss: 0.2030 - accuracy: 0.9213\n",
            "Epoch 161/500\n",
            "11/11 [==============================] - 0s 2ms/step - loss: 0.1968 - accuracy: 0.9271\n",
            "Epoch 162/500\n",
            "11/11 [==============================] - 0s 2ms/step - loss: 0.1993 - accuracy: 0.9184\n",
            "Epoch 163/500\n",
            "11/11 [==============================] - 0s 2ms/step - loss: 0.2048 - accuracy: 0.9184\n",
            "Epoch 164/500\n",
            "11/11 [==============================] - 0s 2ms/step - loss: 0.1935 - accuracy: 0.9242\n",
            "Epoch 165/500\n",
            "11/11 [==============================] - 0s 2ms/step - loss: 0.1955 - accuracy: 0.9300\n",
            "Epoch 166/500\n",
            "11/11 [==============================] - 0s 2ms/step - loss: 0.1874 - accuracy: 0.9359\n",
            "Epoch 167/500\n",
            "11/11 [==============================] - 0s 2ms/step - loss: 0.1917 - accuracy: 0.9242\n",
            "Epoch 168/500\n",
            "11/11 [==============================] - 0s 2ms/step - loss: 0.2166 - accuracy: 0.9155\n",
            "Epoch 169/500\n",
            "11/11 [==============================] - 0s 2ms/step - loss: 0.1943 - accuracy: 0.9300\n",
            "Epoch 170/500\n",
            "11/11 [==============================] - 0s 2ms/step - loss: 0.2079 - accuracy: 0.9155\n",
            "Epoch 171/500\n",
            "11/11 [==============================] - 0s 2ms/step - loss: 0.2101 - accuracy: 0.9096\n",
            "Epoch 172/500\n",
            "11/11 [==============================] - 0s 2ms/step - loss: 0.1895 - accuracy: 0.9300\n",
            "Epoch 173/500\n",
            "11/11 [==============================] - 0s 2ms/step - loss: 0.1913 - accuracy: 0.9184\n",
            "Epoch 174/500\n",
            "11/11 [==============================] - 0s 2ms/step - loss: 0.1870 - accuracy: 0.9300\n",
            "Epoch 175/500\n",
            "11/11 [==============================] - 0s 2ms/step - loss: 0.1870 - accuracy: 0.9213\n",
            "Epoch 176/500\n",
            "11/11 [==============================] - 0s 2ms/step - loss: 0.1847 - accuracy: 0.9388\n",
            "Epoch 177/500\n",
            "11/11 [==============================] - 0s 2ms/step - loss: 0.1906 - accuracy: 0.9213\n",
            "Epoch 178/500\n",
            "11/11 [==============================] - 0s 2ms/step - loss: 0.1829 - accuracy: 0.9300\n",
            "Epoch 179/500\n",
            "11/11 [==============================] - 0s 2ms/step - loss: 0.1831 - accuracy: 0.9300\n",
            "Epoch 180/500\n",
            "11/11 [==============================] - 0s 2ms/step - loss: 0.1822 - accuracy: 0.9329\n",
            "Epoch 181/500\n",
            "11/11 [==============================] - 0s 3ms/step - loss: 0.1837 - accuracy: 0.9300\n",
            "Epoch 182/500\n",
            "11/11 [==============================] - 0s 2ms/step - loss: 0.1791 - accuracy: 0.9388\n",
            "Epoch 183/500\n",
            "11/11 [==============================] - 0s 2ms/step - loss: 0.1842 - accuracy: 0.9271\n",
            "Epoch 184/500\n",
            "11/11 [==============================] - 0s 2ms/step - loss: 0.1797 - accuracy: 0.9300\n",
            "Epoch 185/500\n",
            "11/11 [==============================] - 0s 2ms/step - loss: 0.1921 - accuracy: 0.9125\n",
            "Epoch 186/500\n",
            "11/11 [==============================] - 0s 2ms/step - loss: 0.1917 - accuracy: 0.9213\n",
            "Epoch 187/500\n",
            "11/11 [==============================] - 0s 2ms/step - loss: 0.1830 - accuracy: 0.9359\n",
            "Epoch 188/500\n",
            "11/11 [==============================] - 0s 2ms/step - loss: 0.1878 - accuracy: 0.9184\n",
            "Epoch 189/500\n",
            "11/11 [==============================] - 0s 2ms/step - loss: 0.1766 - accuracy: 0.9329\n",
            "Epoch 190/500\n",
            "11/11 [==============================] - 0s 2ms/step - loss: 0.1781 - accuracy: 0.9329\n",
            "Epoch 191/500\n",
            "11/11 [==============================] - 0s 2ms/step - loss: 0.1734 - accuracy: 0.9300\n",
            "Epoch 192/500\n",
            "11/11 [==============================] - 0s 3ms/step - loss: 0.1766 - accuracy: 0.9329\n",
            "Epoch 193/500\n",
            "11/11 [==============================] - 0s 3ms/step - loss: 0.1730 - accuracy: 0.9271\n",
            "Epoch 194/500\n",
            "11/11 [==============================] - 0s 2ms/step - loss: 0.8125 - accuracy: 0.8280\n",
            "Epoch 195/500\n",
            "11/11 [==============================] - 0s 2ms/step - loss: 2.3410 - accuracy: 0.6327\n",
            "Epoch 196/500\n",
            "11/11 [==============================] - 0s 2ms/step - loss: 9.2385 - accuracy: 0.5685\n",
            "Epoch 197/500\n",
            "11/11 [==============================] - 0s 2ms/step - loss: 8.8793 - accuracy: 0.5102\n",
            "Epoch 198/500\n",
            "11/11 [==============================] - 0s 2ms/step - loss: 2.0710 - accuracy: 0.6327\n",
            "Epoch 199/500\n",
            "11/11 [==============================] - 0s 2ms/step - loss: 3.4194 - accuracy: 0.6239\n",
            "Epoch 200/500\n",
            "11/11 [==============================] - 0s 3ms/step - loss: 3.1041 - accuracy: 0.5248\n",
            "Epoch 201/500\n",
            "11/11 [==============================] - 0s 2ms/step - loss: 1.1419 - accuracy: 0.6589\n",
            "Epoch 202/500\n",
            "11/11 [==============================] - 0s 2ms/step - loss: 0.3244 - accuracy: 0.8601\n",
            "Epoch 203/500\n",
            "11/11 [==============================] - 0s 2ms/step - loss: 0.3861 - accuracy: 0.8251\n",
            "Epoch 204/500\n",
            "11/11 [==============================] - 0s 2ms/step - loss: 0.2833 - accuracy: 0.8776\n",
            "Epoch 205/500\n",
            "11/11 [==============================] - 0s 2ms/step - loss: 0.2807 - accuracy: 0.9038\n",
            "Epoch 206/500\n",
            "11/11 [==============================] - 0s 2ms/step - loss: 0.2712 - accuracy: 0.8980\n",
            "Epoch 207/500\n",
            "11/11 [==============================] - 0s 2ms/step - loss: 0.2695 - accuracy: 0.8980\n",
            "Epoch 208/500\n",
            "11/11 [==============================] - 0s 3ms/step - loss: 0.2682 - accuracy: 0.8863\n",
            "Epoch 209/500\n",
            "11/11 [==============================] - 0s 2ms/step - loss: 0.2669 - accuracy: 0.9009\n",
            "Epoch 210/500\n",
            "11/11 [==============================] - 0s 2ms/step - loss: 0.2665 - accuracy: 0.8921\n",
            "Epoch 211/500\n",
            "11/11 [==============================] - 0s 2ms/step - loss: 0.2631 - accuracy: 0.8980\n",
            "Epoch 212/500\n",
            "11/11 [==============================] - 0s 2ms/step - loss: 0.2606 - accuracy: 0.9009\n",
            "Epoch 213/500\n",
            "11/11 [==============================] - 0s 2ms/step - loss: 0.2515 - accuracy: 0.9067\n",
            "Epoch 214/500\n",
            "11/11 [==============================] - 0s 3ms/step - loss: 0.2391 - accuracy: 0.9096\n",
            "Epoch 215/500\n",
            "11/11 [==============================] - 0s 2ms/step - loss: 0.2385 - accuracy: 0.9096\n",
            "Epoch 216/500\n",
            "11/11 [==============================] - 0s 2ms/step - loss: 0.2354 - accuracy: 0.9155\n",
            "Epoch 217/500\n",
            "11/11 [==============================] - 0s 2ms/step - loss: 0.2356 - accuracy: 0.9213\n",
            "Epoch 218/500\n",
            "11/11 [==============================] - 0s 3ms/step - loss: 0.2343 - accuracy: 0.9184\n",
            "Epoch 219/500\n",
            "11/11 [==============================] - 0s 2ms/step - loss: 0.2334 - accuracy: 0.9184\n",
            "Epoch 220/500\n",
            "11/11 [==============================] - 0s 2ms/step - loss: 0.2323 - accuracy: 0.9125\n",
            "Epoch 221/500\n",
            "11/11 [==============================] - 0s 2ms/step - loss: 0.2315 - accuracy: 0.9125\n",
            "Epoch 222/500\n",
            "11/11 [==============================] - 0s 2ms/step - loss: 0.2309 - accuracy: 0.9155\n",
            "Epoch 223/500\n",
            "11/11 [==============================] - 0s 2ms/step - loss: 0.2303 - accuracy: 0.9125\n",
            "Epoch 224/500\n",
            "11/11 [==============================] - 0s 2ms/step - loss: 0.2299 - accuracy: 0.9125\n",
            "Epoch 225/500\n",
            "11/11 [==============================] - 0s 2ms/step - loss: 0.2299 - accuracy: 0.8980\n",
            "Epoch 226/500\n",
            "11/11 [==============================] - 0s 2ms/step - loss: 0.2301 - accuracy: 0.9155\n",
            "Epoch 227/500\n",
            "11/11 [==============================] - 0s 2ms/step - loss: 0.2344 - accuracy: 0.9096\n",
            "Epoch 228/500\n",
            "11/11 [==============================] - 0s 2ms/step - loss: 0.2237 - accuracy: 0.9213\n",
            "Epoch 229/500\n",
            "11/11 [==============================] - 0s 2ms/step - loss: 0.2255 - accuracy: 0.9184\n",
            "Epoch 230/500\n",
            "11/11 [==============================] - 0s 2ms/step - loss: 0.2231 - accuracy: 0.9155\n",
            "Epoch 231/500\n",
            "11/11 [==============================] - 0s 2ms/step - loss: 0.2222 - accuracy: 0.9184\n",
            "Epoch 232/500\n",
            "11/11 [==============================] - 0s 2ms/step - loss: 0.2213 - accuracy: 0.9125\n",
            "Epoch 233/500\n",
            "11/11 [==============================] - 0s 2ms/step - loss: 0.2208 - accuracy: 0.9213\n",
            "Epoch 234/500\n",
            "11/11 [==============================] - 0s 2ms/step - loss: 0.2212 - accuracy: 0.9184\n",
            "Epoch 235/500\n",
            "11/11 [==============================] - 0s 2ms/step - loss: 0.2195 - accuracy: 0.9213\n",
            "Epoch 236/500\n",
            "11/11 [==============================] - 0s 2ms/step - loss: 0.2189 - accuracy: 0.9213\n",
            "Epoch 237/500\n",
            "11/11 [==============================] - 0s 2ms/step - loss: 0.2177 - accuracy: 0.9155\n",
            "Epoch 238/500\n",
            "11/11 [==============================] - 0s 2ms/step - loss: 0.2169 - accuracy: 0.9242\n",
            "Epoch 239/500\n",
            "11/11 [==============================] - 0s 2ms/step - loss: 0.2160 - accuracy: 0.9213\n",
            "Epoch 240/500\n",
            "11/11 [==============================] - 0s 2ms/step - loss: 0.2170 - accuracy: 0.9125\n",
            "Epoch 241/500\n",
            "11/11 [==============================] - 0s 2ms/step - loss: 0.2157 - accuracy: 0.9184\n",
            "Epoch 242/500\n",
            "11/11 [==============================] - 0s 2ms/step - loss: 0.2151 - accuracy: 0.9184\n",
            "Epoch 243/500\n",
            "11/11 [==============================] - 0s 2ms/step - loss: 0.2194 - accuracy: 0.9096\n",
            "Epoch 244/500\n",
            "11/11 [==============================] - 0s 2ms/step - loss: 0.2197 - accuracy: 0.9125\n",
            "Epoch 245/500\n",
            "11/11 [==============================] - 0s 2ms/step - loss: 0.2125 - accuracy: 0.9242\n",
            "Epoch 246/500\n",
            "11/11 [==============================] - 0s 2ms/step - loss: 0.2119 - accuracy: 0.9184\n",
            "Epoch 247/500\n",
            "11/11 [==============================] - 0s 2ms/step - loss: 0.2113 - accuracy: 0.9242\n",
            "Epoch 248/500\n",
            "11/11 [==============================] - 0s 2ms/step - loss: 0.2084 - accuracy: 0.9213\n",
            "Epoch 249/500\n",
            "11/11 [==============================] - 0s 2ms/step - loss: 0.2072 - accuracy: 0.9242\n",
            "Epoch 250/500\n",
            "11/11 [==============================] - 0s 2ms/step - loss: 0.2082 - accuracy: 0.9184\n",
            "Epoch 251/500\n",
            "11/11 [==============================] - 0s 3ms/step - loss: 0.2082 - accuracy: 0.9271\n",
            "Epoch 252/500\n",
            "11/11 [==============================] - 0s 2ms/step - loss: 0.2073 - accuracy: 0.9242\n",
            "Epoch 253/500\n",
            "11/11 [==============================] - 0s 2ms/step - loss: 0.2039 - accuracy: 0.9213\n",
            "Epoch 254/500\n",
            "11/11 [==============================] - 0s 2ms/step - loss: 0.2035 - accuracy: 0.9213\n",
            "Epoch 255/500\n",
            "11/11 [==============================] - 0s 2ms/step - loss: 0.2047 - accuracy: 0.9213\n",
            "Epoch 256/500\n",
            "11/11 [==============================] - 0s 2ms/step - loss: 0.2040 - accuracy: 0.9300\n",
            "Epoch 257/500\n",
            "11/11 [==============================] - 0s 2ms/step - loss: 0.2086 - accuracy: 0.9155\n",
            "Epoch 258/500\n",
            "11/11 [==============================] - 0s 2ms/step - loss: 0.2028 - accuracy: 0.9329\n",
            "Epoch 259/500\n",
            "11/11 [==============================] - 0s 2ms/step - loss: 0.2044 - accuracy: 0.9184\n",
            "Epoch 260/500\n",
            "11/11 [==============================] - 0s 2ms/step - loss: 0.2013 - accuracy: 0.9213\n",
            "Epoch 261/500\n",
            "11/11 [==============================] - 0s 2ms/step - loss: 0.2010 - accuracy: 0.9329\n",
            "Epoch 262/500\n",
            "11/11 [==============================] - 0s 2ms/step - loss: 0.1995 - accuracy: 0.9242\n",
            "Epoch 263/500\n",
            "11/11 [==============================] - 0s 2ms/step - loss: 0.1973 - accuracy: 0.9184\n",
            "Epoch 264/500\n",
            "11/11 [==============================] - 0s 2ms/step - loss: 0.1965 - accuracy: 0.9271\n",
            "Epoch 265/500\n",
            "11/11 [==============================] - 0s 2ms/step - loss: 0.1975 - accuracy: 0.9271\n",
            "Epoch 266/500\n",
            "11/11 [==============================] - 0s 2ms/step - loss: 0.1945 - accuracy: 0.9242\n",
            "Epoch 267/500\n",
            "11/11 [==============================] - 0s 2ms/step - loss: 0.1965 - accuracy: 0.9329\n",
            "Epoch 268/500\n",
            "11/11 [==============================] - 0s 2ms/step - loss: 0.2030 - accuracy: 0.9125\n",
            "Epoch 269/500\n",
            "11/11 [==============================] - 0s 2ms/step - loss: 0.2001 - accuracy: 0.9300\n",
            "Epoch 270/500\n",
            "11/11 [==============================] - 0s 2ms/step - loss: 0.1967 - accuracy: 0.9213\n",
            "Epoch 271/500\n",
            "11/11 [==============================] - 0s 3ms/step - loss: 0.2021 - accuracy: 0.9329\n",
            "Epoch 272/500\n",
            "11/11 [==============================] - 0s 3ms/step - loss: 0.2141 - accuracy: 0.9125\n",
            "Epoch 273/500\n",
            "11/11 [==============================] - 0s 2ms/step - loss: 0.1959 - accuracy: 0.9359\n",
            "Epoch 274/500\n",
            "11/11 [==============================] - 0s 2ms/step - loss: 0.1898 - accuracy: 0.9359\n",
            "Epoch 275/500\n",
            "11/11 [==============================] - 0s 2ms/step - loss: 0.1887 - accuracy: 0.9271\n",
            "Epoch 276/500\n",
            "11/11 [==============================] - 0s 2ms/step - loss: 0.1903 - accuracy: 0.9359\n",
            "Epoch 277/500\n",
            "11/11 [==============================] - 0s 2ms/step - loss: 0.1888 - accuracy: 0.9271\n",
            "Epoch 278/500\n",
            "11/11 [==============================] - 0s 2ms/step - loss: 0.1881 - accuracy: 0.9213\n",
            "Epoch 279/500\n",
            "11/11 [==============================] - 0s 2ms/step - loss: 0.1963 - accuracy: 0.9242\n",
            "Epoch 280/500\n",
            "11/11 [==============================] - 0s 2ms/step - loss: 0.1892 - accuracy: 0.9417\n",
            "Epoch 281/500\n",
            "11/11 [==============================] - 0s 2ms/step - loss: 0.1854 - accuracy: 0.9329\n",
            "Epoch 282/500\n",
            "11/11 [==============================] - 0s 3ms/step - loss: 0.1838 - accuracy: 0.9300\n",
            "Epoch 283/500\n",
            "11/11 [==============================] - 0s 2ms/step - loss: 0.1851 - accuracy: 0.9242\n",
            "Epoch 284/500\n",
            "11/11 [==============================] - 0s 2ms/step - loss: 0.1824 - accuracy: 0.9359\n",
            "Epoch 285/500\n",
            "11/11 [==============================] - 0s 2ms/step - loss: 0.1819 - accuracy: 0.9271\n",
            "Epoch 286/500\n",
            "11/11 [==============================] - 0s 2ms/step - loss: 0.1824 - accuracy: 0.9271\n",
            "Epoch 287/500\n",
            "11/11 [==============================] - 0s 2ms/step - loss: 0.1792 - accuracy: 0.9329\n",
            "Epoch 288/500\n",
            "11/11 [==============================] - 0s 3ms/step - loss: 0.1783 - accuracy: 0.9300\n",
            "Epoch 289/500\n",
            "11/11 [==============================] - 0s 2ms/step - loss: 0.1776 - accuracy: 0.9446\n",
            "Epoch 290/500\n",
            "11/11 [==============================] - 0s 2ms/step - loss: 0.1751 - accuracy: 0.9359\n",
            "Epoch 291/500\n",
            "11/11 [==============================] - 0s 2ms/step - loss: 0.1822 - accuracy: 0.9184\n",
            "Epoch 292/500\n",
            "11/11 [==============================] - 0s 2ms/step - loss: 0.1924 - accuracy: 0.9329\n",
            "Epoch 293/500\n",
            "11/11 [==============================] - 0s 2ms/step - loss: 0.1868 - accuracy: 0.9359\n",
            "Epoch 294/500\n",
            "11/11 [==============================] - 0s 2ms/step - loss: 0.1799 - accuracy: 0.9359\n",
            "Epoch 295/500\n",
            "11/11 [==============================] - 0s 2ms/step - loss: 0.1796 - accuracy: 0.9417\n",
            "Epoch 296/500\n",
            "11/11 [==============================] - 0s 2ms/step - loss: 0.1772 - accuracy: 0.9242\n",
            "Epoch 297/500\n",
            "11/11 [==============================] - 0s 2ms/step - loss: 0.1725 - accuracy: 0.9388\n",
            "Epoch 298/500\n",
            "11/11 [==============================] - 0s 2ms/step - loss: 0.1709 - accuracy: 0.9359\n",
            "Epoch 299/500\n",
            "11/11 [==============================] - 0s 2ms/step - loss: 0.1685 - accuracy: 0.9359\n",
            "Epoch 300/500\n",
            "11/11 [==============================] - 0s 2ms/step - loss: 0.1689 - accuracy: 0.9359\n",
            "Epoch 301/500\n",
            "11/11 [==============================] - 0s 2ms/step - loss: 0.1671 - accuracy: 0.9417\n",
            "Epoch 302/500\n",
            "11/11 [==============================] - 0s 2ms/step - loss: 0.1717 - accuracy: 0.9300\n",
            "Epoch 303/500\n",
            "11/11 [==============================] - 0s 2ms/step - loss: 0.1757 - accuracy: 0.9300\n",
            "Epoch 304/500\n",
            "11/11 [==============================] - 0s 2ms/step - loss: 0.1748 - accuracy: 0.9446\n",
            "Epoch 305/500\n",
            "11/11 [==============================] - 0s 2ms/step - loss: 0.1645 - accuracy: 0.9446\n",
            "Epoch 306/500\n",
            "11/11 [==============================] - 0s 2ms/step - loss: 0.1634 - accuracy: 0.9388\n",
            "Epoch 307/500\n",
            "11/11 [==============================] - 0s 2ms/step - loss: 0.1667 - accuracy: 0.9329\n",
            "Epoch 308/500\n",
            "11/11 [==============================] - 0s 2ms/step - loss: 0.1619 - accuracy: 0.9388\n",
            "Epoch 309/500\n",
            "11/11 [==============================] - 0s 2ms/step - loss: 0.1644 - accuracy: 0.9417\n",
            "Epoch 310/500\n",
            "11/11 [==============================] - 0s 2ms/step - loss: 0.1633 - accuracy: 0.9417\n",
            "Epoch 311/500\n",
            "11/11 [==============================] - 0s 2ms/step - loss: 0.1613 - accuracy: 0.9359\n",
            "Epoch 312/500\n",
            "11/11 [==============================] - 0s 2ms/step - loss: 0.1593 - accuracy: 0.9417\n",
            "Epoch 313/500\n",
            "11/11 [==============================] - 0s 2ms/step - loss: 0.1570 - accuracy: 0.9417\n",
            "Epoch 314/500\n",
            "11/11 [==============================] - 0s 2ms/step - loss: 0.1577 - accuracy: 0.9388\n",
            "Epoch 315/500\n",
            "11/11 [==============================] - 0s 2ms/step - loss: 0.1587 - accuracy: 0.9417\n",
            "Epoch 316/500\n",
            "11/11 [==============================] - 0s 2ms/step - loss: 0.1615 - accuracy: 0.9446\n",
            "Epoch 317/500\n",
            "11/11 [==============================] - 0s 3ms/step - loss: 0.1602 - accuracy: 0.9329\n",
            "Epoch 318/500\n",
            "11/11 [==============================] - 0s 2ms/step - loss: 0.1551 - accuracy: 0.9388\n",
            "Epoch 319/500\n",
            "11/11 [==============================] - 0s 2ms/step - loss: 0.1531 - accuracy: 0.9359\n",
            "Epoch 320/500\n",
            "11/11 [==============================] - 0s 2ms/step - loss: 0.1523 - accuracy: 0.9388\n",
            "Epoch 321/500\n",
            "11/11 [==============================] - 0s 2ms/step - loss: 0.1540 - accuracy: 0.9446\n",
            "Epoch 322/500\n",
            "11/11 [==============================] - 0s 2ms/step - loss: 0.1561 - accuracy: 0.9446\n",
            "Epoch 323/500\n",
            "11/11 [==============================] - 0s 2ms/step - loss: 0.1636 - accuracy: 0.9300\n",
            "Epoch 324/500\n",
            "11/11 [==============================] - 0s 2ms/step - loss: 0.1576 - accuracy: 0.9446\n",
            "Epoch 325/500\n",
            "11/11 [==============================] - 0s 2ms/step - loss: 0.1548 - accuracy: 0.9417\n",
            "Epoch 326/500\n",
            "11/11 [==============================] - 0s 2ms/step - loss: 0.1511 - accuracy: 0.9359\n",
            "Epoch 327/500\n",
            "11/11 [==============================] - 0s 2ms/step - loss: 0.1579 - accuracy: 0.9475\n",
            "Epoch 328/500\n",
            "11/11 [==============================] - 0s 2ms/step - loss: 0.1487 - accuracy: 0.9446\n",
            "Epoch 329/500\n",
            "11/11 [==============================] - 0s 2ms/step - loss: 0.1471 - accuracy: 0.9446\n",
            "Epoch 330/500\n",
            "11/11 [==============================] - 0s 2ms/step - loss: 0.1524 - accuracy: 0.9475\n",
            "Epoch 331/500\n",
            "11/11 [==============================] - 0s 2ms/step - loss: 0.1451 - accuracy: 0.9388\n",
            "Epoch 332/500\n",
            "11/11 [==============================] - 0s 2ms/step - loss: 0.1431 - accuracy: 0.9446\n",
            "Epoch 333/500\n",
            "11/11 [==============================] - 0s 2ms/step - loss: 0.1589 - accuracy: 0.9359\n",
            "Epoch 334/500\n",
            "11/11 [==============================] - 0s 2ms/step - loss: 0.1516 - accuracy: 0.9300\n",
            "Epoch 335/500\n",
            "11/11 [==============================] - 0s 2ms/step - loss: 0.1443 - accuracy: 0.9417\n",
            "Epoch 336/500\n",
            "11/11 [==============================] - 0s 2ms/step - loss: 0.1404 - accuracy: 0.9475\n",
            "Epoch 337/500\n",
            "11/11 [==============================] - 0s 2ms/step - loss: 0.1377 - accuracy: 0.9475\n",
            "Epoch 338/500\n",
            "11/11 [==============================] - 0s 2ms/step - loss: 0.1381 - accuracy: 0.9504\n",
            "Epoch 339/500\n",
            "11/11 [==============================] - 0s 2ms/step - loss: 0.1387 - accuracy: 0.9563\n",
            "Epoch 340/500\n",
            "11/11 [==============================] - 0s 2ms/step - loss: 0.1421 - accuracy: 0.9417\n",
            "Epoch 341/500\n",
            "11/11 [==============================] - 0s 2ms/step - loss: 0.1415 - accuracy: 0.9329\n",
            "Epoch 342/500\n",
            "11/11 [==============================] - 0s 2ms/step - loss: 0.1379 - accuracy: 0.9417\n",
            "Epoch 343/500\n",
            "11/11 [==============================] - 0s 2ms/step - loss: 0.1447 - accuracy: 0.9417\n",
            "Epoch 344/500\n",
            "11/11 [==============================] - 0s 2ms/step - loss: 0.1408 - accuracy: 0.9534\n",
            "Epoch 345/500\n",
            "11/11 [==============================] - 0s 2ms/step - loss: 0.1402 - accuracy: 0.9475\n",
            "Epoch 346/500\n",
            "11/11 [==============================] - 0s 2ms/step - loss: 0.1332 - accuracy: 0.9446\n",
            "Epoch 347/500\n",
            "11/11 [==============================] - 0s 2ms/step - loss: 0.1343 - accuracy: 0.9446\n",
            "Epoch 348/500\n",
            "11/11 [==============================] - 0s 2ms/step - loss: 0.1311 - accuracy: 0.9563\n",
            "Epoch 349/500\n",
            "11/11 [==============================] - 0s 2ms/step - loss: 0.1441 - accuracy: 0.9475\n",
            "Epoch 350/500\n",
            "11/11 [==============================] - 0s 2ms/step - loss: 0.1281 - accuracy: 0.9504\n",
            "Epoch 351/500\n",
            "11/11 [==============================] - 0s 2ms/step - loss: 0.1480 - accuracy: 0.9359\n",
            "Epoch 352/500\n",
            "11/11 [==============================] - 0s 3ms/step - loss: 0.1542 - accuracy: 0.9359\n",
            "Epoch 353/500\n",
            "11/11 [==============================] - 0s 2ms/step - loss: 0.1657 - accuracy: 0.9242\n",
            "Epoch 354/500\n",
            "11/11 [==============================] - 0s 2ms/step - loss: 0.1325 - accuracy: 0.9534\n",
            "Epoch 355/500\n",
            "11/11 [==============================] - 0s 2ms/step - loss: 0.1299 - accuracy: 0.9446\n",
            "Epoch 356/500\n",
            "11/11 [==============================] - 0s 2ms/step - loss: 0.1247 - accuracy: 0.9446\n",
            "Epoch 357/500\n",
            "11/11 [==============================] - 0s 2ms/step - loss: 0.1262 - accuracy: 0.9563\n",
            "Epoch 358/500\n",
            "11/11 [==============================] - 0s 2ms/step - loss: 0.1437 - accuracy: 0.9388\n",
            "Epoch 359/500\n",
            "11/11 [==============================] - 0s 2ms/step - loss: 0.1254 - accuracy: 0.9446\n",
            "Epoch 360/500\n",
            "11/11 [==============================] - 0s 2ms/step - loss: 0.1240 - accuracy: 0.9504\n",
            "Epoch 361/500\n",
            "11/11 [==============================] - 0s 2ms/step - loss: 0.1230 - accuracy: 0.9534\n",
            "Epoch 362/500\n",
            "11/11 [==============================] - 0s 2ms/step - loss: 0.1300 - accuracy: 0.9475\n",
            "Epoch 363/500\n",
            "11/11 [==============================] - 0s 2ms/step - loss: 0.1334 - accuracy: 0.9446\n",
            "Epoch 364/500\n",
            "11/11 [==============================] - 0s 2ms/step - loss: 0.1187 - accuracy: 0.9592\n",
            "Epoch 365/500\n",
            "11/11 [==============================] - 0s 2ms/step - loss: 0.1209 - accuracy: 0.9592\n",
            "Epoch 366/500\n",
            "11/11 [==============================] - 0s 2ms/step - loss: 0.1192 - accuracy: 0.9592\n",
            "Epoch 367/500\n",
            "11/11 [==============================] - 0s 2ms/step - loss: 0.1188 - accuracy: 0.9592\n",
            "Epoch 368/500\n",
            "11/11 [==============================] - 0s 2ms/step - loss: 0.1171 - accuracy: 0.9534\n",
            "Epoch 369/500\n",
            "11/11 [==============================] - 0s 2ms/step - loss: 0.1152 - accuracy: 0.9650\n",
            "Epoch 370/500\n",
            "11/11 [==============================] - 0s 2ms/step - loss: 0.1279 - accuracy: 0.9621\n",
            "Epoch 371/500\n",
            "11/11 [==============================] - 0s 3ms/step - loss: 0.1273 - accuracy: 0.9446\n",
            "Epoch 372/500\n",
            "11/11 [==============================] - 0s 2ms/step - loss: 0.1213 - accuracy: 0.9534\n",
            "Epoch 373/500\n",
            "11/11 [==============================] - 0s 2ms/step - loss: 0.1197 - accuracy: 0.9563\n",
            "Epoch 374/500\n",
            "11/11 [==============================] - 0s 2ms/step - loss: 0.1191 - accuracy: 0.9563\n",
            "Epoch 375/500\n",
            "11/11 [==============================] - 0s 2ms/step - loss: 0.1262 - accuracy: 0.9534\n",
            "Epoch 376/500\n",
            "11/11 [==============================] - 0s 2ms/step - loss: 0.1135 - accuracy: 0.9563\n",
            "Epoch 377/500\n",
            "11/11 [==============================] - 0s 2ms/step - loss: 0.1204 - accuracy: 0.9563\n",
            "Epoch 378/500\n",
            "11/11 [==============================] - 0s 2ms/step - loss: 0.1163 - accuracy: 0.9504\n",
            "Epoch 379/500\n",
            "11/11 [==============================] - 0s 2ms/step - loss: 0.1331 - accuracy: 0.9388\n",
            "Epoch 380/500\n",
            "11/11 [==============================] - 0s 2ms/step - loss: 0.1125 - accuracy: 0.9563\n",
            "Epoch 381/500\n",
            "11/11 [==============================] - 0s 2ms/step - loss: 0.1090 - accuracy: 0.9738\n",
            "Epoch 382/500\n",
            "11/11 [==============================] - 0s 2ms/step - loss: 0.1131 - accuracy: 0.9679\n",
            "Epoch 383/500\n",
            "11/11 [==============================] - 0s 2ms/step - loss: 0.1021 - accuracy: 0.9708\n",
            "Epoch 384/500\n",
            "11/11 [==============================] - 0s 2ms/step - loss: 0.1178 - accuracy: 0.9621\n",
            "Epoch 385/500\n",
            "11/11 [==============================] - 0s 2ms/step - loss: 0.1088 - accuracy: 0.9621\n",
            "Epoch 386/500\n",
            "11/11 [==============================] - 0s 2ms/step - loss: 0.1180 - accuracy: 0.9621\n",
            "Epoch 387/500\n",
            "11/11 [==============================] - 0s 2ms/step - loss: 0.1137 - accuracy: 0.9621\n",
            "Epoch 388/500\n",
            "11/11 [==============================] - 0s 2ms/step - loss: 0.1354 - accuracy: 0.9446\n",
            "Epoch 389/500\n",
            "11/11 [==============================] - 0s 2ms/step - loss: 0.1112 - accuracy: 0.9679\n",
            "Epoch 390/500\n",
            "11/11 [==============================] - 0s 2ms/step - loss: 0.1191 - accuracy: 0.9504\n",
            "Epoch 391/500\n",
            "11/11 [==============================] - 0s 2ms/step - loss: 0.1101 - accuracy: 0.9592\n",
            "Epoch 392/500\n",
            "11/11 [==============================] - 0s 2ms/step - loss: 0.1260 - accuracy: 0.9475\n",
            "Epoch 393/500\n",
            "11/11 [==============================] - 0s 2ms/step - loss: 0.1040 - accuracy: 0.9650\n",
            "Epoch 394/500\n",
            "11/11 [==============================] - 0s 2ms/step - loss: 0.1011 - accuracy: 0.9592\n",
            "Epoch 395/500\n",
            "11/11 [==============================] - 0s 2ms/step - loss: 0.1110 - accuracy: 0.9592\n",
            "Epoch 396/500\n",
            "11/11 [==============================] - 0s 2ms/step - loss: 0.1051 - accuracy: 0.9679\n",
            "Epoch 397/500\n",
            "11/11 [==============================] - 0s 2ms/step - loss: 0.1034 - accuracy: 0.9708\n",
            "Epoch 398/500\n",
            "11/11 [==============================] - 0s 3ms/step - loss: 0.1009 - accuracy: 0.9650\n",
            "Epoch 399/500\n",
            "11/11 [==============================] - 0s 2ms/step - loss: 0.1099 - accuracy: 0.9621\n",
            "Epoch 400/500\n",
            "11/11 [==============================] - 0s 2ms/step - loss: 0.1051 - accuracy: 0.9621\n",
            "Epoch 401/500\n",
            "11/11 [==============================] - 0s 2ms/step - loss: 0.1045 - accuracy: 0.9650\n",
            "Epoch 402/500\n",
            "11/11 [==============================] - 0s 2ms/step - loss: 0.0979 - accuracy: 0.9650\n",
            "Epoch 403/500\n",
            "11/11 [==============================] - 0s 2ms/step - loss: 0.0953 - accuracy: 0.9708\n",
            "Epoch 404/500\n",
            "11/11 [==============================] - 0s 2ms/step - loss: 0.0968 - accuracy: 0.9621\n",
            "Epoch 405/500\n",
            "11/11 [==============================] - 0s 2ms/step - loss: 0.0986 - accuracy: 0.9650\n",
            "Epoch 406/500\n",
            "11/11 [==============================] - 0s 2ms/step - loss: 0.1027 - accuracy: 0.9592\n",
            "Epoch 407/500\n",
            "11/11 [==============================] - 0s 2ms/step - loss: 0.1067 - accuracy: 0.9592\n",
            "Epoch 408/500\n",
            "11/11 [==============================] - 0s 2ms/step - loss: 0.1148 - accuracy: 0.9504\n",
            "Epoch 409/500\n",
            "11/11 [==============================] - 0s 2ms/step - loss: 0.1007 - accuracy: 0.9679\n",
            "Epoch 410/500\n",
            "11/11 [==============================] - 0s 2ms/step - loss: 0.0969 - accuracy: 0.9708\n",
            "Epoch 411/500\n",
            "11/11 [==============================] - 0s 2ms/step - loss: 0.0976 - accuracy: 0.9708\n",
            "Epoch 412/500\n",
            "11/11 [==============================] - 0s 2ms/step - loss: 0.0899 - accuracy: 0.9767\n",
            "Epoch 413/500\n",
            "11/11 [==============================] - 0s 2ms/step - loss: 0.1053 - accuracy: 0.9592\n",
            "Epoch 414/500\n",
            "11/11 [==============================] - 0s 2ms/step - loss: 0.1014 - accuracy: 0.9592\n",
            "Epoch 415/500\n",
            "11/11 [==============================] - 0s 2ms/step - loss: 0.0940 - accuracy: 0.9708\n",
            "Epoch 416/500\n",
            "11/11 [==============================] - 0s 2ms/step - loss: 0.1031 - accuracy: 0.9679\n",
            "Epoch 417/500\n",
            "11/11 [==============================] - 0s 2ms/step - loss: 0.1011 - accuracy: 0.9650\n",
            "Epoch 418/500\n",
            "11/11 [==============================] - 0s 2ms/step - loss: 0.1094 - accuracy: 0.9563\n",
            "Epoch 419/500\n",
            "11/11 [==============================] - 0s 2ms/step - loss: 0.1170 - accuracy: 0.9592\n",
            "Epoch 420/500\n",
            "11/11 [==============================] - 0s 3ms/step - loss: 0.0941 - accuracy: 0.9708\n",
            "Epoch 421/500\n",
            "11/11 [==============================] - 0s 2ms/step - loss: 0.0833 - accuracy: 0.9738\n",
            "Epoch 422/500\n",
            "11/11 [==============================] - 0s 2ms/step - loss: 0.0837 - accuracy: 0.9796\n",
            "Epoch 423/500\n",
            "11/11 [==============================] - 0s 2ms/step - loss: 0.0838 - accuracy: 0.9767\n",
            "Epoch 424/500\n",
            "11/11 [==============================] - 0s 3ms/step - loss: 0.0838 - accuracy: 0.9796\n",
            "Epoch 425/500\n",
            "11/11 [==============================] - 0s 2ms/step - loss: 0.0886 - accuracy: 0.9621\n",
            "Epoch 426/500\n",
            "11/11 [==============================] - 0s 2ms/step - loss: 0.0813 - accuracy: 0.9738\n",
            "Epoch 427/500\n",
            "11/11 [==============================] - 0s 2ms/step - loss: 0.0865 - accuracy: 0.9767\n",
            "Epoch 428/500\n",
            "11/11 [==============================] - 0s 2ms/step - loss: 0.0820 - accuracy: 0.9796\n",
            "Epoch 429/500\n",
            "11/11 [==============================] - 0s 2ms/step - loss: 0.0835 - accuracy: 0.9767\n",
            "Epoch 430/500\n",
            "11/11 [==============================] - 0s 2ms/step - loss: 0.0810 - accuracy: 0.9796\n",
            "Epoch 431/500\n",
            "11/11 [==============================] - 0s 2ms/step - loss: 0.0875 - accuracy: 0.9738\n",
            "Epoch 432/500\n",
            "11/11 [==============================] - 0s 2ms/step - loss: 0.0878 - accuracy: 0.9708\n",
            "Epoch 433/500\n",
            "11/11 [==============================] - 0s 2ms/step - loss: 0.0801 - accuracy: 0.9738\n",
            "Epoch 434/500\n",
            "11/11 [==============================] - 0s 2ms/step - loss: 0.0808 - accuracy: 0.9767\n",
            "Epoch 435/500\n",
            "11/11 [==============================] - 0s 2ms/step - loss: 0.0794 - accuracy: 0.9825\n",
            "Epoch 436/500\n",
            "11/11 [==============================] - 0s 2ms/step - loss: 0.0771 - accuracy: 0.9796\n",
            "Epoch 437/500\n",
            "11/11 [==============================] - 0s 2ms/step - loss: 0.0789 - accuracy: 0.9738\n",
            "Epoch 438/500\n",
            "11/11 [==============================] - 0s 2ms/step - loss: 0.0771 - accuracy: 0.9825\n",
            "Epoch 439/500\n",
            "11/11 [==============================] - 0s 2ms/step - loss: 0.0739 - accuracy: 0.9796\n",
            "Epoch 440/500\n",
            "11/11 [==============================] - 0s 2ms/step - loss: 0.0762 - accuracy: 0.9708\n",
            "Epoch 441/500\n",
            "11/11 [==============================] - 0s 2ms/step - loss: 0.0748 - accuracy: 0.9767\n",
            "Epoch 442/500\n",
            "11/11 [==============================] - 0s 2ms/step - loss: 0.0741 - accuracy: 0.9767\n",
            "Epoch 443/500\n",
            "11/11 [==============================] - 0s 2ms/step - loss: 0.0733 - accuracy: 0.9796\n",
            "Epoch 444/500\n",
            "11/11 [==============================] - 0s 2ms/step - loss: 0.0718 - accuracy: 0.9796\n",
            "Epoch 445/500\n",
            "11/11 [==============================] - 0s 2ms/step - loss: 0.0735 - accuracy: 0.9825\n",
            "Epoch 446/500\n",
            "11/11 [==============================] - 0s 2ms/step - loss: 0.0764 - accuracy: 0.9708\n",
            "Epoch 447/500\n",
            "11/11 [==============================] - 0s 2ms/step - loss: 0.0720 - accuracy: 0.9767\n",
            "Epoch 448/500\n",
            "11/11 [==============================] - 0s 2ms/step - loss: 0.0775 - accuracy: 0.9708\n",
            "Epoch 449/500\n",
            "11/11 [==============================] - 0s 2ms/step - loss: 0.0707 - accuracy: 0.9825\n",
            "Epoch 450/500\n",
            "11/11 [==============================] - 0s 2ms/step - loss: 0.0687 - accuracy: 0.9796\n",
            "Epoch 451/500\n",
            "11/11 [==============================] - 0s 2ms/step - loss: 0.0679 - accuracy: 0.9854\n",
            "Epoch 452/500\n",
            "11/11 [==============================] - 0s 2ms/step - loss: 0.0718 - accuracy: 0.9767\n",
            "Epoch 453/500\n",
            "11/11 [==============================] - 0s 2ms/step - loss: 0.0701 - accuracy: 0.9796\n",
            "Epoch 454/500\n",
            "11/11 [==============================] - 0s 2ms/step - loss: 0.0669 - accuracy: 0.9796\n",
            "Epoch 455/500\n",
            "11/11 [==============================] - 0s 2ms/step - loss: 0.0798 - accuracy: 0.9825\n",
            "Epoch 456/500\n",
            "11/11 [==============================] - 0s 2ms/step - loss: 0.0966 - accuracy: 0.9621\n",
            "Epoch 457/500\n",
            "11/11 [==============================] - 0s 2ms/step - loss: 0.0685 - accuracy: 0.9854\n",
            "Epoch 458/500\n",
            "11/11 [==============================] - 0s 2ms/step - loss: 0.0710 - accuracy: 0.9796\n",
            "Epoch 459/500\n",
            "11/11 [==============================] - 0s 2ms/step - loss: 0.0647 - accuracy: 0.9796\n",
            "Epoch 460/500\n",
            "11/11 [==============================] - 0s 2ms/step - loss: 0.0635 - accuracy: 0.9825\n",
            "Epoch 461/500\n",
            "11/11 [==============================] - 0s 2ms/step - loss: 0.0687 - accuracy: 0.9767\n",
            "Epoch 462/500\n",
            "11/11 [==============================] - 0s 2ms/step - loss: 0.0661 - accuracy: 0.9767\n",
            "Epoch 463/500\n",
            "11/11 [==============================] - 0s 2ms/step - loss: 0.0678 - accuracy: 0.9825\n",
            "Epoch 464/500\n",
            "11/11 [==============================] - 0s 2ms/step - loss: 0.0645 - accuracy: 0.9796\n",
            "Epoch 465/500\n",
            "11/11 [==============================] - 0s 3ms/step - loss: 0.0656 - accuracy: 0.9825\n",
            "Epoch 466/500\n",
            "11/11 [==============================] - 0s 2ms/step - loss: 0.0773 - accuracy: 0.9679\n",
            "Epoch 467/500\n",
            "11/11 [==============================] - 0s 4ms/step - loss: 0.0863 - accuracy: 0.9650\n",
            "Epoch 468/500\n",
            "11/11 [==============================] - 0s 2ms/step - loss: 0.0693 - accuracy: 0.9796\n",
            "Epoch 469/500\n",
            "11/11 [==============================] - 0s 2ms/step - loss: 0.0662 - accuracy: 0.9825\n",
            "Epoch 470/500\n",
            "11/11 [==============================] - 0s 2ms/step - loss: 0.0600 - accuracy: 0.9854\n",
            "Epoch 471/500\n",
            "11/11 [==============================] - 0s 2ms/step - loss: 0.0614 - accuracy: 0.9854\n",
            "Epoch 472/500\n",
            "11/11 [==============================] - 0s 2ms/step - loss: 0.0588 - accuracy: 0.9854\n",
            "Epoch 473/500\n",
            "11/11 [==============================] - 0s 2ms/step - loss: 0.0621 - accuracy: 0.9796\n",
            "Epoch 474/500\n",
            "11/11 [==============================] - 0s 2ms/step - loss: 0.0648 - accuracy: 0.9796\n",
            "Epoch 475/500\n",
            "11/11 [==============================] - 0s 2ms/step - loss: 0.0559 - accuracy: 0.9883\n",
            "Epoch 476/500\n",
            "11/11 [==============================] - 0s 2ms/step - loss: 0.0608 - accuracy: 0.9854\n",
            "Epoch 477/500\n",
            "11/11 [==============================] - 0s 2ms/step - loss: 0.0598 - accuracy: 0.9883\n",
            "Epoch 478/500\n",
            "11/11 [==============================] - 0s 3ms/step - loss: 0.0711 - accuracy: 0.9738\n",
            "Epoch 479/500\n",
            "11/11 [==============================] - 0s 2ms/step - loss: 0.0582 - accuracy: 0.9825\n",
            "Epoch 480/500\n",
            "11/11 [==============================] - 0s 2ms/step - loss: 0.0551 - accuracy: 0.9854\n",
            "Epoch 481/500\n",
            "11/11 [==============================] - 0s 2ms/step - loss: 0.0589 - accuracy: 0.9825\n",
            "Epoch 482/500\n",
            "11/11 [==============================] - 0s 2ms/step - loss: 0.0552 - accuracy: 0.9854\n",
            "Epoch 483/500\n",
            "11/11 [==============================] - 0s 2ms/step - loss: 0.0588 - accuracy: 0.9854\n",
            "Epoch 484/500\n",
            "11/11 [==============================] - 0s 2ms/step - loss: 0.0630 - accuracy: 0.9854\n",
            "Epoch 485/500\n",
            "11/11 [==============================] - 0s 2ms/step - loss: 0.0560 - accuracy: 0.9883\n",
            "Epoch 486/500\n",
            "11/11 [==============================] - 0s 2ms/step - loss: 0.0633 - accuracy: 0.9854\n",
            "Epoch 487/500\n",
            "11/11 [==============================] - 0s 4ms/step - loss: 0.0589 - accuracy: 0.9825\n",
            "Epoch 488/500\n",
            "11/11 [==============================] - 0s 2ms/step - loss: 0.0545 - accuracy: 0.9883\n",
            "Epoch 489/500\n",
            "11/11 [==============================] - 0s 2ms/step - loss: 0.0517 - accuracy: 0.9942\n",
            "Epoch 490/500\n",
            "11/11 [==============================] - 0s 2ms/step - loss: 0.0547 - accuracy: 0.9883\n",
            "Epoch 491/500\n",
            "11/11 [==============================] - 0s 2ms/step - loss: 0.0499 - accuracy: 0.9854\n",
            "Epoch 492/500\n",
            "11/11 [==============================] - 0s 2ms/step - loss: 0.0499 - accuracy: 0.9913\n",
            "Epoch 493/500\n",
            "11/11 [==============================] - 0s 2ms/step - loss: 0.0494 - accuracy: 0.9883\n",
            "Epoch 494/500\n",
            "11/11 [==============================] - 0s 2ms/step - loss: 0.0483 - accuracy: 0.9883\n",
            "Epoch 495/500\n",
            "11/11 [==============================] - 0s 2ms/step - loss: 0.0490 - accuracy: 0.9942\n",
            "Epoch 496/500\n",
            "11/11 [==============================] - 0s 2ms/step - loss: 0.0478 - accuracy: 0.9942\n",
            "Epoch 497/500\n",
            "11/11 [==============================] - 0s 2ms/step - loss: 0.0467 - accuracy: 0.9913\n",
            "Epoch 498/500\n",
            "11/11 [==============================] - 0s 2ms/step - loss: 0.0539 - accuracy: 0.9883\n",
            "Epoch 499/500\n",
            "11/11 [==============================] - 0s 2ms/step - loss: 0.0498 - accuracy: 0.9942\n",
            "Epoch 500/500\n",
            "11/11 [==============================] - 0s 2ms/step - loss: 0.0495 - accuracy: 0.9942\n"
          ],
          "name": "stdout"
        },
        {
          "output_type": "execute_result",
          "data": {
            "text/plain": [
              "<tensorflow.python.keras.callbacks.History at 0x7f6611790e48>"
            ]
          },
          "metadata": {
            "tags": []
          },
          "execution_count": 34
        }
      ]
    },
    {
      "cell_type": "code",
      "metadata": {
        "id": "I0BTZBnKuy5p",
        "colab_type": "code",
        "colab": {}
      },
      "source": [
        "#ANN das imagens\n",
        "x=np.array(W_test)\n",
        "logits = model(x, training=False)\n",
        "prediction = tf.argmax(logits, axis=1, output_type=tf.int32)\n",
        "#print(prediction)"
      ],
      "execution_count": 35,
      "outputs": []
    },
    {
      "cell_type": "code",
      "metadata": {
        "id": "JRYwCufJyyTI",
        "colab_type": "code",
        "colab": {
          "base_uri": "https://localhost:8080/",
          "height": 244
        },
        "outputId": "beb0e28d-6b14-46c7-8840-fa3cd5436a3c"
      },
      "source": [
        "print(x)"
      ],
      "execution_count": 36,
      "outputs": [
        {
          "output_type": "stream",
          "text": [
            "[[6.251600e-01 6.781400e-01 7.257000e-01 ... 3.431200e-01 3.226800e-01\n",
            "  3.135700e-01]\n",
            " [5.220600e-01 5.139400e-01 5.107900e-01 ... 7.529300e-01 6.469200e-01\n",
            "  6.109100e-01]\n",
            " [1.549400e-01 1.429000e-01 1.376400e-01 ... 1.570200e-01 8.283000e-02\n",
            "  9.974000e-02]\n",
            " ...\n",
            " [5.821700e-01 6.070900e-01 2.398800e-01 ... 1.358400e-01 1.472800e-01\n",
            "  1.831000e-01]\n",
            " [5.801000e-01 5.990500e-01 6.434500e-01 ... 4.449100e-01 4.334400e-01\n",
            "  4.407600e-01]\n",
            " [7.963380e+01 7.709684e+01 8.098106e+01 ... 5.618050e+01 6.181341e+01\n",
            "  8.729972e+01]]\n"
          ],
          "name": "stdout"
        }
      ]
    },
    {
      "cell_type": "code",
      "metadata": {
        "id": "wU-3mMSMu6a6",
        "colab_type": "code",
        "colab": {}
      },
      "source": [
        "y_valor=np.copy(yw_test)\n",
        "data = {'y_Actual': y_valor,\n",
        "        'y_Predicted': prediction\n",
        "        }\n",
        "\n",
        "df = pd.DataFrame(data, columns=['y_Actual','y_Predicted'])\n",
        "#print (df)"
      ],
      "execution_count": 37,
      "outputs": []
    },
    {
      "cell_type": "code",
      "metadata": {
        "id": "dAq5_SQi1n_o",
        "colab_type": "code",
        "colab": {
          "base_uri": "https://localhost:8080/",
          "height": 34
        },
        "outputId": "04c4cf92-ae4c-4c85-f09d-49140c01c8b3"
      },
      "source": [
        "print(len(y_valor))"
      ],
      "execution_count": 38,
      "outputs": [
        {
          "output_type": "stream",
          "text": [
            "147\n"
          ],
          "name": "stdout"
        }
      ]
    },
    {
      "cell_type": "code",
      "metadata": {
        "id": "u48SDVPavRwS",
        "colab_type": "code",
        "colab": {
          "base_uri": "https://localhost:8080/",
          "height": 86
        },
        "outputId": "70763305-14be-44c5-d7ed-e22d3c6ce195"
      },
      "source": [
        "confusion_matrix = pd.crosstab(df['y_Actual'], df['y_Predicted'], rownames=['Actual'], colnames=['Predicted'])\n",
        "print(confusion_matrix)"
      ],
      "execution_count": 39,
      "outputs": [
        {
          "output_type": "stream",
          "text": [
            "Predicted   1   2\n",
            "Actual           \n",
            "1          63  14\n",
            "2           9  61\n"
          ],
          "name": "stdout"
        }
      ]
    },
    {
      "cell_type": "code",
      "metadata": {
        "id": "hyU1PG434y8F",
        "colab_type": "code",
        "colab": {
          "base_uri": "https://localhost:8080/",
          "height": 174
        },
        "outputId": "d646a3fd-9a5b-42ee-c986-4eda2f4eb7de"
      },
      "source": [
        "y_true = df['y_Actual']\n",
        "y_pred = df['y_Predicted']\n",
        "print(sklearn.metrics.classification_report(y_true, y_pred))"
      ],
      "execution_count": 40,
      "outputs": [
        {
          "output_type": "stream",
          "text": [
            "              precision    recall  f1-score   support\n",
            "\n",
            "           1       0.88      0.82      0.85        77\n",
            "           2       0.81      0.87      0.84        70\n",
            "\n",
            "    accuracy                           0.84       147\n",
            "   macro avg       0.84      0.84      0.84       147\n",
            "weighted avg       0.85      0.84      0.84       147\n",
            "\n"
          ],
          "name": "stdout"
        }
      ]
    },
    {
      "cell_type": "code",
      "metadata": {
        "id": "uiD6Nl-JHqvu",
        "colab_type": "code",
        "colab": {}
      },
      "source": [
        "#"
      ],
      "execution_count": 41,
      "outputs": []
    },
    {
      "cell_type": "markdown",
      "metadata": {
        "id": "B3UfvtMqHzxM",
        "colab_type": "text"
      },
      "source": [
        "# Third step: testing ANN other segmented images"
      ]
    },
    {
      "cell_type": "code",
      "metadata": {
        "id": "MN7tnJfjHIdo",
        "colab_type": "code",
        "colab": {
          "base_uri": "https://localhost:8080/",
          "height": 72
        },
        "outputId": "5d287439-2d1a-4b43-af69-f6ee7f553b9f"
      },
      "source": [
        "!git clone https://github.com/ucfilho/marquesgabi_August_2020\n",
        "%cd marquesgabi_August_2020"
      ],
      "execution_count": 42,
      "outputs": [
        {
          "output_type": "stream",
          "text": [
            "fatal: destination path 'marquesgabi_August_2020' already exists and is not an empty directory.\n",
            "/content/marquesgabi_Julho_2020_using/marquesgabi_August_2020\n"
          ],
          "name": "stdout"
        }
      ]
    },
    {
      "cell_type": "code",
      "metadata": {
        "id": "TMdkCzS5HkG_",
        "colab_type": "code",
        "colab": {}
      },
      "source": [
        "Transfere='img28_all00.zip'\n",
        "file_name = zipfile.ZipFile(Transfere, 'r')\n",
        "file_name.extractall()"
      ],
      "execution_count": 43,
      "outputs": []
    },
    {
      "cell_type": "code",
      "metadata": {
        "id": "I9WiyyRrMTHX",
        "colab_type": "code",
        "colab": {}
      },
      "source": [
        "labels = [] #name files\n",
        "\n",
        "with zipfile.ZipFile(Transfere, \"r\") as f:\n",
        "  for f in f.namelist():\n",
        "    labels.append(f)"
      ],
      "execution_count": 44,
      "outputs": []
    },
    {
      "cell_type": "code",
      "metadata": {
        "id": "DxWbtaIEKsSg",
        "colab_type": "code",
        "colab": {
          "base_uri": "https://localhost:8080/",
          "height": 156
        },
        "outputId": "42956d5b-32c6-40d8-a5fb-99360d8a85cb"
      },
      "source": [
        "df=pd.read_csv(labels[0])\n",
        "df=df.drop(['Unnamed: 0','Type','Width'], axis=1)\n",
        "print(df.head())"
      ],
      "execution_count": 45,
      "outputs": [
        {
          "output_type": "stream",
          "text": [
            "          0         1         2  ...        781       782       783\n",
            "0  61.14508  60.20605  63.89233  ...   87.26298  86.56084  70.53898\n",
            "1  54.96550  56.12730  56.46103  ...    6.09697   6.10529   6.17609\n",
            "2  81.32749  86.75936  93.59119  ...  104.26302  98.95892  98.95303\n",
            "3   0.39589   0.51145   0.68329  ...   60.38241  58.77369  57.35922\n",
            "4  48.26560  49.34269  51.20098  ...   86.94305  86.16422  92.14825\n",
            "\n",
            "[5 rows x 784 columns]\n"
          ],
          "name": "stdout"
        }
      ]
    },
    {
      "cell_type": "markdown",
      "metadata": {
        "id": "u4f7NjosMyYG",
        "colab_type": "text"
      },
      "source": [
        "# Fourth step test ANN for data to be used for PSD (Particle size distribution) determination"
      ]
    },
    {
      "cell_type": "code",
      "metadata": {
        "id": "N_BbzDjxPjaS",
        "colab_type": "code",
        "colab": {}
      },
      "source": [
        "#ANN das imagens\n",
        "x=np.array(df)\n",
        "logits = model(x, training=False)\n",
        "prediction = tf.argmax(logits, axis=1, output_type=tf.int32)\n",
        "#print(prediction)"
      ],
      "execution_count": 46,
      "outputs": []
    },
    {
      "cell_type": "code",
      "metadata": {
        "id": "1Z8keSNCQLCu",
        "colab_type": "code",
        "colab": {
          "base_uri": "https://localhost:8080/",
          "height": 34
        },
        "outputId": "c45a7f95-71c0-4f44-a2d2-aeb5ad72c704"
      },
      "source": [
        "y=np.array(prediction)\n",
        "Num=len(y)\n",
        "print(Num)"
      ],
      "execution_count": 47,
      "outputs": [
        {
          "output_type": "stream",
          "text": [
            "150\n"
          ],
          "name": "stdout"
        }
      ]
    },
    {
      "cell_type": "code",
      "metadata": {
        "id": "jeI5CgqMVIy_",
        "colab_type": "code",
        "colab": {
          "base_uri": "https://localhost:8080/",
          "height": 104
        },
        "outputId": "bd594f74-66e5-49af-8d57-b8a5c1514ece"
      },
      "source": [
        "print(y)"
      ],
      "execution_count": 49,
      "outputs": [
        {
          "output_type": "stream",
          "text": [
            "[2 2 2 2 1 2 2 2 2 2 2 2 2 1 1 2 2 2 2 2 1 2 2 2 2 2 1 2 2 2 2 2 2 2 2 2 1\n",
            " 2 2 2 2 2 2 2 2 2 2 2 2 2 2 2 1 1 2 2 1 2 2 2 2 2 1 2 2 2 2 2 1 2 1 2 1 1\n",
            " 2 2 2 2 2 1 2 2 2 2 2 2 2 2 2 2 1 2 1 2 2 2 2 2 1 2 2 2 2 2 2 1 2 2 1 2 2\n",
            " 2 2 2 2 2 1 2 2 1 2 2 2 2 2 2 2 2 2 2 1 1 2 2 2 2 2 2 2 2 2 2 2 2 1 1 2 2\n",
            " 2 2]\n"
          ],
          "name": "stdout"
        }
      ]
    },
    {
      "cell_type": "code",
      "metadata": {
        "id": "oFxdeNNzQylf",
        "colab_type": "code",
        "colab": {
          "base_uri": "https://localhost:8080/",
          "height": 592
        },
        "outputId": "c9b4e31b-b039-4359-defa-91ca78bd4545"
      },
      "source": [
        "# select just the grains to show picture\n",
        "grain=[]\n",
        "img28_all=pd.DataFrame(x)\n",
        "\n",
        "for i in range(Num):\n",
        "  if(y[i]==1):\n",
        "    grain.append(i)\n",
        "\n",
        "cont=0 # \n",
        "cols=5\n",
        "rows=int(len(grain)/cols)+1\n",
        "\n",
        "for i in range(Num):\n",
        "  if(y[i]==1):\n",
        "    cont=cont+1\n",
        "    plt.subplot(rows,cols,cont) # subplot not allow cont=0\n",
        "    plt.xticks([])\n",
        "    plt.yticks([])\n",
        "    plt.grid(False)\n",
        "    Foto=np.array(img28_all.iloc[i]).reshape(28,28)\n",
        "    plt.imshow(Foto, cmap = \"gray\")\n",
        "    plt.xlabel(i)\n",
        "\n",
        "plt.subplots_adjust(bottom=0.1, right=1.2, top=2,hspace=0.3, wspace=0.1)\n",
        "\n"
      ],
      "execution_count": 65,
      "outputs": [
        {
          "output_type": "display_data",
          "data": {
            "image/png": "[encoded data removed]",
            "text/plain": [
              "<Figure size 432x288 with 26 Axes>"
            ]
          },
          "metadata": {
            "tags": []
          }
        }
      ]
    },
    {
      "cell_type": "code",
      "metadata": {
        "id": "UdLe_4CpYgQK",
        "colab_type": "code",
        "colab": {}
      },
      "source": [
        "# ANN error: ANN said there are 26 grains but \n",
        "#            only 17 are really a grain..."
      ],
      "execution_count": null,
      "outputs": []
    },
    {
      "cell_type": "code",
      "metadata": {
        "id": "rEqRz_lSaABK",
        "colab_type": "code",
        "colab": {
          "base_uri": "https://localhost:8080/",
          "height": 34
        },
        "outputId": "eb182577-9827-426d-8457-eee7c8475140"
      },
      "source": [
        "17/26*100"
      ],
      "execution_count": 66,
      "outputs": [
        {
          "output_type": "execute_result",
          "data": {
            "text/plain": [
              "65.38461538461539"
            ]
          },
          "metadata": {
            "tags": []
          },
          "execution_count": 66
        }
      ]
    }
  ]
}