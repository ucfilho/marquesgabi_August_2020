{
  "nbformat": 4,
  "nbformat_minor": 0,
  "metadata": {
    "colab": {
      "name": "03_ANN_NEW_DATA_CLASSIFICA_ago_04_2020.ipynb",
      "provenance": [],
      "collapsed_sections": [],
      "include_colab_link": true
    },
    "kernelspec": {
      "name": "python3",
      "display_name": "Python 3"
    }
  },
  "cells": [
    {
      "cell_type": "markdown",
      "metadata": {
        "id": "view-in-github",
        "colab_type": "text"
      },
      "source": [
        "<a href=\"https://colab.research.google.com/github/ucfilho/marquesgabi_August_2020/blob/master/03_ANN_NEW_DATA_CLASSIFICA_ago_04_2020.ipynb\" target=\"_parent\"><img src=\"https://colab.research.google.com/assets/colab-badge.svg\" alt=\"Open In Colab\"/></a>"
      ]
    },
    {
      "cell_type": "code",
      "metadata": {
        "id": "Sog7Z9pyhUD_",
        "colab_type": "code",
        "colab": {}
      },
      "source": [
        "import matplotlib.pyplot as plt\n",
        "import random\n",
        "import numpy as np\n",
        "import cv2\n",
        "import zipfile\n",
        "from random import randint\n",
        "from PIL import Image\n",
        "import re\n",
        "from sklearn.model_selection import train_test_split\n",
        "#import scikit-image\n",
        "import skimage\n",
        "import pandas as pd"
      ],
      "execution_count": 1,
      "outputs": []
    },
    {
      "cell_type": "code",
      "metadata": {
        "id": "wYo6yMKOjiJQ",
        "colab_type": "code",
        "colab": {}
      },
      "source": [
        "# Import the 'transform' module from 'skimage'\n",
        "from skimage import transform "
      ],
      "execution_count": 2,
      "outputs": []
    },
    {
      "cell_type": "code",
      "metadata": {
        "id": "La6dFeJujmZM",
        "colab_type": "code",
        "colab": {}
      },
      "source": [
        "# TensorFlow and tf.keras\n",
        "import tensorflow as tf\n",
        "from tensorflow import keras"
      ],
      "execution_count": 3,
      "outputs": []
    },
    {
      "cell_type": "code",
      "metadata": {
        "id": "5mOm3AQvCUp3",
        "colab_type": "code",
        "colab": {}
      },
      "source": [
        "# 03_ANN_NEW_DATA... only the grains in 882 are used for training \n",
        "#                    the ANN and segmented images are used to \n",
        "#                    train no-grain"
      ],
      "execution_count": 4,
      "outputs": []
    },
    {
      "cell_type": "markdown",
      "metadata": {
        "id": "HMDoD-W9CVol",
        "colab_type": "text"
      },
      "source": [
        "# 03_ANN_NEW_DATA... only the grains in 882 are used for training the ANN and segmented images are used to train no-grain"
      ]
    },
    {
      "cell_type": "code",
      "metadata": {
        "id": "LJAZpHlAi6Vq",
        "colab_type": "code",
        "colab": {
          "base_uri": "https://localhost:8080/",
          "height": 72
        },
        "outputId": "4a63d8f1-86bb-41ff-98e8-77f6681881fb"
      },
      "source": [
        "!git clone https://github.com/ucfilho/marquesgabi_Julho_2020_using\n",
        "%cd marquesgabi_Julho_2020_using\n",
        "Transfere='FotosTreino882_and_Segm.zip'\n",
        "file_name = zipfile.ZipFile(Transfere, 'r')\n",
        "file_name.extractall()"
      ],
      "execution_count": 5,
      "outputs": [
        {
          "output_type": "stream",
          "text": [
            "fatal: destination path 'marquesgabi_Julho_2020_using' already exists and is not an empty directory.\n",
            "/content/marquesgabi_Julho_2020_using\n"
          ],
          "name": "stdout"
        }
      ]
    },
    {
      "cell_type": "code",
      "metadata": {
        "id": "BYx5ot9RrYYt",
        "colab_type": "code",
        "colab": {}
      },
      "source": [
        "# First step: get the segmented file (photos stored in csv file)"
      ],
      "execution_count": 6,
      "outputs": []
    },
    {
      "cell_type": "markdown",
      "metadata": {
        "id": "j8Bl70iLs7FF",
        "colab_type": "text"
      },
      "source": [
        "# First step: get the segmented file (photos stored in csv file)"
      ]
    },
    {
      "cell_type": "code",
      "metadata": {
        "id": "C35MvO7VjUA0",
        "colab_type": "code",
        "colab": {}
      },
      "source": [
        "labels = [] #name files\n",
        "\n",
        "with zipfile.ZipFile(Transfere, \"r\") as f:\n",
        "  for f in f.namelist():\n",
        "    labels.append(f)"
      ],
      "execution_count": 7,
      "outputs": []
    },
    {
      "cell_type": "code",
      "metadata": {
        "id": "KuDx6iA-w0aW",
        "colab_type": "code",
        "colab": {}
      },
      "source": [
        "Num=len(labels)\n",
        "df=pd.read_csv(labels[0])\n",
        "for i in range(1,Num):\n",
        "  df_new=pd.read_csv(labels[i])\n",
        "  df_new = df_new[~df_new['Type'].isin(['G'])] # drop grain row which is not in 882\n",
        "  frames = [df, df_new]\n",
        "  df= pd.concat(frames, ignore_index=True)\n",
        "\n",
        "y_valor=df['Type']"
      ],
      "execution_count": 8,
      "outputs": []
    },
    {
      "cell_type": "code",
      "metadata": {
        "id": "DuwLJl-21LQt",
        "colab_type": "code",
        "colab": {
          "base_uri": "https://localhost:8080/",
          "height": 261
        },
        "outputId": "a4476ea2-7393-434e-96ce-54c59a3868e2"
      },
      "source": [
        "print(df)"
      ],
      "execution_count": 9,
      "outputs": [
        {
          "output_type": "stream",
          "text": [
            "     Unnamed: 0 Type          0  ...        782        783  Width\n",
            "0             0    G    0.00000  ...    0.68631    0.68769    NaN\n",
            "1             1    G    0.00000  ...    0.49262    0.50909    NaN\n",
            "2             2    G    0.45321  ...    0.54919    0.55439    NaN\n",
            "3             3    G    0.75367  ...    0.48524    0.61876    NaN\n",
            "4             4    G    0.94521  ...    0.98108    0.95838    NaN\n",
            "..          ...  ...        ...  ...        ...        ...    ...\n",
            "976           7    B   84.33883  ...    7.14600    7.38484  142.0\n",
            "977           8    I  104.73698  ...    2.05457    0.38150  163.0\n",
            "978           9    I   75.70248  ...  107.38844  106.00001  154.0\n",
            "979          10    I   56.64465  ...    3.15316    0.40107  187.0\n",
            "980          11    B  111.50165  ...    0.00000    0.00000  194.0\n",
            "\n",
            "[981 rows x 787 columns]\n"
          ],
          "name": "stdout"
        }
      ]
    },
    {
      "cell_type": "code",
      "metadata": {
        "id": "UwELp2Lv1NKY",
        "colab_type": "code",
        "colab": {
          "base_uri": "https://localhost:8080/",
          "height": 176
        },
        "outputId": "eb5e1d50-2b58-4399-8903-78090bfce05d"
      },
      "source": [
        "print(df.head())"
      ],
      "execution_count": 10,
      "outputs": [
        {
          "output_type": "stream",
          "text": [
            "   Unnamed: 0 Type        0        1  ...      781      782      783  Width\n",
            "0           0    G  0.00000  0.00000  ...  0.68642  0.68631  0.68769    NaN\n",
            "1           1    G  0.00000  0.00000  ...  0.47277  0.49262  0.50909    NaN\n",
            "2           2    G  0.45321  0.52257  ...  0.54645  0.54919  0.55439    NaN\n",
            "3           3    G  0.75367  0.64590  ...  0.43356  0.48524  0.61876    NaN\n",
            "4           4    G  0.94521  0.89736  ...  0.98942  0.98108  0.95838    NaN\n",
            "\n",
            "[5 rows x 787 columns]\n"
          ],
          "name": "stdout"
        }
      ]
    },
    {
      "cell_type": "code",
      "metadata": {
        "id": "cMCpdgC91ON0",
        "colab_type": "code",
        "colab": {
          "base_uri": "https://localhost:8080/",
          "height": 261
        },
        "outputId": "bea700a4-af00-4f31-ebcf-0c3d114488da"
      },
      "source": [
        "print(df)"
      ],
      "execution_count": 11,
      "outputs": [
        {
          "output_type": "stream",
          "text": [
            "     Unnamed: 0 Type          0  ...        782        783  Width\n",
            "0             0    G    0.00000  ...    0.68631    0.68769    NaN\n",
            "1             1    G    0.00000  ...    0.49262    0.50909    NaN\n",
            "2             2    G    0.45321  ...    0.54919    0.55439    NaN\n",
            "3             3    G    0.75367  ...    0.48524    0.61876    NaN\n",
            "4             4    G    0.94521  ...    0.98108    0.95838    NaN\n",
            "..          ...  ...        ...  ...        ...        ...    ...\n",
            "976           7    B   84.33883  ...    7.14600    7.38484  142.0\n",
            "977           8    I  104.73698  ...    2.05457    0.38150  163.0\n",
            "978           9    I   75.70248  ...  107.38844  106.00001  154.0\n",
            "979          10    I   56.64465  ...    3.15316    0.40107  187.0\n",
            "980          11    B  111.50165  ...    0.00000    0.00000  194.0\n",
            "\n",
            "[981 rows x 787 columns]\n"
          ],
          "name": "stdout"
        }
      ]
    },
    {
      "cell_type": "code",
      "metadata": {
        "colab_type": "code",
        "id": "wq1CSlXUhjEv",
        "colab": {
          "base_uri": "https://localhost:8080/",
          "height": 176
        },
        "outputId": "8b945edc-3299-49d2-d58f-c70148376ec7"
      },
      "source": [
        "df_teste=pd.read_csv(labels[2])\n",
        "print(df_teste.head())"
      ],
      "execution_count": 12,
      "outputs": [
        {
          "output_type": "stream",
          "text": [
            "   Unnamed: 0  Width Type          0  ...       780       781        782        783\n",
            "0           0    157    I   71.90012  ...  49.57118  35.95513    7.75954    1.03862\n",
            "1           1    124    I  127.06763  ...  94.57544  98.71695  100.52861  100.84391\n",
            "2           2    182    G   87.10651  ...   5.33136   5.84024    5.89941    5.65089\n",
            "3           3    101    I   99.01176  ...  35.15087  41.39006   43.76875   44.09146\n",
            "4           4    183    I   56.30844  ...  52.96656  53.65711   53.44656   53.11703\n",
            "\n",
            "[5 rows x 787 columns]\n"
          ],
          "name": "stdout"
        }
      ]
    },
    {
      "cell_type": "code",
      "metadata": {
        "id": "nkMXproqxZig",
        "colab_type": "code",
        "colab": {
          "base_uri": "https://localhost:8080/",
          "height": 156
        },
        "outputId": "0b903e1e-64af-4473-e0dd-aef7b03a6835"
      },
      "source": [
        "print(df.tail())"
      ],
      "execution_count": 13,
      "outputs": [
        {
          "output_type": "stream",
          "text": [
            "     Unnamed: 0 Type          0  ...        782        783  Width\n",
            "976           7    B   84.33883  ...    7.14600    7.38484  142.0\n",
            "977           8    I  104.73698  ...    2.05457    0.38150  163.0\n",
            "978           9    I   75.70248  ...  107.38844  106.00001  154.0\n",
            "979          10    I   56.64465  ...    3.15316    0.40107  187.0\n",
            "980          11    B  111.50165  ...    0.00000    0.00000  194.0\n",
            "\n",
            "[5 rows x 787 columns]\n"
          ],
          "name": "stdout"
        }
      ]
    },
    {
      "cell_type": "code",
      "metadata": {
        "id": "TpuIGIU-pkiG",
        "colab_type": "code",
        "colab": {}
      },
      "source": [
        "Fotos=df.drop(['Unnamed: 0','Type','Width'], axis=1)"
      ],
      "execution_count": 14,
      "outputs": []
    },
    {
      "cell_type": "code",
      "metadata": {
        "id": "QYpsqk8iqOG2",
        "colab_type": "code",
        "colab": {}
      },
      "source": [
        "df=df.drop(['Unnamed: 0','Type','Width'], axis=1)"
      ],
      "execution_count": 15,
      "outputs": []
    },
    {
      "cell_type": "code",
      "metadata": {
        "id": "zfXvfb-n9LPp",
        "colab_type": "code",
        "colab": {
          "base_uri": "https://localhost:8080/",
          "height": 229
        },
        "outputId": "ddd9d455-30a7-4374-9c82-647b539f9c4d"
      },
      "source": [
        "print(df.describe())"
      ],
      "execution_count": 16,
      "outputs": [
        {
          "output_type": "stream",
          "text": [
            "                0           1           2  ...         781         782         783\n",
            "count  981.000000  981.000000  981.000000  ...  981.000000  981.000000  981.000000\n",
            "mean     7.834253    7.847765    7.784539  ...    5.294938    5.215285    5.291887\n",
            "std     23.507544   23.434137   23.360003  ...   18.945649   19.327633   19.863527\n",
            "min      0.000000    0.000000    0.000000  ...    0.000000    0.000000    0.000000\n",
            "25%      0.311510    0.309190    0.313200  ...    0.332510    0.336190    0.329620\n",
            "50%      0.499150    0.490170    0.490990  ...    0.483030    0.479810    0.489680\n",
            "75%      0.640190    0.644030    0.652580  ...    0.639650    0.640320    0.637210\n",
            "max    127.067630  126.206040  120.224750  ...  108.437500  114.958580  121.952670\n",
            "\n",
            "[8 rows x 784 columns]\n"
          ],
          "name": "stdout"
        }
      ]
    },
    {
      "cell_type": "code",
      "metadata": {
        "id": "X2PqY2SbzFI2",
        "colab_type": "code",
        "colab": {
          "base_uri": "https://localhost:8080/",
          "height": 34
        },
        "outputId": "33c4930d-de95-4aa6-822b-4136fbf09b4a"
      },
      "source": [
        "print(np.array(Fotos).shape )"
      ],
      "execution_count": 17,
      "outputs": [
        {
          "output_type": "stream",
          "text": [
            "(981, 784)\n"
          ],
          "name": "stdout"
        }
      ]
    },
    {
      "cell_type": "markdown",
      "metadata": {
        "id": "sDoUMG4vsmoa",
        "colab_type": "text"
      },
      "source": [
        "# Second step: create the ann to evaluate which is a grain in photos segmented\n"
      ]
    },
    {
      "cell_type": "code",
      "metadata": {
        "id": "biuEDBlM4H_J",
        "colab_type": "code",
        "colab": {}
      },
      "source": [
        "images28=np.array(df)"
      ],
      "execution_count": 18,
      "outputs": []
    },
    {
      "cell_type": "code",
      "metadata": {
        "id": "G1FNc_PgKZ3o",
        "colab_type": "code",
        "colab": {}
      },
      "source": [
        "#print(y_valor)"
      ],
      "execution_count": 19,
      "outputs": []
    },
    {
      "cell_type": "code",
      "metadata": {
        "id": "PgZ5KNGh8mzN",
        "colab_type": "code",
        "colab": {}
      },
      "source": [
        "y_new=[]\n",
        "Grain=0\n",
        "Others=0\n",
        "Cont=-1\n",
        "Others_Local=[]\n",
        "Grain_Local=[]\n",
        "for x in y_valor:\n",
        "  Cont=Cont+1\n",
        "  if re.search('G', x):\n",
        "    y_new.append(1)\n",
        "    Grain=Grain+1\n",
        "    Grain_Local.append(Cont)\n",
        "  else:\n",
        "    y_new.append(2)\n",
        "    Others=Others+1\n",
        "    Others_Local.append(Cont)"
      ],
      "execution_count": 20,
      "outputs": []
    },
    {
      "cell_type": "code",
      "metadata": {
        "id": "q4IZyKSa_Xvv",
        "colab_type": "code",
        "colab": {
          "base_uri": "https://localhost:8080/",
          "height": 106
        },
        "outputId": "7a36f7eb-190e-4b15-f7f5-fc404ae42a94"
      },
      "source": [
        "print('Graos=',Grain)\n",
        "print('Others=',Others)\n",
        "print('Others local',Others_Local)\n",
        "print('Grain local',Grain_Local)\n",
        "\n",
        "sampled_list = random.sample(Others_Local,Grain)"
      ],
      "execution_count": 21,
      "outputs": [
        {
          "output_type": "stream",
          "text": [
            "Graos= 245\n",
            "Others= 736\n",
            "Others local [13, 14, 15, 16, 17, 18, 19, 20, 21, 22, 23, 24, 25, 26, 27, 28, 29, 30, 31, 32, 33, 34, 35, 44, 45, 46, 47, 48, 49, 50, 51, 52, 53, 54, 55, 56, 57, 58, 59, 60, 61, 62, 63, 64, 65, 66, 67, 68, 69, 70, 71, 77, 78, 79, 80, 81, 82, 83, 84, 85, 86, 87, 88, 89, 90, 91, 92, 93, 94, 95, 96, 97, 98, 99, 100, 101, 102, 103, 104, 105, 106, 107, 115, 116, 117, 118, 119, 120, 121, 122, 123, 124, 125, 126, 127, 128, 129, 130, 131, 132, 133, 134, 135, 136, 137, 138, 139, 140, 141, 142, 143, 150, 151, 152, 153, 154, 155, 156, 157, 158, 159, 160, 161, 162, 163, 164, 165, 166, 167, 168, 169, 174, 175, 176, 177, 178, 179, 180, 181, 182, 183, 184, 185, 186, 187, 188, 189, 190, 191, 192, 193, 194, 195, 196, 197, 198, 199, 200, 201, 202, 203, 204, 205, 214, 215, 216, 217, 218, 219, 220, 221, 222, 223, 224, 225, 226, 227, 228, 229, 230, 231, 232, 233, 234, 235, 236, 237, 238, 239, 240, 241, 250, 251, 252, 253, 254, 255, 256, 257, 258, 259, 260, 261, 262, 263, 264, 265, 266, 267, 277, 278, 279, 280, 281, 282, 283, 284, 285, 286, 287, 288, 289, 290, 291, 292, 293, 294, 295, 296, 297, 298, 299, 300, 301, 302, 303, 311, 312, 313, 314, 315, 316, 317, 318, 319, 320, 321, 322, 323, 324, 325, 326, 327, 328, 329, 330, 331, 332, 333, 334, 335, 336, 337, 338, 339, 346, 347, 348, 349, 350, 351, 352, 353, 354, 355, 356, 357, 358, 359, 360, 361, 362, 363, 364, 365, 381, 382, 383, 384, 385, 386, 387, 388, 389, 390, 391, 392, 393, 394, 395, 396, 397, 398, 399, 400, 401, 407, 408, 409, 410, 411, 412, 413, 414, 415, 416, 417, 418, 419, 420, 421, 422, 423, 424, 425, 426, 427, 443, 444, 445, 446, 447, 448, 449, 450, 451, 452, 453, 454, 455, 456, 457, 458, 459, 460, 461, 462, 463, 474, 475, 476, 477, 478, 479, 480, 481, 482, 483, 484, 485, 486, 487, 488, 489, 490, 491, 492, 493, 494, 495, 496, 497, 498, 499, 509, 510, 511, 512, 513, 514, 515, 516, 517, 518, 519, 520, 521, 522, 523, 524, 525, 526, 527, 528, 529, 530, 531, 532, 533, 534, 535, 545, 546, 547, 548, 549, 550, 551, 552, 553, 554, 555, 556, 557, 558, 559, 560, 561, 578, 579, 580, 581, 582, 583, 584, 585, 586, 587, 595, 596, 597, 598, 599, 600, 601, 602, 603, 604, 605, 606, 607, 608, 609, 610, 611, 612, 613, 614, 615, 616, 617, 618, 619, 620, 621, 622, 623, 633, 634, 635, 636, 637, 638, 639, 640, 641, 642, 643, 644, 645, 646, 647, 648, 649, 650, 651, 652, 653, 654, 655, 656, 657, 658, 659, 670, 671, 672, 673, 674, 675, 676, 677, 678, 679, 680, 681, 682, 683, 684, 685, 686, 687, 688, 689, 690, 691, 692, 693, 694, 695, 705, 706, 707, 708, 709, 710, 711, 712, 713, 714, 715, 716, 717, 718, 719, 720, 721, 722, 723, 724, 725, 726, 727, 728, 729, 730, 731, 740, 741, 742, 743, 744, 745, 746, 747, 748, 749, 750, 751, 752, 753, 754, 755, 756, 757, 771, 772, 773, 774, 775, 776, 777, 778, 779, 780, 781, 782, 783, 796, 797, 798, 799, 800, 801, 802, 803, 804, 805, 806, 807, 808, 809, 810, 811, 812, 813, 814, 815, 816, 817, 818, 819, 829, 830, 831, 832, 833, 834, 835, 836, 837, 838, 839, 840, 841, 842, 843, 844, 845, 846, 847, 848, 849, 850, 851, 852, 853, 854, 855, 864, 865, 866, 867, 868, 869, 870, 871, 872, 873, 874, 875, 876, 877, 878, 879, 880, 881, 882, 883, 884, 885, 886, 887, 888, 889, 890, 891, 892, 893, 894, 895, 896, 897, 898, 899, 900, 901, 902, 903, 904, 905, 906, 907, 908, 909, 910, 911, 912, 913, 914, 915, 916, 917, 918, 919, 920, 921, 922, 923, 924, 925, 926, 927, 928, 929, 930, 931, 932, 933, 934, 935, 936, 937, 938, 939, 940, 941, 942, 943, 944, 945, 946, 947, 948, 949, 950, 951, 952, 953, 954, 955, 956, 957, 958, 959, 960, 961, 962, 963, 964, 965, 966, 967, 968, 969, 970, 971, 972, 973, 974, 975, 976, 977, 978, 979, 980]\n",
            "Grain local [0, 1, 2, 3, 4, 5, 6, 7, 8, 9, 10, 11, 12, 36, 37, 38, 39, 40, 41, 42, 43, 72, 73, 74, 75, 76, 108, 109, 110, 111, 112, 113, 114, 144, 145, 146, 147, 148, 149, 170, 171, 172, 173, 206, 207, 208, 209, 210, 211, 212, 213, 242, 243, 244, 245, 246, 247, 248, 249, 268, 269, 270, 271, 272, 273, 274, 275, 276, 304, 305, 306, 307, 308, 309, 310, 340, 341, 342, 343, 344, 345, 366, 367, 368, 369, 370, 371, 372, 373, 374, 375, 376, 377, 378, 379, 380, 402, 403, 404, 405, 406, 428, 429, 430, 431, 432, 433, 434, 435, 436, 437, 438, 439, 440, 441, 442, 464, 465, 466, 467, 468, 469, 470, 471, 472, 473, 500, 501, 502, 503, 504, 505, 506, 507, 508, 536, 537, 538, 539, 540, 541, 542, 543, 544, 562, 563, 564, 565, 566, 567, 568, 569, 570, 571, 572, 573, 574, 575, 576, 577, 588, 589, 590, 591, 592, 593, 594, 624, 625, 626, 627, 628, 629, 630, 631, 632, 660, 661, 662, 663, 664, 665, 666, 667, 668, 669, 696, 697, 698, 699, 700, 701, 702, 703, 704, 732, 733, 734, 735, 736, 737, 738, 739, 758, 759, 760, 761, 762, 763, 764, 765, 766, 767, 768, 769, 770, 784, 785, 786, 787, 788, 789, 790, 791, 792, 793, 794, 795, 820, 821, 822, 823, 824, 825, 826, 827, 828, 856, 857, 858, 859, 860, 861, 862, 863]\n"
          ],
          "name": "stdout"
        }
      ]
    },
    {
      "cell_type": "code",
      "metadata": {
        "colab_type": "code",
        "id": "zvRB2ROqCgc6",
        "colab": {
          "base_uri": "https://localhost:8080/",
          "height": 89
        },
        "outputId": "05a5010e-db33-43a3-fd12-e347742c8b8b"
      },
      "source": [
        "print('Graos=',Grain)\n",
        "print('Others=',Others)\n",
        "print('Others local',Others_Local)\n",
        "sampled_list = random.sample(Others_Local,Grain)\n"
      ],
      "execution_count": 22,
      "outputs": [
        {
          "output_type": "stream",
          "text": [
            "Graos= 245\n",
            "Others= 736\n",
            "Others local [13, 14, 15, 16, 17, 18, 19, 20, 21, 22, 23, 24, 25, 26, 27, 28, 29, 30, 31, 32, 33, 34, 35, 44, 45, 46, 47, 48, 49, 50, 51, 52, 53, 54, 55, 56, 57, 58, 59, 60, 61, 62, 63, 64, 65, 66, 67, 68, 69, 70, 71, 77, 78, 79, 80, 81, 82, 83, 84, 85, 86, 87, 88, 89, 90, 91, 92, 93, 94, 95, 96, 97, 98, 99, 100, 101, 102, 103, 104, 105, 106, 107, 115, 116, 117, 118, 119, 120, 121, 122, 123, 124, 125, 126, 127, 128, 129, 130, 131, 132, 133, 134, 135, 136, 137, 138, 139, 140, 141, 142, 143, 150, 151, 152, 153, 154, 155, 156, 157, 158, 159, 160, 161, 162, 163, 164, 165, 166, 167, 168, 169, 174, 175, 176, 177, 178, 179, 180, 181, 182, 183, 184, 185, 186, 187, 188, 189, 190, 191, 192, 193, 194, 195, 196, 197, 198, 199, 200, 201, 202, 203, 204, 205, 214, 215, 216, 217, 218, 219, 220, 221, 222, 223, 224, 225, 226, 227, 228, 229, 230, 231, 232, 233, 234, 235, 236, 237, 238, 239, 240, 241, 250, 251, 252, 253, 254, 255, 256, 257, 258, 259, 260, 261, 262, 263, 264, 265, 266, 267, 277, 278, 279, 280, 281, 282, 283, 284, 285, 286, 287, 288, 289, 290, 291, 292, 293, 294, 295, 296, 297, 298, 299, 300, 301, 302, 303, 311, 312, 313, 314, 315, 316, 317, 318, 319, 320, 321, 322, 323, 324, 325, 326, 327, 328, 329, 330, 331, 332, 333, 334, 335, 336, 337, 338, 339, 346, 347, 348, 349, 350, 351, 352, 353, 354, 355, 356, 357, 358, 359, 360, 361, 362, 363, 364, 365, 381, 382, 383, 384, 385, 386, 387, 388, 389, 390, 391, 392, 393, 394, 395, 396, 397, 398, 399, 400, 401, 407, 408, 409, 410, 411, 412, 413, 414, 415, 416, 417, 418, 419, 420, 421, 422, 423, 424, 425, 426, 427, 443, 444, 445, 446, 447, 448, 449, 450, 451, 452, 453, 454, 455, 456, 457, 458, 459, 460, 461, 462, 463, 474, 475, 476, 477, 478, 479, 480, 481, 482, 483, 484, 485, 486, 487, 488, 489, 490, 491, 492, 493, 494, 495, 496, 497, 498, 499, 509, 510, 511, 512, 513, 514, 515, 516, 517, 518, 519, 520, 521, 522, 523, 524, 525, 526, 527, 528, 529, 530, 531, 532, 533, 534, 535, 545, 546, 547, 548, 549, 550, 551, 552, 553, 554, 555, 556, 557, 558, 559, 560, 561, 578, 579, 580, 581, 582, 583, 584, 585, 586, 587, 595, 596, 597, 598, 599, 600, 601, 602, 603, 604, 605, 606, 607, 608, 609, 610, 611, 612, 613, 614, 615, 616, 617, 618, 619, 620, 621, 622, 623, 633, 634, 635, 636, 637, 638, 639, 640, 641, 642, 643, 644, 645, 646, 647, 648, 649, 650, 651, 652, 653, 654, 655, 656, 657, 658, 659, 670, 671, 672, 673, 674, 675, 676, 677, 678, 679, 680, 681, 682, 683, 684, 685, 686, 687, 688, 689, 690, 691, 692, 693, 694, 695, 705, 706, 707, 708, 709, 710, 711, 712, 713, 714, 715, 716, 717, 718, 719, 720, 721, 722, 723, 724, 725, 726, 727, 728, 729, 730, 731, 740, 741, 742, 743, 744, 745, 746, 747, 748, 749, 750, 751, 752, 753, 754, 755, 756, 757, 771, 772, 773, 774, 775, 776, 777, 778, 779, 780, 781, 782, 783, 796, 797, 798, 799, 800, 801, 802, 803, 804, 805, 806, 807, 808, 809, 810, 811, 812, 813, 814, 815, 816, 817, 818, 819, 829, 830, 831, 832, 833, 834, 835, 836, 837, 838, 839, 840, 841, 842, 843, 844, 845, 846, 847, 848, 849, 850, 851, 852, 853, 854, 855, 864, 865, 866, 867, 868, 869, 870, 871, 872, 873, 874, 875, 876, 877, 878, 879, 880, 881, 882, 883, 884, 885, 886, 887, 888, 889, 890, 891, 892, 893, 894, 895, 896, 897, 898, 899, 900, 901, 902, 903, 904, 905, 906, 907, 908, 909, 910, 911, 912, 913, 914, 915, 916, 917, 918, 919, 920, 921, 922, 923, 924, 925, 926, 927, 928, 929, 930, 931, 932, 933, 934, 935, 936, 937, 938, 939, 940, 941, 942, 943, 944, 945, 946, 947, 948, 949, 950, 951, 952, 953, 954, 955, 956, 957, 958, 959, 960, 961, 962, 963, 964, 965, 966, 967, 968, 969, 970, 971, 972, 973, 974, 975, 976, 977, 978, 979, 980]\n"
          ],
          "name": "stdout"
        }
      ]
    },
    {
      "cell_type": "code",
      "metadata": {
        "colab_type": "code",
        "id": "TgjoSbt0Chl-",
        "colab": {
          "base_uri": "https://localhost:8080/",
          "height": 106
        },
        "outputId": "ce805501-ed85-4c4e-b5f0-786f4af29cdf"
      },
      "source": [
        "print('Graos=',Grain)\n",
        "print('Others=',Others)\n",
        "print('Others local',Others_Local)\n",
        "print('Grain local',Grain_Local)\n"
      ],
      "execution_count": 23,
      "outputs": [
        {
          "output_type": "stream",
          "text": [
            "Graos= 245\n",
            "Others= 736\n",
            "Others local [13, 14, 15, 16, 17, 18, 19, 20, 21, 22, 23, 24, 25, 26, 27, 28, 29, 30, 31, 32, 33, 34, 35, 44, 45, 46, 47, 48, 49, 50, 51, 52, 53, 54, 55, 56, 57, 58, 59, 60, 61, 62, 63, 64, 65, 66, 67, 68, 69, 70, 71, 77, 78, 79, 80, 81, 82, 83, 84, 85, 86, 87, 88, 89, 90, 91, 92, 93, 94, 95, 96, 97, 98, 99, 100, 101, 102, 103, 104, 105, 106, 107, 115, 116, 117, 118, 119, 120, 121, 122, 123, 124, 125, 126, 127, 128, 129, 130, 131, 132, 133, 134, 135, 136, 137, 138, 139, 140, 141, 142, 143, 150, 151, 152, 153, 154, 155, 156, 157, 158, 159, 160, 161, 162, 163, 164, 165, 166, 167, 168, 169, 174, 175, 176, 177, 178, 179, 180, 181, 182, 183, 184, 185, 186, 187, 188, 189, 190, 191, 192, 193, 194, 195, 196, 197, 198, 199, 200, 201, 202, 203, 204, 205, 214, 215, 216, 217, 218, 219, 220, 221, 222, 223, 224, 225, 226, 227, 228, 229, 230, 231, 232, 233, 234, 235, 236, 237, 238, 239, 240, 241, 250, 251, 252, 253, 254, 255, 256, 257, 258, 259, 260, 261, 262, 263, 264, 265, 266, 267, 277, 278, 279, 280, 281, 282, 283, 284, 285, 286, 287, 288, 289, 290, 291, 292, 293, 294, 295, 296, 297, 298, 299, 300, 301, 302, 303, 311, 312, 313, 314, 315, 316, 317, 318, 319, 320, 321, 322, 323, 324, 325, 326, 327, 328, 329, 330, 331, 332, 333, 334, 335, 336, 337, 338, 339, 346, 347, 348, 349, 350, 351, 352, 353, 354, 355, 356, 357, 358, 359, 360, 361, 362, 363, 364, 365, 381, 382, 383, 384, 385, 386, 387, 388, 389, 390, 391, 392, 393, 394, 395, 396, 397, 398, 399, 400, 401, 407, 408, 409, 410, 411, 412, 413, 414, 415, 416, 417, 418, 419, 420, 421, 422, 423, 424, 425, 426, 427, 443, 444, 445, 446, 447, 448, 449, 450, 451, 452, 453, 454, 455, 456, 457, 458, 459, 460, 461, 462, 463, 474, 475, 476, 477, 478, 479, 480, 481, 482, 483, 484, 485, 486, 487, 488, 489, 490, 491, 492, 493, 494, 495, 496, 497, 498, 499, 509, 510, 511, 512, 513, 514, 515, 516, 517, 518, 519, 520, 521, 522, 523, 524, 525, 526, 527, 528, 529, 530, 531, 532, 533, 534, 535, 545, 546, 547, 548, 549, 550, 551, 552, 553, 554, 555, 556, 557, 558, 559, 560, 561, 578, 579, 580, 581, 582, 583, 584, 585, 586, 587, 595, 596, 597, 598, 599, 600, 601, 602, 603, 604, 605, 606, 607, 608, 609, 610, 611, 612, 613, 614, 615, 616, 617, 618, 619, 620, 621, 622, 623, 633, 634, 635, 636, 637, 638, 639, 640, 641, 642, 643, 644, 645, 646, 647, 648, 649, 650, 651, 652, 653, 654, 655, 656, 657, 658, 659, 670, 671, 672, 673, 674, 675, 676, 677, 678, 679, 680, 681, 682, 683, 684, 685, 686, 687, 688, 689, 690, 691, 692, 693, 694, 695, 705, 706, 707, 708, 709, 710, 711, 712, 713, 714, 715, 716, 717, 718, 719, 720, 721, 722, 723, 724, 725, 726, 727, 728, 729, 730, 731, 740, 741, 742, 743, 744, 745, 746, 747, 748, 749, 750, 751, 752, 753, 754, 755, 756, 757, 771, 772, 773, 774, 775, 776, 777, 778, 779, 780, 781, 782, 783, 796, 797, 798, 799, 800, 801, 802, 803, 804, 805, 806, 807, 808, 809, 810, 811, 812, 813, 814, 815, 816, 817, 818, 819, 829, 830, 831, 832, 833, 834, 835, 836, 837, 838, 839, 840, 841, 842, 843, 844, 845, 846, 847, 848, 849, 850, 851, 852, 853, 854, 855, 864, 865, 866, 867, 868, 869, 870, 871, 872, 873, 874, 875, 876, 877, 878, 879, 880, 881, 882, 883, 884, 885, 886, 887, 888, 889, 890, 891, 892, 893, 894, 895, 896, 897, 898, 899, 900, 901, 902, 903, 904, 905, 906, 907, 908, 909, 910, 911, 912, 913, 914, 915, 916, 917, 918, 919, 920, 921, 922, 923, 924, 925, 926, 927, 928, 929, 930, 931, 932, 933, 934, 935, 936, 937, 938, 939, 940, 941, 942, 943, 944, 945, 946, 947, 948, 949, 950, 951, 952, 953, 954, 955, 956, 957, 958, 959, 960, 961, 962, 963, 964, 965, 966, 967, 968, 969, 970, 971, 972, 973, 974, 975, 976, 977, 978, 979, 980]\n",
            "Grain local [0, 1, 2, 3, 4, 5, 6, 7, 8, 9, 10, 11, 12, 36, 37, 38, 39, 40, 41, 42, 43, 72, 73, 74, 75, 76, 108, 109, 110, 111, 112, 113, 114, 144, 145, 146, 147, 148, 149, 170, 171, 172, 173, 206, 207, 208, 209, 210, 211, 212, 213, 242, 243, 244, 245, 246, 247, 248, 249, 268, 269, 270, 271, 272, 273, 274, 275, 276, 304, 305, 306, 307, 308, 309, 310, 340, 341, 342, 343, 344, 345, 366, 367, 368, 369, 370, 371, 372, 373, 374, 375, 376, 377, 378, 379, 380, 402, 403, 404, 405, 406, 428, 429, 430, 431, 432, 433, 434, 435, 436, 437, 438, 439, 440, 441, 442, 464, 465, 466, 467, 468, 469, 470, 471, 472, 473, 500, 501, 502, 503, 504, 505, 506, 507, 508, 536, 537, 538, 539, 540, 541, 542, 543, 544, 562, 563, 564, 565, 566, 567, 568, 569, 570, 571, 572, 573, 574, 575, 576, 577, 588, 589, 590, 591, 592, 593, 594, 624, 625, 626, 627, 628, 629, 630, 631, 632, 660, 661, 662, 663, 664, 665, 666, 667, 668, 669, 696, 697, 698, 699, 700, 701, 702, 703, 704, 732, 733, 734, 735, 736, 737, 738, 739, 758, 759, 760, 761, 762, 763, 764, 765, 766, 767, 768, 769, 770, 784, 785, 786, 787, 788, 789, 790, 791, 792, 793, 794, 795, 820, 821, 822, 823, 824, 825, 826, 827, 828, 856, 857, 858, 859, 860, 861, 862, 863]\n"
          ],
          "name": "stdout"
        }
      ]
    },
    {
      "cell_type": "code",
      "metadata": {
        "id": "HkM-s9TiCyLt",
        "colab_type": "code",
        "colab": {}
      },
      "source": [
        "x_new=[]\n",
        "y_rede=[]\n",
        "for i in range(Grain):\n",
        "  x_new.append(Fotos.iloc[Grain_Local[i]])\n",
        "  x_new.append(Fotos.iloc[sampled_list[i]])\n",
        "  y_rede.append(y_new[Grain_Local[i]])\n",
        "  y_rede.append(y_new[sampled_list[i]])\n"
      ],
      "execution_count": 24,
      "outputs": []
    },
    {
      "cell_type": "code",
      "metadata": {
        "id": "4qHR83qhGa0G",
        "colab_type": "code",
        "colab": {
          "base_uri": "https://localhost:8080/",
          "height": 34
        },
        "outputId": "0c8d568a-bf15-4101-9cbc-2e1f7801856f"
      },
      "source": [
        "np.array(x_new).shape"
      ],
      "execution_count": 25,
      "outputs": [
        {
          "output_type": "execute_result",
          "data": {
            "text/plain": [
              "(490, 784)"
            ]
          },
          "metadata": {
            "tags": []
          },
          "execution_count": 25
        }
      ]
    },
    {
      "cell_type": "code",
      "metadata": {
        "id": "MZp3WDdEFu3I",
        "colab_type": "code",
        "colab": {}
      },
      "source": [
        "#pd.DataFrame(y_rede).describe()"
      ],
      "execution_count": 26,
      "outputs": []
    },
    {
      "cell_type": "code",
      "metadata": {
        "id": "Nb33el9Y9AXG",
        "colab_type": "code",
        "colab": {}
      },
      "source": [
        "# y_valor=np.copy(y_new)\n",
        "y_total=np.copy(y_rede)"
      ],
      "execution_count": 27,
      "outputs": []
    },
    {
      "cell_type": "code",
      "metadata": {
        "id": "MSs3qh0_uO94",
        "colab_type": "code",
        "colab": {}
      },
      "source": [
        "#Define data train and data test\n",
        "#images28=Fotos\n",
        "images28=x_new #Fotos\n",
        "W_train, W_test, yw_train, yw_test = train_test_split(np.array(images28), np.array(y_total), \n",
        "                                                    test_size=0.30, \n",
        "                                                    random_state=42)"
      ],
      "execution_count": 28,
      "outputs": []
    },
    {
      "cell_type": "code",
      "metadata": {
        "id": "MGzcVt8V0ft2",
        "colab_type": "code",
        "colab": {
          "base_uri": "https://localhost:8080/",
          "height": 86
        },
        "outputId": "0d3f76af-d62a-4050-c877-17b356d7a6dd"
      },
      "source": [
        "print(len(y_total))\n",
        "print(len(yw_test))\n",
        "print(len(yw_train))\n",
        "A=490*0.3\n",
        "print(A)"
      ],
      "execution_count": 29,
      "outputs": [
        {
          "output_type": "stream",
          "text": [
            "490\n",
            "147\n",
            "343\n",
            "147.0\n"
          ],
          "name": "stdout"
        }
      ]
    },
    {
      "cell_type": "code",
      "metadata": {
        "id": "pwHcagDGuow0",
        "colab_type": "code",
        "colab": {}
      },
      "source": [
        "train_images=W_train #imagens utilizadas para o treino\n",
        "train_labels=yw_train # resposta esperada para o treino\n",
        "test_images=W_test\n",
        "test_labels=yw_test"
      ],
      "execution_count": 30,
      "outputs": []
    },
    {
      "cell_type": "code",
      "metadata": {
        "id": "YEblnmBlsTMc",
        "colab_type": "code",
        "colab": {}
      },
      "source": [
        "#print(len(test_labels))"
      ],
      "execution_count": 31,
      "outputs": []
    },
    {
      "cell_type": "code",
      "metadata": {
        "id": "IWSEclzGurul",
        "colab_type": "code",
        "colab": {}
      },
      "source": [
        "model = keras.Sequential([\n",
        "    keras.layers.Flatten(input_shape=(28, 28)),\n",
        "    keras.layers.Dense(128, activation='relu'),\n",
        "    keras.layers.Dense(10)\n",
        "])"
      ],
      "execution_count": 32,
      "outputs": []
    },
    {
      "cell_type": "code",
      "metadata": {
        "id": "w88iZqfVusm0",
        "colab_type": "code",
        "colab": {}
      },
      "source": [
        "model.compile(optimizer='adam',\n",
        "              loss=tf.keras.losses.SparseCategoricalCrossentropy(from_logits=True),\n",
        "              metrics=['accuracy'])"
      ],
      "execution_count": 33,
      "outputs": []
    },
    {
      "cell_type": "code",
      "metadata": {
        "id": "a0MAtbvxuwQE",
        "colab_type": "code",
        "colab": {
          "base_uri": "https://localhost:8080/",
          "height": 1000
        },
        "outputId": "7f19b3af-663f-43b5-85d7-c413867fc673"
      },
      "source": [
        "model.fit(train_images, train_labels, epochs=500)"
      ],
      "execution_count": 34,
      "outputs": [
        {
          "output_type": "stream",
          "text": [
            "Epoch 1/500\n",
            "WARNING:tensorflow:Model was constructed with shape (None, 28, 28) for input Tensor(\"flatten_input:0\", shape=(None, 28, 28), dtype=float32), but it was called on an input with incompatible shape (None, 784).\n",
            "WARNING:tensorflow:Model was constructed with shape (None, 28, 28) for input Tensor(\"flatten_input:0\", shape=(None, 28, 28), dtype=float32), but it was called on an input with incompatible shape (None, 784).\n",
            "11/11 [==============================] - 0s 2ms/step - loss: 3.9025 - accuracy: 0.4927\n",
            "Epoch 2/500\n",
            "11/11 [==============================] - 0s 2ms/step - loss: 1.2084 - accuracy: 0.5015\n",
            "Epoch 3/500\n",
            "11/11 [==============================] - 0s 2ms/step - loss: 1.0645 - accuracy: 0.5102\n",
            "Epoch 4/500\n",
            "11/11 [==============================] - 0s 2ms/step - loss: 0.9181 - accuracy: 0.5219\n",
            "Epoch 5/500\n",
            "11/11 [==============================] - 0s 2ms/step - loss: 1.2946 - accuracy: 0.5102\n",
            "Epoch 6/500\n",
            "11/11 [==============================] - 0s 2ms/step - loss: 0.7846 - accuracy: 0.5918\n",
            "Epoch 7/500\n",
            "11/11 [==============================] - 0s 2ms/step - loss: 0.8570 - accuracy: 0.5306\n",
            "Epoch 8/500\n",
            "11/11 [==============================] - 0s 2ms/step - loss: 0.5959 - accuracy: 0.6997\n",
            "Epoch 9/500\n",
            "11/11 [==============================] - 0s 2ms/step - loss: 0.6506 - accuracy: 0.6268\n",
            "Epoch 10/500\n",
            "11/11 [==============================] - 0s 2ms/step - loss: 0.8015 - accuracy: 0.6968\n",
            "Epoch 11/500\n",
            "11/11 [==============================] - 0s 2ms/step - loss: 1.7501 - accuracy: 0.5306\n",
            "Epoch 12/500\n",
            "11/11 [==============================] - 0s 2ms/step - loss: 1.7012 - accuracy: 0.5248\n",
            "Epoch 13/500\n",
            "11/11 [==============================] - 0s 2ms/step - loss: 1.2555 - accuracy: 0.6239\n",
            "Epoch 14/500\n",
            "11/11 [==============================] - 0s 2ms/step - loss: 3.4473 - accuracy: 0.5102\n",
            "Epoch 15/500\n",
            "11/11 [==============================] - 0s 2ms/step - loss: 3.2811 - accuracy: 0.5102\n",
            "Epoch 16/500\n",
            "11/11 [==============================] - 0s 3ms/step - loss: 1.4389 - accuracy: 0.5539\n",
            "Epoch 17/500\n",
            "11/11 [==============================] - 0s 2ms/step - loss: 0.6185 - accuracy: 0.6676\n",
            "Epoch 18/500\n",
            "11/11 [==============================] - 0s 2ms/step - loss: 0.9381 - accuracy: 0.5802\n",
            "Epoch 19/500\n",
            "11/11 [==============================] - 0s 2ms/step - loss: 0.6736 - accuracy: 0.6531\n",
            "Epoch 20/500\n",
            "11/11 [==============================] - 0s 2ms/step - loss: 0.5416 - accuracy: 0.6764\n",
            "Epoch 21/500\n",
            "11/11 [==============================] - 0s 2ms/step - loss: 0.5283 - accuracy: 0.7026\n",
            "Epoch 22/500\n",
            "11/11 [==============================] - 0s 2ms/step - loss: 0.5076 - accuracy: 0.7259\n",
            "Epoch 23/500\n",
            "11/11 [==============================] - 0s 2ms/step - loss: 0.5030 - accuracy: 0.7318\n",
            "Epoch 24/500\n",
            "11/11 [==============================] - 0s 2ms/step - loss: 0.5021 - accuracy: 0.7638\n",
            "Epoch 25/500\n",
            "11/11 [==============================] - 0s 2ms/step - loss: 0.4937 - accuracy: 0.7638\n",
            "Epoch 26/500\n",
            "11/11 [==============================] - 0s 2ms/step - loss: 0.4932 - accuracy: 0.7493\n",
            "Epoch 27/500\n",
            "11/11 [==============================] - 0s 2ms/step - loss: 0.4876 - accuracy: 0.7580\n",
            "Epoch 28/500\n",
            "11/11 [==============================] - 0s 2ms/step - loss: 0.4841 - accuracy: 0.7638\n",
            "Epoch 29/500\n",
            "11/11 [==============================] - 0s 2ms/step - loss: 0.4785 - accuracy: 0.7609\n",
            "Epoch 30/500\n",
            "11/11 [==============================] - 0s 2ms/step - loss: 0.4752 - accuracy: 0.7697\n",
            "Epoch 31/500\n",
            "11/11 [==============================] - 0s 2ms/step - loss: 0.4738 - accuracy: 0.7638\n",
            "Epoch 32/500\n",
            "11/11 [==============================] - 0s 2ms/step - loss: 0.4690 - accuracy: 0.7755\n",
            "Epoch 33/500\n",
            "11/11 [==============================] - 0s 2ms/step - loss: 0.4670 - accuracy: 0.7697\n",
            "Epoch 34/500\n",
            "11/11 [==============================] - 0s 2ms/step - loss: 0.4647 - accuracy: 0.7755\n",
            "Epoch 35/500\n",
            "11/11 [==============================] - 0s 2ms/step - loss: 0.4611 - accuracy: 0.7813\n",
            "Epoch 36/500\n",
            "11/11 [==============================] - 0s 2ms/step - loss: 0.4587 - accuracy: 0.7843\n",
            "Epoch 37/500\n",
            "11/11 [==============================] - 0s 2ms/step - loss: 0.4573 - accuracy: 0.7843\n",
            "Epoch 38/500\n",
            "11/11 [==============================] - 0s 2ms/step - loss: 0.4549 - accuracy: 0.7872\n",
            "Epoch 39/500\n",
            "11/11 [==============================] - 0s 2ms/step - loss: 0.4512 - accuracy: 0.7843\n",
            "Epoch 40/500\n",
            "11/11 [==============================] - 0s 2ms/step - loss: 0.4549 - accuracy: 0.7784\n",
            "Epoch 41/500\n",
            "11/11 [==============================] - 0s 2ms/step - loss: 0.4437 - accuracy: 0.8017\n",
            "Epoch 42/500\n",
            "11/11 [==============================] - 0s 2ms/step - loss: 0.4504 - accuracy: 0.8105\n",
            "Epoch 43/500\n",
            "11/11 [==============================] - 0s 2ms/step - loss: 0.4541 - accuracy: 0.7813\n",
            "Epoch 44/500\n",
            "11/11 [==============================] - 0s 2ms/step - loss: 0.4411 - accuracy: 0.7872\n",
            "Epoch 45/500\n",
            "11/11 [==============================] - 0s 2ms/step - loss: 0.4389 - accuracy: 0.7988\n",
            "Epoch 46/500\n",
            "11/11 [==============================] - 0s 2ms/step - loss: 0.4351 - accuracy: 0.7959\n",
            "Epoch 47/500\n",
            "11/11 [==============================] - 0s 2ms/step - loss: 0.4334 - accuracy: 0.8017\n",
            "Epoch 48/500\n",
            "11/11 [==============================] - 0s 2ms/step - loss: 0.4318 - accuracy: 0.8076\n",
            "Epoch 49/500\n",
            "11/11 [==============================] - 0s 2ms/step - loss: 0.4319 - accuracy: 0.8047\n",
            "Epoch 50/500\n",
            "11/11 [==============================] - 0s 2ms/step - loss: 0.4272 - accuracy: 0.8017\n",
            "Epoch 51/500\n",
            "11/11 [==============================] - 0s 3ms/step - loss: 0.4255 - accuracy: 0.8105\n",
            "Epoch 52/500\n",
            "11/11 [==============================] - 0s 2ms/step - loss: 0.4282 - accuracy: 0.8076\n",
            "Epoch 53/500\n",
            "11/11 [==============================] - 0s 2ms/step - loss: 0.4210 - accuracy: 0.8163\n",
            "Epoch 54/500\n",
            "11/11 [==============================] - 0s 2ms/step - loss: 0.4196 - accuracy: 0.8163\n",
            "Epoch 55/500\n",
            "11/11 [==============================] - 0s 2ms/step - loss: 0.4169 - accuracy: 0.8192\n",
            "Epoch 56/500\n",
            "11/11 [==============================] - 0s 2ms/step - loss: 0.4157 - accuracy: 0.8222\n",
            "Epoch 57/500\n",
            "11/11 [==============================] - 0s 2ms/step - loss: 0.4136 - accuracy: 0.8192\n",
            "Epoch 58/500\n",
            "11/11 [==============================] - 0s 2ms/step - loss: 0.4127 - accuracy: 0.8192\n",
            "Epoch 59/500\n",
            "11/11 [==============================] - 0s 2ms/step - loss: 0.4105 - accuracy: 0.8251\n",
            "Epoch 60/500\n",
            "11/11 [==============================] - 0s 2ms/step - loss: 0.4077 - accuracy: 0.8280\n",
            "Epoch 61/500\n",
            "11/11 [==============================] - 0s 2ms/step - loss: 0.4069 - accuracy: 0.8222\n",
            "Epoch 62/500\n",
            "11/11 [==============================] - 0s 2ms/step - loss: 0.4035 - accuracy: 0.8251\n",
            "Epoch 63/500\n",
            "11/11 [==============================] - 0s 2ms/step - loss: 0.4016 - accuracy: 0.8309\n",
            "Epoch 64/500\n",
            "11/11 [==============================] - 0s 2ms/step - loss: 0.4023 - accuracy: 0.8192\n",
            "Epoch 65/500\n",
            "11/11 [==============================] - 0s 2ms/step - loss: 0.3976 - accuracy: 0.8397\n",
            "Epoch 66/500\n",
            "11/11 [==============================] - 0s 2ms/step - loss: 0.3978 - accuracy: 0.8309\n",
            "Epoch 67/500\n",
            "11/11 [==============================] - 0s 2ms/step - loss: 0.3967 - accuracy: 0.8309\n",
            "Epoch 68/500\n",
            "11/11 [==============================] - 0s 2ms/step - loss: 0.3926 - accuracy: 0.8426\n",
            "Epoch 69/500\n",
            "11/11 [==============================] - 0s 2ms/step - loss: 0.3913 - accuracy: 0.8280\n",
            "Epoch 70/500\n",
            "11/11 [==============================] - 0s 2ms/step - loss: 0.3898 - accuracy: 0.8426\n",
            "Epoch 71/500\n",
            "11/11 [==============================] - 0s 2ms/step - loss: 0.3884 - accuracy: 0.8426\n",
            "Epoch 72/500\n",
            "11/11 [==============================] - 0s 2ms/step - loss: 0.3885 - accuracy: 0.8513\n",
            "Epoch 73/500\n",
            "11/11 [==============================] - 0s 2ms/step - loss: 0.3846 - accuracy: 0.8309\n",
            "Epoch 74/500\n",
            "11/11 [==============================] - 0s 2ms/step - loss: 0.3808 - accuracy: 0.8571\n",
            "Epoch 75/500\n",
            "11/11 [==============================] - 0s 2ms/step - loss: 0.3853 - accuracy: 0.8367\n",
            "Epoch 76/500\n",
            "11/11 [==============================] - 0s 2ms/step - loss: 0.9625 - accuracy: 0.7318\n",
            "Epoch 77/500\n",
            "11/11 [==============================] - 0s 2ms/step - loss: 2.5685 - accuracy: 0.5160\n",
            "Epoch 78/500\n",
            "11/11 [==============================] - 0s 2ms/step - loss: 1.2342 - accuracy: 0.6997\n",
            "Epoch 79/500\n",
            "11/11 [==============================] - 0s 2ms/step - loss: 1.0753 - accuracy: 0.5948\n",
            "Epoch 80/500\n",
            "11/11 [==============================] - 0s 2ms/step - loss: 0.5696 - accuracy: 0.7493\n",
            "Epoch 81/500\n",
            "11/11 [==============================] - 0s 2ms/step - loss: 0.5098 - accuracy: 0.7289\n",
            "Epoch 82/500\n",
            "11/11 [==============================] - 0s 2ms/step - loss: 0.4337 - accuracy: 0.7930\n",
            "Epoch 83/500\n",
            "11/11 [==============================] - 0s 2ms/step - loss: 0.4038 - accuracy: 0.8134\n",
            "Epoch 84/500\n",
            "11/11 [==============================] - 0s 2ms/step - loss: 0.4006 - accuracy: 0.8367\n",
            "Epoch 85/500\n",
            "11/11 [==============================] - 0s 2ms/step - loss: 0.3967 - accuracy: 0.8280\n",
            "Epoch 86/500\n",
            "11/11 [==============================] - 0s 3ms/step - loss: 0.3941 - accuracy: 0.8338\n",
            "Epoch 87/500\n",
            "11/11 [==============================] - 0s 2ms/step - loss: 0.3912 - accuracy: 0.8309\n",
            "Epoch 88/500\n",
            "11/11 [==============================] - 0s 2ms/step - loss: 0.3920 - accuracy: 0.8309\n",
            "Epoch 89/500\n",
            "11/11 [==============================] - 0s 2ms/step - loss: 0.3888 - accuracy: 0.8397\n",
            "Epoch 90/500\n",
            "11/11 [==============================] - 0s 2ms/step - loss: 0.3851 - accuracy: 0.8338\n",
            "Epoch 91/500\n",
            "11/11 [==============================] - 0s 2ms/step - loss: 0.3832 - accuracy: 0.8426\n",
            "Epoch 92/500\n",
            "11/11 [==============================] - 0s 2ms/step - loss: 0.3810 - accuracy: 0.8397\n",
            "Epoch 93/500\n",
            "11/11 [==============================] - 0s 2ms/step - loss: 0.3794 - accuracy: 0.8484\n",
            "Epoch 94/500\n",
            "11/11 [==============================] - 0s 2ms/step - loss: 0.3797 - accuracy: 0.8426\n",
            "Epoch 95/500\n",
            "11/11 [==============================] - 0s 2ms/step - loss: 0.3795 - accuracy: 0.8426\n",
            "Epoch 96/500\n",
            "11/11 [==============================] - 0s 2ms/step - loss: 0.3731 - accuracy: 0.8397\n",
            "Epoch 97/500\n",
            "11/11 [==============================] - 0s 2ms/step - loss: 0.3730 - accuracy: 0.8484\n",
            "Epoch 98/500\n",
            "11/11 [==============================] - 0s 2ms/step - loss: 0.3711 - accuracy: 0.8426\n",
            "Epoch 99/500\n",
            "11/11 [==============================] - 0s 2ms/step - loss: 0.3725 - accuracy: 0.8397\n",
            "Epoch 100/500\n",
            "11/11 [==============================] - 0s 2ms/step - loss: 0.3674 - accuracy: 0.8397\n",
            "Epoch 101/500\n",
            "11/11 [==============================] - 0s 2ms/step - loss: 0.3667 - accuracy: 0.8513\n",
            "Epoch 102/500\n",
            "11/11 [==============================] - 0s 2ms/step - loss: 0.3632 - accuracy: 0.8542\n",
            "Epoch 103/500\n",
            "11/11 [==============================] - 0s 2ms/step - loss: 0.3631 - accuracy: 0.8367\n",
            "Epoch 104/500\n",
            "11/11 [==============================] - 0s 2ms/step - loss: 0.3602 - accuracy: 0.8542\n",
            "Epoch 105/500\n",
            "11/11 [==============================] - 0s 2ms/step - loss: 0.3587 - accuracy: 0.8542\n",
            "Epoch 106/500\n",
            "11/11 [==============================] - 0s 2ms/step - loss: 0.3651 - accuracy: 0.8397\n",
            "Epoch 107/500\n",
            "11/11 [==============================] - 0s 2ms/step - loss: 0.3596 - accuracy: 0.8630\n",
            "Epoch 108/500\n",
            "11/11 [==============================] - 0s 2ms/step - loss: 0.3526 - accuracy: 0.8630\n",
            "Epoch 109/500\n",
            "11/11 [==============================] - 0s 2ms/step - loss: 0.3559 - accuracy: 0.8397\n",
            "Epoch 110/500\n",
            "11/11 [==============================] - 0s 2ms/step - loss: 0.3555 - accuracy: 0.8630\n",
            "Epoch 111/500\n",
            "11/11 [==============================] - 0s 2ms/step - loss: 0.3591 - accuracy: 0.8280\n",
            "Epoch 112/500\n",
            "11/11 [==============================] - 0s 2ms/step - loss: 0.3586 - accuracy: 0.8601\n",
            "Epoch 113/500\n",
            "11/11 [==============================] - 0s 2ms/step - loss: 0.3486 - accuracy: 0.8513\n",
            "Epoch 114/500\n",
            "11/11 [==============================] - 0s 2ms/step - loss: 0.3492 - accuracy: 0.8455\n",
            "Epoch 115/500\n",
            "11/11 [==============================] - 0s 2ms/step - loss: 0.3459 - accuracy: 0.8571\n",
            "Epoch 116/500\n",
            "11/11 [==============================] - 0s 2ms/step - loss: 0.3436 - accuracy: 0.8571\n",
            "Epoch 117/500\n",
            "11/11 [==============================] - 0s 2ms/step - loss: 0.3420 - accuracy: 0.8571\n",
            "Epoch 118/500\n",
            "11/11 [==============================] - 0s 2ms/step - loss: 0.3440 - accuracy: 0.8484\n",
            "Epoch 119/500\n",
            "11/11 [==============================] - 0s 2ms/step - loss: 0.3431 - accuracy: 0.8601\n",
            "Epoch 120/500\n",
            "11/11 [==============================] - 0s 2ms/step - loss: 0.3452 - accuracy: 0.8513\n",
            "Epoch 121/500\n",
            "11/11 [==============================] - 0s 3ms/step - loss: 0.3400 - accuracy: 0.8659\n",
            "Epoch 122/500\n",
            "11/11 [==============================] - 0s 2ms/step - loss: 0.3394 - accuracy: 0.8338\n",
            "Epoch 123/500\n",
            "11/11 [==============================] - 0s 2ms/step - loss: 0.3372 - accuracy: 0.8601\n",
            "Epoch 124/500\n",
            "11/11 [==============================] - 0s 2ms/step - loss: 0.3327 - accuracy: 0.8513\n",
            "Epoch 125/500\n",
            "11/11 [==============================] - 0s 2ms/step - loss: 0.3308 - accuracy: 0.8601\n",
            "Epoch 126/500\n",
            "11/11 [==============================] - 0s 2ms/step - loss: 0.3295 - accuracy: 0.8659\n",
            "Epoch 127/500\n",
            "11/11 [==============================] - 0s 2ms/step - loss: 0.3276 - accuracy: 0.8601\n",
            "Epoch 128/500\n",
            "11/11 [==============================] - 0s 2ms/step - loss: 0.3258 - accuracy: 0.8601\n",
            "Epoch 129/500\n",
            "11/11 [==============================] - 0s 2ms/step - loss: 0.3297 - accuracy: 0.8513\n",
            "Epoch 130/500\n",
            "11/11 [==============================] - 0s 2ms/step - loss: 0.3298 - accuracy: 0.8513\n",
            "Epoch 131/500\n",
            "11/11 [==============================] - 0s 2ms/step - loss: 0.3213 - accuracy: 0.8688\n",
            "Epoch 132/500\n",
            "11/11 [==============================] - 0s 2ms/step - loss: 0.3259 - accuracy: 0.8513\n",
            "Epoch 133/500\n",
            "11/11 [==============================] - 0s 2ms/step - loss: 0.3263 - accuracy: 0.8659\n",
            "Epoch 134/500\n",
            "11/11 [==============================] - 0s 2ms/step - loss: 0.3185 - accuracy: 0.8630\n",
            "Epoch 135/500\n",
            "11/11 [==============================] - 0s 2ms/step - loss: 0.3170 - accuracy: 0.8630\n",
            "Epoch 136/500\n",
            "11/11 [==============================] - 0s 2ms/step - loss: 0.3167 - accuracy: 0.8717\n",
            "Epoch 137/500\n",
            "11/11 [==============================] - 0s 2ms/step - loss: 0.3158 - accuracy: 0.8659\n",
            "Epoch 138/500\n",
            "11/11 [==============================] - 0s 2ms/step - loss: 1.6387 - accuracy: 0.6676\n",
            "Epoch 139/500\n",
            "11/11 [==============================] - 0s 2ms/step - loss: 2.6140 - accuracy: 0.5364\n",
            "Epoch 140/500\n",
            "11/11 [==============================] - 0s 2ms/step - loss: 0.9529 - accuracy: 0.6997\n",
            "Epoch 141/500\n",
            "11/11 [==============================] - 0s 2ms/step - loss: 1.1986 - accuracy: 0.5860\n",
            "Epoch 142/500\n",
            "11/11 [==============================] - 0s 2ms/step - loss: 0.4502 - accuracy: 0.8134\n",
            "Epoch 143/500\n",
            "11/11 [==============================] - 0s 2ms/step - loss: 0.5149 - accuracy: 0.7638\n",
            "Epoch 144/500\n",
            "11/11 [==============================] - 0s 2ms/step - loss: 0.3739 - accuracy: 0.8542\n",
            "Epoch 145/500\n",
            "11/11 [==============================] - 0s 2ms/step - loss: 0.3608 - accuracy: 0.8513\n",
            "Epoch 146/500\n",
            "11/11 [==============================] - 0s 2ms/step - loss: 0.3618 - accuracy: 0.8426\n",
            "Epoch 147/500\n",
            "11/11 [==============================] - 0s 2ms/step - loss: 0.3619 - accuracy: 0.8484\n",
            "Epoch 148/500\n",
            "11/11 [==============================] - 0s 2ms/step - loss: 0.3520 - accuracy: 0.8601\n",
            "Epoch 149/500\n",
            "11/11 [==============================] - 0s 2ms/step - loss: 0.3526 - accuracy: 0.8746\n",
            "Epoch 150/500\n",
            "11/11 [==============================] - 0s 2ms/step - loss: 0.3505 - accuracy: 0.8630\n",
            "Epoch 151/500\n",
            "11/11 [==============================] - 0s 2ms/step - loss: 0.3486 - accuracy: 0.8688\n",
            "Epoch 152/500\n",
            "11/11 [==============================] - 0s 2ms/step - loss: 0.3475 - accuracy: 0.8601\n",
            "Epoch 153/500\n",
            "11/11 [==============================] - 0s 2ms/step - loss: 0.3473 - accuracy: 0.8630\n",
            "Epoch 154/500\n",
            "11/11 [==============================] - 0s 2ms/step - loss: 0.3447 - accuracy: 0.8630\n",
            "Epoch 155/500\n",
            "11/11 [==============================] - 0s 2ms/step - loss: 0.3445 - accuracy: 0.8688\n",
            "Epoch 156/500\n",
            "11/11 [==============================] - 0s 2ms/step - loss: 0.3408 - accuracy: 0.8717\n",
            "Epoch 157/500\n",
            "11/11 [==============================] - 0s 2ms/step - loss: 0.3399 - accuracy: 0.8717\n",
            "Epoch 158/500\n",
            "11/11 [==============================] - 0s 2ms/step - loss: 0.3384 - accuracy: 0.8717\n",
            "Epoch 159/500\n",
            "11/11 [==============================] - 0s 2ms/step - loss: 0.3387 - accuracy: 0.8717\n",
            "Epoch 160/500\n",
            "11/11 [==============================] - 0s 2ms/step - loss: 0.3340 - accuracy: 0.8776\n",
            "Epoch 161/500\n",
            "11/11 [==============================] - 0s 2ms/step - loss: 0.3212 - accuracy: 0.8746\n",
            "Epoch 162/500\n",
            "11/11 [==============================] - 0s 2ms/step - loss: 0.3166 - accuracy: 0.8776\n",
            "Epoch 163/500\n",
            "11/11 [==============================] - 0s 2ms/step - loss: 0.3152 - accuracy: 0.8805\n",
            "Epoch 164/500\n",
            "11/11 [==============================] - 0s 2ms/step - loss: 0.3131 - accuracy: 0.8776\n",
            "Epoch 165/500\n",
            "11/11 [==============================] - 0s 2ms/step - loss: 0.3110 - accuracy: 0.8746\n",
            "Epoch 166/500\n",
            "11/11 [==============================] - 0s 2ms/step - loss: 0.3138 - accuracy: 0.8571\n",
            "Epoch 167/500\n",
            "11/11 [==============================] - 0s 2ms/step - loss: 0.3164 - accuracy: 0.8688\n",
            "Epoch 168/500\n",
            "11/11 [==============================] - 0s 2ms/step - loss: 0.3076 - accuracy: 0.8805\n",
            "Epoch 169/500\n",
            "11/11 [==============================] - 0s 2ms/step - loss: 0.3035 - accuracy: 0.8834\n",
            "Epoch 170/500\n",
            "11/11 [==============================] - 0s 2ms/step - loss: 0.3124 - accuracy: 0.8688\n",
            "Epoch 171/500\n",
            "11/11 [==============================] - 0s 2ms/step - loss: 0.3077 - accuracy: 0.8776\n",
            "Epoch 172/500\n",
            "11/11 [==============================] - 0s 2ms/step - loss: 0.3013 - accuracy: 0.8834\n",
            "Epoch 173/500\n",
            "11/11 [==============================] - 0s 2ms/step - loss: 0.2970 - accuracy: 0.8863\n",
            "Epoch 174/500\n",
            "11/11 [==============================] - 0s 2ms/step - loss: 0.3017 - accuracy: 0.8746\n",
            "Epoch 175/500\n",
            "11/11 [==============================] - 0s 2ms/step - loss: 0.3030 - accuracy: 0.8834\n",
            "Epoch 176/500\n",
            "11/11 [==============================] - 0s 2ms/step - loss: 0.2949 - accuracy: 0.8746\n",
            "Epoch 177/500\n",
            "11/11 [==============================] - 0s 2ms/step - loss: 0.2926 - accuracy: 0.8776\n",
            "Epoch 178/500\n",
            "11/11 [==============================] - 0s 2ms/step - loss: 0.2922 - accuracy: 0.8805\n",
            "Epoch 179/500\n",
            "11/11 [==============================] - 0s 2ms/step - loss: 0.3020 - accuracy: 0.8776\n",
            "Epoch 180/500\n",
            "11/11 [==============================] - 0s 2ms/step - loss: 0.2881 - accuracy: 0.8921\n",
            "Epoch 181/500\n",
            "11/11 [==============================] - 0s 2ms/step - loss: 0.2878 - accuracy: 0.8805\n",
            "Epoch 182/500\n",
            "11/11 [==============================] - 0s 2ms/step - loss: 0.2868 - accuracy: 0.8921\n",
            "Epoch 183/500\n",
            "11/11 [==============================] - 0s 2ms/step - loss: 0.2830 - accuracy: 0.8892\n",
            "Epoch 184/500\n",
            "11/11 [==============================] - 0s 2ms/step - loss: 0.2812 - accuracy: 0.8776\n",
            "Epoch 185/500\n",
            "11/11 [==============================] - 0s 2ms/step - loss: 0.2866 - accuracy: 0.8834\n",
            "Epoch 186/500\n",
            "11/11 [==============================] - 0s 2ms/step - loss: 0.2790 - accuracy: 0.8892\n",
            "Epoch 187/500\n",
            "11/11 [==============================] - 0s 2ms/step - loss: 0.2797 - accuracy: 0.8863\n",
            "Epoch 188/500\n",
            "11/11 [==============================] - 0s 2ms/step - loss: 0.2751 - accuracy: 0.8892\n",
            "Epoch 189/500\n",
            "11/11 [==============================] - 0s 2ms/step - loss: 0.2756 - accuracy: 0.8950\n",
            "Epoch 190/500\n",
            "11/11 [==============================] - 0s 2ms/step - loss: 0.2755 - accuracy: 0.8921\n",
            "Epoch 191/500\n",
            "11/11 [==============================] - 0s 2ms/step - loss: 0.2758 - accuracy: 0.8921\n",
            "Epoch 192/500\n",
            "11/11 [==============================] - 0s 2ms/step - loss: 0.2713 - accuracy: 0.8834\n",
            "Epoch 193/500\n",
            "11/11 [==============================] - 0s 2ms/step - loss: 0.2884 - accuracy: 0.8805\n",
            "Epoch 194/500\n",
            "11/11 [==============================] - 0s 2ms/step - loss: 0.2784 - accuracy: 0.8863\n",
            "Epoch 195/500\n",
            "11/11 [==============================] - 0s 2ms/step - loss: 0.2682 - accuracy: 0.8980\n",
            "Epoch 196/500\n",
            "11/11 [==============================] - 0s 2ms/step - loss: 0.2677 - accuracy: 0.8892\n",
            "Epoch 197/500\n",
            "11/11 [==============================] - 0s 2ms/step - loss: 0.2645 - accuracy: 0.8980\n",
            "Epoch 198/500\n",
            "11/11 [==============================] - 0s 2ms/step - loss: 0.2612 - accuracy: 0.8921\n",
            "Epoch 199/500\n",
            "11/11 [==============================] - 0s 2ms/step - loss: 0.2668 - accuracy: 0.8921\n",
            "Epoch 200/500\n",
            "11/11 [==============================] - 0s 2ms/step - loss: 0.2619 - accuracy: 0.8863\n",
            "Epoch 201/500\n",
            "11/11 [==============================] - 0s 2ms/step - loss: 0.2617 - accuracy: 0.9096\n",
            "Epoch 202/500\n",
            "11/11 [==============================] - 0s 2ms/step - loss: 0.2585 - accuracy: 0.9125\n",
            "Epoch 203/500\n",
            "11/11 [==============================] - 0s 2ms/step - loss: 0.2619 - accuracy: 0.8863\n",
            "Epoch 204/500\n",
            "11/11 [==============================] - 0s 3ms/step - loss: 0.2566 - accuracy: 0.8950\n",
            "Epoch 205/500\n",
            "11/11 [==============================] - 0s 2ms/step - loss: 0.2534 - accuracy: 0.9009\n",
            "Epoch 206/500\n",
            "11/11 [==============================] - 0s 2ms/step - loss: 0.2600 - accuracy: 0.8863\n",
            "Epoch 207/500\n",
            "11/11 [==============================] - 0s 2ms/step - loss: 0.2687 - accuracy: 0.8892\n",
            "Epoch 208/500\n",
            "11/11 [==============================] - 0s 2ms/step - loss: 0.2515 - accuracy: 0.8980\n",
            "Epoch 209/500\n",
            "11/11 [==============================] - 0s 2ms/step - loss: 0.2551 - accuracy: 0.8980\n",
            "Epoch 210/500\n",
            "11/11 [==============================] - 0s 2ms/step - loss: 0.2782 - accuracy: 0.8892\n",
            "Epoch 211/500\n",
            "11/11 [==============================] - 0s 2ms/step - loss: 0.2576 - accuracy: 0.8950\n",
            "Epoch 212/500\n",
            "11/11 [==============================] - 0s 2ms/step - loss: 0.2498 - accuracy: 0.8892\n",
            "Epoch 213/500\n",
            "11/11 [==============================] - 0s 2ms/step - loss: 0.2460 - accuracy: 0.8950\n",
            "Epoch 214/500\n",
            "11/11 [==============================] - 0s 2ms/step - loss: 0.2429 - accuracy: 0.9009\n",
            "Epoch 215/500\n",
            "11/11 [==============================] - 0s 2ms/step - loss: 0.2452 - accuracy: 0.8980\n",
            "Epoch 216/500\n",
            "11/11 [==============================] - 0s 2ms/step - loss: 0.2420 - accuracy: 0.9155\n",
            "Epoch 217/500\n",
            "11/11 [==============================] - 0s 2ms/step - loss: 0.2631 - accuracy: 0.8892\n",
            "Epoch 218/500\n",
            "11/11 [==============================] - 0s 2ms/step - loss: 0.2533 - accuracy: 0.8834\n",
            "Epoch 219/500\n",
            "11/11 [==============================] - 0s 2ms/step - loss: 0.2456 - accuracy: 0.9009\n",
            "Epoch 220/500\n",
            "11/11 [==============================] - 0s 2ms/step - loss: 0.2375 - accuracy: 0.9067\n",
            "Epoch 221/500\n",
            "11/11 [==============================] - 0s 2ms/step - loss: 0.2408 - accuracy: 0.9038\n",
            "Epoch 222/500\n",
            "11/11 [==============================] - 0s 2ms/step - loss: 0.2363 - accuracy: 0.9067\n",
            "Epoch 223/500\n",
            "11/11 [==============================] - 0s 2ms/step - loss: 0.2343 - accuracy: 0.9009\n",
            "Epoch 224/500\n",
            "11/11 [==============================] - 0s 2ms/step - loss: 0.2319 - accuracy: 0.9067\n",
            "Epoch 225/500\n",
            "11/11 [==============================] - 0s 2ms/step - loss: 0.2342 - accuracy: 0.9038\n",
            "Epoch 226/500\n",
            "11/11 [==============================] - 0s 2ms/step - loss: 0.2308 - accuracy: 0.9096\n",
            "Epoch 227/500\n",
            "11/11 [==============================] - 0s 2ms/step - loss: 0.2322 - accuracy: 0.9038\n",
            "Epoch 228/500\n",
            "11/11 [==============================] - 0s 2ms/step - loss: 0.2277 - accuracy: 0.9067\n",
            "Epoch 229/500\n",
            "11/11 [==============================] - 0s 2ms/step - loss: 0.2340 - accuracy: 0.9096\n",
            "Epoch 230/500\n",
            "11/11 [==============================] - 0s 2ms/step - loss: 0.2367 - accuracy: 0.9096\n",
            "Epoch 231/500\n",
            "11/11 [==============================] - 0s 2ms/step - loss: 0.2752 - accuracy: 0.8834\n",
            "Epoch 232/500\n",
            "11/11 [==============================] - 0s 2ms/step - loss: 0.2279 - accuracy: 0.9125\n",
            "Epoch 233/500\n",
            "11/11 [==============================] - 0s 2ms/step - loss: 0.2248 - accuracy: 0.9067\n",
            "Epoch 234/500\n",
            "11/11 [==============================] - 0s 2ms/step - loss: 0.2232 - accuracy: 0.9096\n",
            "Epoch 235/500\n",
            "11/11 [==============================] - 0s 2ms/step - loss: 0.2197 - accuracy: 0.9155\n",
            "Epoch 236/500\n",
            "11/11 [==============================] - 0s 2ms/step - loss: 0.2316 - accuracy: 0.8950\n",
            "Epoch 237/500\n",
            "11/11 [==============================] - 0s 2ms/step - loss: 0.2204 - accuracy: 0.9155\n",
            "Epoch 238/500\n",
            "11/11 [==============================] - 0s 2ms/step - loss: 0.2190 - accuracy: 0.9213\n",
            "Epoch 239/500\n",
            "11/11 [==============================] - 0s 2ms/step - loss: 0.2129 - accuracy: 0.9213\n",
            "Epoch 240/500\n",
            "11/11 [==============================] - 0s 2ms/step - loss: 0.2389 - accuracy: 0.8980\n",
            "Epoch 241/500\n",
            "11/11 [==============================] - 0s 2ms/step - loss: 0.2185 - accuracy: 0.9300\n",
            "Epoch 242/500\n",
            "11/11 [==============================] - 0s 2ms/step - loss: 0.2179 - accuracy: 0.9184\n",
            "Epoch 243/500\n",
            "11/11 [==============================] - 0s 2ms/step - loss: 0.2138 - accuracy: 0.9242\n",
            "Epoch 244/500\n",
            "11/11 [==============================] - 0s 2ms/step - loss: 0.2163 - accuracy: 0.9213\n",
            "Epoch 245/500\n",
            "11/11 [==============================] - 0s 2ms/step - loss: 0.2166 - accuracy: 0.9184\n",
            "Epoch 246/500\n",
            "11/11 [==============================] - 0s 2ms/step - loss: 0.2581 - accuracy: 0.8863\n",
            "Epoch 247/500\n",
            "11/11 [==============================] - 0s 2ms/step - loss: 0.2794 - accuracy: 0.8746\n",
            "Epoch 248/500\n",
            "11/11 [==============================] - 0s 2ms/step - loss: 0.2678 - accuracy: 0.9038\n",
            "Epoch 249/500\n",
            "11/11 [==============================] - 0s 2ms/step - loss: 0.2403 - accuracy: 0.9038\n",
            "Epoch 250/500\n",
            "11/11 [==============================] - 0s 2ms/step - loss: 0.7499 - accuracy: 0.8076\n",
            "Epoch 251/500\n",
            "11/11 [==============================] - 0s 2ms/step - loss: 4.9496 - accuracy: 0.5131\n",
            "Epoch 252/500\n",
            "11/11 [==============================] - 0s 2ms/step - loss: 1.0201 - accuracy: 0.7085\n",
            "Epoch 253/500\n",
            "11/11 [==============================] - 0s 2ms/step - loss: 0.7554 - accuracy: 0.7434\n",
            "Epoch 254/500\n",
            "11/11 [==============================] - 0s 2ms/step - loss: 1.3349 - accuracy: 0.5831\n",
            "Epoch 255/500\n",
            "11/11 [==============================] - 0s 2ms/step - loss: 0.7244 - accuracy: 0.7813\n",
            "Epoch 256/500\n",
            "11/11 [==============================] - 0s 2ms/step - loss: 1.2797 - accuracy: 0.6064\n",
            "Epoch 257/500\n",
            "11/11 [==============================] - 0s 2ms/step - loss: 0.4642 - accuracy: 0.7726\n",
            "Epoch 258/500\n",
            "11/11 [==============================] - 0s 2ms/step - loss: 2.3076 - accuracy: 0.5773\n",
            "Epoch 259/500\n",
            "11/11 [==============================] - 0s 4ms/step - loss: 2.6224 - accuracy: 0.5277\n",
            "Epoch 260/500\n",
            "11/11 [==============================] - 0s 2ms/step - loss: 0.5808 - accuracy: 0.7726\n",
            "Epoch 261/500\n",
            "11/11 [==============================] - 0s 2ms/step - loss: 0.6668 - accuracy: 0.7638\n",
            "Epoch 262/500\n",
            "11/11 [==============================] - 0s 2ms/step - loss: 1.0206 - accuracy: 0.6297\n",
            "Epoch 263/500\n",
            "11/11 [==============================] - 0s 2ms/step - loss: 0.6469 - accuracy: 0.7055\n",
            "Epoch 264/500\n",
            "11/11 [==============================] - 0s 2ms/step - loss: 0.3979 - accuracy: 0.8251\n",
            "Epoch 265/500\n",
            "11/11 [==============================] - 0s 2ms/step - loss: 0.3965 - accuracy: 0.8280\n",
            "Epoch 266/500\n",
            "11/11 [==============================] - 0s 2ms/step - loss: 0.3592 - accuracy: 0.8630\n",
            "Epoch 267/500\n",
            "11/11 [==============================] - 0s 2ms/step - loss: 0.3610 - accuracy: 0.8542\n",
            "Epoch 268/500\n",
            "11/11 [==============================] - 0s 3ms/step - loss: 0.3548 - accuracy: 0.8659\n",
            "Epoch 269/500\n",
            "11/11 [==============================] - 0s 2ms/step - loss: 0.3532 - accuracy: 0.8542\n",
            "Epoch 270/500\n",
            "11/11 [==============================] - 0s 2ms/step - loss: 0.3524 - accuracy: 0.8513\n",
            "Epoch 271/500\n",
            "11/11 [==============================] - 0s 2ms/step - loss: 0.3493 - accuracy: 0.8571\n",
            "Epoch 272/500\n",
            "11/11 [==============================] - 0s 2ms/step - loss: 0.3479 - accuracy: 0.8542\n",
            "Epoch 273/500\n",
            "11/11 [==============================] - 0s 2ms/step - loss: 0.3458 - accuracy: 0.8571\n",
            "Epoch 274/500\n",
            "11/11 [==============================] - 0s 2ms/step - loss: 0.3441 - accuracy: 0.8571\n",
            "Epoch 275/500\n",
            "11/11 [==============================] - 0s 2ms/step - loss: 0.3427 - accuracy: 0.8601\n",
            "Epoch 276/500\n",
            "11/11 [==============================] - 0s 2ms/step - loss: 0.3417 - accuracy: 0.8601\n",
            "Epoch 277/500\n",
            "11/11 [==============================] - 0s 2ms/step - loss: 0.3409 - accuracy: 0.8542\n",
            "Epoch 278/500\n",
            "11/11 [==============================] - 0s 2ms/step - loss: 0.3382 - accuracy: 0.8571\n",
            "Epoch 279/500\n",
            "11/11 [==============================] - 0s 2ms/step - loss: 0.3378 - accuracy: 0.8630\n",
            "Epoch 280/500\n",
            "11/11 [==============================] - 0s 2ms/step - loss: 0.3377 - accuracy: 0.8630\n",
            "Epoch 281/500\n",
            "11/11 [==============================] - 0s 2ms/step - loss: 0.3338 - accuracy: 0.8601\n",
            "Epoch 282/500\n",
            "11/11 [==============================] - 0s 2ms/step - loss: 0.3334 - accuracy: 0.8513\n",
            "Epoch 283/500\n",
            "11/11 [==============================] - 0s 2ms/step - loss: 0.3284 - accuracy: 0.8659\n",
            "Epoch 284/500\n",
            "11/11 [==============================] - 0s 2ms/step - loss: 0.3201 - accuracy: 0.8688\n",
            "Epoch 285/500\n",
            "11/11 [==============================] - 0s 2ms/step - loss: 0.2909 - accuracy: 0.8746\n",
            "Epoch 286/500\n",
            "11/11 [==============================] - 0s 2ms/step - loss: 0.2513 - accuracy: 0.9038\n",
            "Epoch 287/500\n",
            "11/11 [==============================] - 0s 2ms/step - loss: 0.2592 - accuracy: 0.8921\n",
            "Epoch 288/500\n",
            "11/11 [==============================] - 0s 2ms/step - loss: 0.2538 - accuracy: 0.8921\n",
            "Epoch 289/500\n",
            "11/11 [==============================] - 0s 2ms/step - loss: 0.2560 - accuracy: 0.8980\n",
            "Epoch 290/500\n",
            "11/11 [==============================] - 0s 2ms/step - loss: 0.2331 - accuracy: 0.8980\n",
            "Epoch 291/500\n",
            "11/11 [==============================] - 0s 2ms/step - loss: 0.2414 - accuracy: 0.8980\n",
            "Epoch 292/500\n",
            "11/11 [==============================] - 0s 2ms/step - loss: 0.2416 - accuracy: 0.9009\n",
            "Epoch 293/500\n",
            "11/11 [==============================] - 0s 2ms/step - loss: 0.2382 - accuracy: 0.9125\n",
            "Epoch 294/500\n",
            "11/11 [==============================] - 0s 2ms/step - loss: 0.2320 - accuracy: 0.9125\n",
            "Epoch 295/500\n",
            "11/11 [==============================] - 0s 2ms/step - loss: 0.2299 - accuracy: 0.9125\n",
            "Epoch 296/500\n",
            "11/11 [==============================] - 0s 2ms/step - loss: 0.2279 - accuracy: 0.9125\n",
            "Epoch 297/500\n",
            "11/11 [==============================] - 0s 2ms/step - loss: 0.2271 - accuracy: 0.9125\n",
            "Epoch 298/500\n",
            "11/11 [==============================] - 0s 2ms/step - loss: 0.2282 - accuracy: 0.9155\n",
            "Epoch 299/500\n",
            "11/11 [==============================] - 0s 2ms/step - loss: 0.2233 - accuracy: 0.9155\n",
            "Epoch 300/500\n",
            "11/11 [==============================] - 0s 2ms/step - loss: 0.2234 - accuracy: 0.9125\n",
            "Epoch 301/500\n",
            "11/11 [==============================] - 0s 2ms/step - loss: 0.2338 - accuracy: 0.9009\n",
            "Epoch 302/500\n",
            "11/11 [==============================] - 0s 2ms/step - loss: 0.2214 - accuracy: 0.9155\n",
            "Epoch 303/500\n",
            "11/11 [==============================] - 0s 2ms/step - loss: 0.2185 - accuracy: 0.9213\n",
            "Epoch 304/500\n",
            "11/11 [==============================] - 0s 2ms/step - loss: 0.2217 - accuracy: 0.9184\n",
            "Epoch 305/500\n",
            "11/11 [==============================] - 0s 2ms/step - loss: 0.2175 - accuracy: 0.9125\n",
            "Epoch 306/500\n",
            "11/11 [==============================] - 0s 2ms/step - loss: 0.2159 - accuracy: 0.9242\n",
            "Epoch 307/500\n",
            "11/11 [==============================] - 0s 2ms/step - loss: 0.2214 - accuracy: 0.9125\n",
            "Epoch 308/500\n",
            "11/11 [==============================] - 0s 2ms/step - loss: 0.2133 - accuracy: 0.9242\n",
            "Epoch 309/500\n",
            "11/11 [==============================] - 0s 2ms/step - loss: 0.2159 - accuracy: 0.9213\n",
            "Epoch 310/500\n",
            "11/11 [==============================] - 0s 2ms/step - loss: 0.2169 - accuracy: 0.9271\n",
            "Epoch 311/500\n",
            "11/11 [==============================] - 0s 2ms/step - loss: 0.2220 - accuracy: 0.9096\n",
            "Epoch 312/500\n",
            "11/11 [==============================] - 0s 2ms/step - loss: 0.2119 - accuracy: 0.9242\n",
            "Epoch 313/500\n",
            "11/11 [==============================] - 0s 2ms/step - loss: 0.2198 - accuracy: 0.9038\n",
            "Epoch 314/500\n",
            "11/11 [==============================] - 0s 2ms/step - loss: 0.2148 - accuracy: 0.9213\n",
            "Epoch 315/500\n",
            "11/11 [==============================] - 0s 2ms/step - loss: 0.2109 - accuracy: 0.9213\n",
            "Epoch 316/500\n",
            "11/11 [==============================] - 0s 2ms/step - loss: 0.2068 - accuracy: 0.9300\n",
            "Epoch 317/500\n",
            "11/11 [==============================] - 0s 2ms/step - loss: 0.2073 - accuracy: 0.9329\n",
            "Epoch 318/500\n",
            "11/11 [==============================] - 0s 2ms/step - loss: 0.2035 - accuracy: 0.9271\n",
            "Epoch 319/500\n",
            "11/11 [==============================] - 0s 2ms/step - loss: 0.2080 - accuracy: 0.9271\n",
            "Epoch 320/500\n",
            "11/11 [==============================] - 0s 2ms/step - loss: 0.2012 - accuracy: 0.9329\n",
            "Epoch 321/500\n",
            "11/11 [==============================] - 0s 2ms/step - loss: 0.2098 - accuracy: 0.9184\n",
            "Epoch 322/500\n",
            "11/11 [==============================] - 0s 2ms/step - loss: 0.2008 - accuracy: 0.9271\n",
            "Epoch 323/500\n",
            "11/11 [==============================] - 0s 2ms/step - loss: 0.1992 - accuracy: 0.9300\n",
            "Epoch 324/500\n",
            "11/11 [==============================] - 0s 2ms/step - loss: 0.2011 - accuracy: 0.9359\n",
            "Epoch 325/500\n",
            "11/11 [==============================] - 0s 2ms/step - loss: 0.2027 - accuracy: 0.9184\n",
            "Epoch 326/500\n",
            "11/11 [==============================] - 0s 2ms/step - loss: 0.1971 - accuracy: 0.9300\n",
            "Epoch 327/500\n",
            "11/11 [==============================] - 0s 2ms/step - loss: 0.1973 - accuracy: 0.9271\n",
            "Epoch 328/500\n",
            "11/11 [==============================] - 0s 2ms/step - loss: 0.1965 - accuracy: 0.9271\n",
            "Epoch 329/500\n",
            "11/11 [==============================] - 0s 2ms/step - loss: 0.2083 - accuracy: 0.9271\n",
            "Epoch 330/500\n",
            "11/11 [==============================] - 0s 2ms/step - loss: 0.1970 - accuracy: 0.9271\n",
            "Epoch 331/500\n",
            "11/11 [==============================] - 0s 2ms/step - loss: 0.1948 - accuracy: 0.9271\n",
            "Epoch 332/500\n",
            "11/11 [==============================] - 0s 2ms/step - loss: 0.1999 - accuracy: 0.9213\n",
            "Epoch 333/500\n",
            "11/11 [==============================] - 0s 2ms/step - loss: 0.1922 - accuracy: 0.9359\n",
            "Epoch 334/500\n",
            "11/11 [==============================] - 0s 2ms/step - loss: 0.1966 - accuracy: 0.9242\n",
            "Epoch 335/500\n",
            "11/11 [==============================] - 0s 2ms/step - loss: 0.2112 - accuracy: 0.9213\n",
            "Epoch 336/500\n",
            "11/11 [==============================] - 0s 2ms/step - loss: 0.1962 - accuracy: 0.9329\n",
            "Epoch 337/500\n",
            "11/11 [==============================] - 0s 2ms/step - loss: 0.1915 - accuracy: 0.9359\n",
            "Epoch 338/500\n",
            "11/11 [==============================] - 0s 2ms/step - loss: 0.1897 - accuracy: 0.9271\n",
            "Epoch 339/500\n",
            "11/11 [==============================] - 0s 2ms/step - loss: 0.1939 - accuracy: 0.9329\n",
            "Epoch 340/500\n",
            "11/11 [==============================] - 0s 2ms/step - loss: 0.1996 - accuracy: 0.9242\n",
            "Epoch 341/500\n",
            "11/11 [==============================] - 0s 2ms/step - loss: 0.1905 - accuracy: 0.9300\n",
            "Epoch 342/500\n",
            "11/11 [==============================] - 0s 2ms/step - loss: 0.1948 - accuracy: 0.9300\n",
            "Epoch 343/500\n",
            "11/11 [==============================] - 0s 2ms/step - loss: 0.1851 - accuracy: 0.9329\n",
            "Epoch 344/500\n",
            "11/11 [==============================] - 0s 2ms/step - loss: 0.1865 - accuracy: 0.9329\n",
            "Epoch 345/500\n",
            "11/11 [==============================] - 0s 2ms/step - loss: 0.1864 - accuracy: 0.9300\n",
            "Epoch 346/500\n",
            "11/11 [==============================] - 0s 2ms/step - loss: 0.1829 - accuracy: 0.9388\n",
            "Epoch 347/500\n",
            "11/11 [==============================] - 0s 2ms/step - loss: 0.1809 - accuracy: 0.9388\n",
            "Epoch 348/500\n",
            "11/11 [==============================] - 0s 2ms/step - loss: 0.1813 - accuracy: 0.9417\n",
            "Epoch 349/500\n",
            "11/11 [==============================] - 0s 2ms/step - loss: 0.1835 - accuracy: 0.9329\n",
            "Epoch 350/500\n",
            "11/11 [==============================] - 0s 2ms/step - loss: 0.1830 - accuracy: 0.9388\n",
            "Epoch 351/500\n",
            "11/11 [==============================] - 0s 2ms/step - loss: 0.1812 - accuracy: 0.9388\n",
            "Epoch 352/500\n",
            "11/11 [==============================] - 0s 2ms/step - loss: 0.1793 - accuracy: 0.9329\n",
            "Epoch 353/500\n",
            "11/11 [==============================] - 0s 2ms/step - loss: 0.1786 - accuracy: 0.9417\n",
            "Epoch 354/500\n",
            "11/11 [==============================] - 0s 3ms/step - loss: 0.1875 - accuracy: 0.9300\n",
            "Epoch 355/500\n",
            "11/11 [==============================] - 0s 2ms/step - loss: 0.1894 - accuracy: 0.9300\n",
            "Epoch 356/500\n",
            "11/11 [==============================] - 0s 2ms/step - loss: 0.1801 - accuracy: 0.9388\n",
            "Epoch 357/500\n",
            "11/11 [==============================] - 0s 2ms/step - loss: 0.1759 - accuracy: 0.9417\n",
            "Epoch 358/500\n",
            "11/11 [==============================] - 0s 2ms/step - loss: 0.1770 - accuracy: 0.9329\n",
            "Epoch 359/500\n",
            "11/11 [==============================] - 0s 2ms/step - loss: 0.1702 - accuracy: 0.9417\n",
            "Epoch 360/500\n",
            "11/11 [==============================] - 0s 2ms/step - loss: 0.1868 - accuracy: 0.9359\n",
            "Epoch 361/500\n",
            "11/11 [==============================] - 0s 2ms/step - loss: 0.1893 - accuracy: 0.9300\n",
            "Epoch 362/500\n",
            "11/11 [==============================] - 0s 2ms/step - loss: 0.1794 - accuracy: 0.9388\n",
            "Epoch 363/500\n",
            "11/11 [==============================] - 0s 2ms/step - loss: 0.1793 - accuracy: 0.9359\n",
            "Epoch 364/500\n",
            "11/11 [==============================] - 0s 2ms/step - loss: 0.1777 - accuracy: 0.9475\n",
            "Epoch 365/500\n",
            "11/11 [==============================] - 0s 2ms/step - loss: 0.1720 - accuracy: 0.9388\n",
            "Epoch 366/500\n",
            "11/11 [==============================] - 0s 2ms/step - loss: 0.1690 - accuracy: 0.9475\n",
            "Epoch 367/500\n",
            "11/11 [==============================] - 0s 2ms/step - loss: 0.1690 - accuracy: 0.9504\n",
            "Epoch 368/500\n",
            "11/11 [==============================] - 0s 2ms/step - loss: 0.1745 - accuracy: 0.9417\n",
            "Epoch 369/500\n",
            "11/11 [==============================] - 0s 2ms/step - loss: 0.1815 - accuracy: 0.9388\n",
            "Epoch 370/500\n",
            "11/11 [==============================] - 0s 2ms/step - loss: 0.1750 - accuracy: 0.9417\n",
            "Epoch 371/500\n",
            "11/11 [==============================] - 0s 2ms/step - loss: 0.1723 - accuracy: 0.9446\n",
            "Epoch 372/500\n",
            "11/11 [==============================] - 0s 2ms/step - loss: 0.1715 - accuracy: 0.9359\n",
            "Epoch 373/500\n",
            "11/11 [==============================] - 0s 2ms/step - loss: 0.1686 - accuracy: 0.9446\n",
            "Epoch 374/500\n",
            "11/11 [==============================] - 0s 2ms/step - loss: 0.1645 - accuracy: 0.9446\n",
            "Epoch 375/500\n",
            "11/11 [==============================] - 0s 2ms/step - loss: 0.1655 - accuracy: 0.9504\n",
            "Epoch 376/500\n",
            "11/11 [==============================] - 0s 2ms/step - loss: 0.1640 - accuracy: 0.9446\n",
            "Epoch 377/500\n",
            "11/11 [==============================] - 0s 2ms/step - loss: 0.1695 - accuracy: 0.9359\n",
            "Epoch 378/500\n",
            "11/11 [==============================] - 0s 2ms/step - loss: 0.1670 - accuracy: 0.9388\n",
            "Epoch 379/500\n",
            "11/11 [==============================] - 0s 2ms/step - loss: 0.1649 - accuracy: 0.9446\n",
            "Epoch 380/500\n",
            "11/11 [==============================] - 0s 2ms/step - loss: 0.1598 - accuracy: 0.9504\n",
            "Epoch 381/500\n",
            "11/11 [==============================] - 0s 2ms/step - loss: 0.1602 - accuracy: 0.9504\n",
            "Epoch 382/500\n",
            "11/11 [==============================] - 0s 2ms/step - loss: 0.1678 - accuracy: 0.9300\n",
            "Epoch 383/500\n",
            "11/11 [==============================] - 0s 2ms/step - loss: 0.1597 - accuracy: 0.9417\n",
            "Epoch 384/500\n",
            "11/11 [==============================] - 0s 2ms/step - loss: 0.1587 - accuracy: 0.9504\n",
            "Epoch 385/500\n",
            "11/11 [==============================] - 0s 2ms/step - loss: 0.1573 - accuracy: 0.9475\n",
            "Epoch 386/500\n",
            "11/11 [==============================] - 0s 2ms/step - loss: 0.1559 - accuracy: 0.9504\n",
            "Epoch 387/500\n",
            "11/11 [==============================] - 0s 2ms/step - loss: 0.1576 - accuracy: 0.9446\n",
            "Epoch 388/500\n",
            "11/11 [==============================] - 0s 2ms/step - loss: 0.1583 - accuracy: 0.9504\n",
            "Epoch 389/500\n",
            "11/11 [==============================] - 0s 2ms/step - loss: 0.1578 - accuracy: 0.9563\n",
            "Epoch 390/500\n",
            "11/11 [==============================] - 0s 2ms/step - loss: 0.1528 - accuracy: 0.9504\n",
            "Epoch 391/500\n",
            "11/11 [==============================] - 0s 2ms/step - loss: 0.1536 - accuracy: 0.9504\n",
            "Epoch 392/500\n",
            "11/11 [==============================] - 0s 2ms/step - loss: 0.1543 - accuracy: 0.9534\n",
            "Epoch 393/500\n",
            "11/11 [==============================] - 0s 2ms/step - loss: 0.1560 - accuracy: 0.9563\n",
            "Epoch 394/500\n",
            "11/11 [==============================] - 0s 2ms/step - loss: 0.1519 - accuracy: 0.9563\n",
            "Epoch 395/500\n",
            "11/11 [==============================] - 0s 2ms/step - loss: 0.1512 - accuracy: 0.9563\n",
            "Epoch 396/500\n",
            "11/11 [==============================] - 0s 2ms/step - loss: 0.1538 - accuracy: 0.9504\n",
            "Epoch 397/500\n",
            "11/11 [==============================] - 0s 2ms/step - loss: 0.1602 - accuracy: 0.9417\n",
            "Epoch 398/500\n",
            "11/11 [==============================] - 0s 2ms/step - loss: 0.1481 - accuracy: 0.9563\n",
            "Epoch 399/500\n",
            "11/11 [==============================] - 0s 2ms/step - loss: 0.1483 - accuracy: 0.9534\n",
            "Epoch 400/500\n",
            "11/11 [==============================] - 0s 2ms/step - loss: 0.1549 - accuracy: 0.9417\n",
            "Epoch 401/500\n",
            "11/11 [==============================] - 0s 2ms/step - loss: 0.1498 - accuracy: 0.9534\n",
            "Epoch 402/500\n",
            "11/11 [==============================] - 0s 2ms/step - loss: 0.1491 - accuracy: 0.9563\n",
            "Epoch 403/500\n",
            "11/11 [==============================] - 0s 2ms/step - loss: 0.1561 - accuracy: 0.9504\n",
            "Epoch 404/500\n",
            "11/11 [==============================] - 0s 2ms/step - loss: 0.1476 - accuracy: 0.9563\n",
            "Epoch 405/500\n",
            "11/11 [==============================] - 0s 2ms/step - loss: 0.1462 - accuracy: 0.9504\n",
            "Epoch 406/500\n",
            "11/11 [==============================] - 0s 2ms/step - loss: 0.1444 - accuracy: 0.9504\n",
            "Epoch 407/500\n",
            "11/11 [==============================] - 0s 2ms/step - loss: 0.1424 - accuracy: 0.9563\n",
            "Epoch 408/500\n",
            "11/11 [==============================] - 0s 2ms/step - loss: 0.1540 - accuracy: 0.9446\n",
            "Epoch 409/500\n",
            "11/11 [==============================] - 0s 2ms/step - loss: 0.1452 - accuracy: 0.9504\n",
            "Epoch 410/500\n",
            "11/11 [==============================] - 0s 2ms/step - loss: 0.1424 - accuracy: 0.9592\n",
            "Epoch 411/500\n",
            "11/11 [==============================] - 0s 2ms/step - loss: 0.1405 - accuracy: 0.9534\n",
            "Epoch 412/500\n",
            "11/11 [==============================] - 0s 2ms/step - loss: 0.1396 - accuracy: 0.9534\n",
            "Epoch 413/500\n",
            "11/11 [==============================] - 0s 2ms/step - loss: 0.1389 - accuracy: 0.9534\n",
            "Epoch 414/500\n",
            "11/11 [==============================] - 0s 2ms/step - loss: 0.1568 - accuracy: 0.9242\n",
            "Epoch 415/500\n",
            "11/11 [==============================] - 0s 2ms/step - loss: 0.1538 - accuracy: 0.9417\n",
            "Epoch 416/500\n",
            "11/11 [==============================] - 0s 2ms/step - loss: 0.1424 - accuracy: 0.9563\n",
            "Epoch 417/500\n",
            "11/11 [==============================] - 0s 2ms/step - loss: 0.1400 - accuracy: 0.9563\n",
            "Epoch 418/500\n",
            "11/11 [==============================] - 0s 2ms/step - loss: 0.1392 - accuracy: 0.9621\n",
            "Epoch 419/500\n",
            "11/11 [==============================] - 0s 2ms/step - loss: 0.1357 - accuracy: 0.9563\n",
            "Epoch 420/500\n",
            "11/11 [==============================] - 0s 2ms/step - loss: 0.1411 - accuracy: 0.9417\n",
            "Epoch 421/500\n",
            "11/11 [==============================] - 0s 2ms/step - loss: 0.1369 - accuracy: 0.9592\n",
            "Epoch 422/500\n",
            "11/11 [==============================] - 0s 2ms/step - loss: 0.1425 - accuracy: 0.9534\n",
            "Epoch 423/500\n",
            "11/11 [==============================] - 0s 2ms/step - loss: 0.1390 - accuracy: 0.9534\n",
            "Epoch 424/500\n",
            "11/11 [==============================] - 0s 2ms/step - loss: 0.1412 - accuracy: 0.9504\n",
            "Epoch 425/500\n",
            "11/11 [==============================] - 0s 2ms/step - loss: 0.1393 - accuracy: 0.9592\n",
            "Epoch 426/500\n",
            "11/11 [==============================] - 0s 2ms/step - loss: 2.5871 - accuracy: 0.6618\n",
            "Epoch 427/500\n",
            "11/11 [==============================] - 0s 2ms/step - loss: 1.6104 - accuracy: 0.7638\n",
            "Epoch 428/500\n",
            "11/11 [==============================] - 0s 2ms/step - loss: 4.7440 - accuracy: 0.5248\n",
            "Epoch 429/500\n",
            "11/11 [==============================] - 0s 2ms/step - loss: 2.9838 - accuracy: 0.5423\n",
            "Epoch 430/500\n",
            "11/11 [==============================] - 0s 2ms/step - loss: 0.5350 - accuracy: 0.7784\n",
            "Epoch 431/500\n",
            "11/11 [==============================] - 0s 2ms/step - loss: 0.6773 - accuracy: 0.6822\n",
            "Epoch 432/500\n",
            "11/11 [==============================] - 0s 2ms/step - loss: 0.5131 - accuracy: 0.7347\n",
            "Epoch 433/500\n",
            "11/11 [==============================] - 0s 2ms/step - loss: 0.3702 - accuracy: 0.8309\n",
            "Epoch 434/500\n",
            "11/11 [==============================] - 0s 3ms/step - loss: 0.3634 - accuracy: 0.8426\n",
            "Epoch 435/500\n",
            "11/11 [==============================] - 0s 2ms/step - loss: 0.3329 - accuracy: 0.8659\n",
            "Epoch 436/500\n",
            "11/11 [==============================] - 0s 2ms/step - loss: 0.3198 - accuracy: 0.8776\n",
            "Epoch 437/500\n",
            "11/11 [==============================] - 0s 2ms/step - loss: 0.2966 - accuracy: 0.8863\n",
            "Epoch 438/500\n",
            "11/11 [==============================] - 0s 2ms/step - loss: 0.2515 - accuracy: 0.9067\n",
            "Epoch 439/500\n",
            "11/11 [==============================] - 0s 2ms/step - loss: 0.1902 - accuracy: 0.9417\n",
            "Epoch 440/500\n",
            "11/11 [==============================] - 0s 2ms/step - loss: 0.1759 - accuracy: 0.9446\n",
            "Epoch 441/500\n",
            "11/11 [==============================] - 0s 2ms/step - loss: 0.1685 - accuracy: 0.9563\n",
            "Epoch 442/500\n",
            "11/11 [==============================] - 0s 2ms/step - loss: 0.1672 - accuracy: 0.9534\n",
            "Epoch 443/500\n",
            "11/11 [==============================] - 0s 2ms/step - loss: 0.1656 - accuracy: 0.9563\n",
            "Epoch 444/500\n",
            "11/11 [==============================] - 0s 2ms/step - loss: 0.1652 - accuracy: 0.9534\n",
            "Epoch 445/500\n",
            "11/11 [==============================] - 0s 2ms/step - loss: 0.1644 - accuracy: 0.9534\n",
            "Epoch 446/500\n",
            "11/11 [==============================] - 0s 2ms/step - loss: 0.1639 - accuracy: 0.9534\n",
            "Epoch 447/500\n",
            "11/11 [==============================] - 0s 2ms/step - loss: 0.1632 - accuracy: 0.9534\n",
            "Epoch 448/500\n",
            "11/11 [==============================] - 0s 2ms/step - loss: 0.1631 - accuracy: 0.9534\n",
            "Epoch 449/500\n",
            "11/11 [==============================] - 0s 2ms/step - loss: 0.1621 - accuracy: 0.9534\n",
            "Epoch 450/500\n",
            "11/11 [==============================] - 0s 2ms/step - loss: 0.1629 - accuracy: 0.9534\n",
            "Epoch 451/500\n",
            "11/11 [==============================] - 0s 2ms/step - loss: 0.1608 - accuracy: 0.9534\n",
            "Epoch 452/500\n",
            "11/11 [==============================] - 0s 2ms/step - loss: 0.1621 - accuracy: 0.9534\n",
            "Epoch 453/500\n",
            "11/11 [==============================] - 0s 2ms/step - loss: 0.1613 - accuracy: 0.9563\n",
            "Epoch 454/500\n",
            "11/11 [==============================] - 0s 2ms/step - loss: 0.1586 - accuracy: 0.9534\n",
            "Epoch 455/500\n",
            "11/11 [==============================] - 0s 2ms/step - loss: 0.1591 - accuracy: 0.9534\n",
            "Epoch 456/500\n",
            "11/11 [==============================] - 0s 2ms/step - loss: 0.1587 - accuracy: 0.9563\n",
            "Epoch 457/500\n",
            "11/11 [==============================] - 0s 2ms/step - loss: 0.1586 - accuracy: 0.9534\n",
            "Epoch 458/500\n",
            "11/11 [==============================] - 0s 2ms/step - loss: 0.1575 - accuracy: 0.9534\n",
            "Epoch 459/500\n",
            "11/11 [==============================] - 0s 2ms/step - loss: 0.1579 - accuracy: 0.9534\n",
            "Epoch 460/500\n",
            "11/11 [==============================] - 0s 2ms/step - loss: 0.1570 - accuracy: 0.9534\n",
            "Epoch 461/500\n",
            "11/11 [==============================] - 0s 2ms/step - loss: 0.1562 - accuracy: 0.9534\n",
            "Epoch 462/500\n",
            "11/11 [==============================] - 0s 2ms/step - loss: 0.1560 - accuracy: 0.9534\n",
            "Epoch 463/500\n",
            "11/11 [==============================] - 0s 2ms/step - loss: 0.1546 - accuracy: 0.9534\n",
            "Epoch 464/500\n",
            "11/11 [==============================] - 0s 2ms/step - loss: 0.1550 - accuracy: 0.9534\n",
            "Epoch 465/500\n",
            "11/11 [==============================] - 0s 2ms/step - loss: 0.1558 - accuracy: 0.9534\n",
            "Epoch 466/500\n",
            "11/11 [==============================] - 0s 2ms/step - loss: 0.1642 - accuracy: 0.9475\n",
            "Epoch 467/500\n",
            "11/11 [==============================] - 0s 2ms/step - loss: 0.1576 - accuracy: 0.9534\n",
            "Epoch 468/500\n",
            "11/11 [==============================] - 0s 2ms/step - loss: 0.1547 - accuracy: 0.9534\n",
            "Epoch 469/500\n",
            "11/11 [==============================] - 0s 2ms/step - loss: 0.1549 - accuracy: 0.9534\n",
            "Epoch 470/500\n",
            "11/11 [==============================] - 0s 2ms/step - loss: 0.1538 - accuracy: 0.9504\n",
            "Epoch 471/500\n",
            "11/11 [==============================] - 0s 2ms/step - loss: 0.1529 - accuracy: 0.9563\n",
            "Epoch 472/500\n",
            "11/11 [==============================] - 0s 2ms/step - loss: 0.1519 - accuracy: 0.9504\n",
            "Epoch 473/500\n",
            "11/11 [==============================] - 0s 2ms/step - loss: 0.1520 - accuracy: 0.9534\n",
            "Epoch 474/500\n",
            "11/11 [==============================] - 0s 2ms/step - loss: 0.1521 - accuracy: 0.9504\n",
            "Epoch 475/500\n",
            "11/11 [==============================] - 0s 2ms/step - loss: 0.1520 - accuracy: 0.9534\n",
            "Epoch 476/500\n",
            "11/11 [==============================] - 0s 2ms/step - loss: 0.1517 - accuracy: 0.9534\n",
            "Epoch 477/500\n",
            "11/11 [==============================] - 0s 2ms/step - loss: 0.1504 - accuracy: 0.9534\n",
            "Epoch 478/500\n",
            "11/11 [==============================] - 0s 2ms/step - loss: 0.1506 - accuracy: 0.9534\n",
            "Epoch 479/500\n",
            "11/11 [==============================] - 0s 2ms/step - loss: 0.1501 - accuracy: 0.9534\n",
            "Epoch 480/500\n",
            "11/11 [==============================] - 0s 2ms/step - loss: 0.1498 - accuracy: 0.9534\n",
            "Epoch 481/500\n",
            "11/11 [==============================] - 0s 2ms/step - loss: 0.1493 - accuracy: 0.9534\n",
            "Epoch 482/500\n",
            "11/11 [==============================] - 0s 2ms/step - loss: 0.1492 - accuracy: 0.9534\n",
            "Epoch 483/500\n",
            "11/11 [==============================] - 0s 2ms/step - loss: 0.1480 - accuracy: 0.9534\n",
            "Epoch 484/500\n",
            "11/11 [==============================] - 0s 2ms/step - loss: 0.1485 - accuracy: 0.9534\n",
            "Epoch 485/500\n",
            "11/11 [==============================] - 0s 2ms/step - loss: 0.1479 - accuracy: 0.9534\n",
            "Epoch 486/500\n",
            "11/11 [==============================] - 0s 2ms/step - loss: 0.1475 - accuracy: 0.9534\n",
            "Epoch 487/500\n",
            "11/11 [==============================] - 0s 2ms/step - loss: 0.1493 - accuracy: 0.9534\n",
            "Epoch 488/500\n",
            "11/11 [==============================] - 0s 2ms/step - loss: 0.1474 - accuracy: 0.9534\n",
            "Epoch 489/500\n",
            "11/11 [==============================] - 0s 2ms/step - loss: 0.1461 - accuracy: 0.9534\n",
            "Epoch 490/500\n",
            "11/11 [==============================] - 0s 2ms/step - loss: 0.1488 - accuracy: 0.9534\n",
            "Epoch 491/500\n",
            "11/11 [==============================] - 0s 2ms/step - loss: 0.1463 - accuracy: 0.9534\n",
            "Epoch 492/500\n",
            "11/11 [==============================] - 0s 2ms/step - loss: 0.1471 - accuracy: 0.9534\n",
            "Epoch 493/500\n",
            "11/11 [==============================] - 0s 2ms/step - loss: 0.1453 - accuracy: 0.9534\n",
            "Epoch 494/500\n",
            "11/11 [==============================] - 0s 2ms/step - loss: 0.1448 - accuracy: 0.9534\n",
            "Epoch 495/500\n",
            "11/11 [==============================] - 0s 2ms/step - loss: 0.1462 - accuracy: 0.9504\n",
            "Epoch 496/500\n",
            "11/11 [==============================] - 0s 2ms/step - loss: 0.1457 - accuracy: 0.9534\n",
            "Epoch 497/500\n",
            "11/11 [==============================] - 0s 2ms/step - loss: 0.1450 - accuracy: 0.9534\n",
            "Epoch 498/500\n",
            "11/11 [==============================] - 0s 2ms/step - loss: 0.1442 - accuracy: 0.9534\n",
            "Epoch 499/500\n",
            "11/11 [==============================] - 0s 2ms/step - loss: 0.1441 - accuracy: 0.9534\n",
            "Epoch 500/500\n",
            "11/11 [==============================] - 0s 2ms/step - loss: 0.1445 - accuracy: 0.9534\n"
          ],
          "name": "stdout"
        },
        {
          "output_type": "execute_result",
          "data": {
            "text/plain": [
              "<tensorflow.python.keras.callbacks.History at 0x7fe27d985f60>"
            ]
          },
          "metadata": {
            "tags": []
          },
          "execution_count": 34
        }
      ]
    },
    {
      "cell_type": "code",
      "metadata": {
        "id": "I0BTZBnKuy5p",
        "colab_type": "code",
        "colab": {}
      },
      "source": [
        "#ANN das imagens\n",
        "x=np.array(W_test)\n",
        "logits = model(x, training=False)\n",
        "prediction = tf.argmax(logits, axis=1, output_type=tf.int32)\n",
        "#print(prediction)"
      ],
      "execution_count": 35,
      "outputs": []
    },
    {
      "cell_type": "code",
      "metadata": {
        "id": "JRYwCufJyyTI",
        "colab_type": "code",
        "colab": {
          "base_uri": "https://localhost:8080/",
          "height": 139
        },
        "outputId": "55032c13-a5b4-418a-8e74-6c43091ccfb8"
      },
      "source": [
        "print(x)"
      ],
      "execution_count": 36,
      "outputs": [
        {
          "output_type": "stream",
          "text": [
            "[[0.62516 0.67814 0.7257  ... 0.34312 0.32268 0.31357]\n",
            " [0.52206 0.51394 0.51079 ... 0.75293 0.64692 0.61091]\n",
            " [0.15494 0.1429  0.13764 ... 0.15702 0.08283 0.09974]\n",
            " ...\n",
            " [0.67142 0.67645 0.68294 ... 0.81235 0.7893  0.73144]\n",
            " [0.5801  0.59905 0.64345 ... 0.44491 0.43344 0.44076]\n",
            " [0.58283 0.59543 0.61642 ... 0.45384 0.2914  0.14095]]\n"
          ],
          "name": "stdout"
        }
      ]
    },
    {
      "cell_type": "code",
      "metadata": {
        "id": "wU-3mMSMu6a6",
        "colab_type": "code",
        "colab": {}
      },
      "source": [
        "y_valor=np.copy(yw_test)\n",
        "data = {'y_Actual': y_valor,\n",
        "        'y_Predicted': prediction\n",
        "        }\n",
        "\n",
        "df = pd.DataFrame(data, columns=['y_Actual','y_Predicted'])\n",
        "#print (df)"
      ],
      "execution_count": 37,
      "outputs": []
    },
    {
      "cell_type": "code",
      "metadata": {
        "id": "dAq5_SQi1n_o",
        "colab_type": "code",
        "colab": {
          "base_uri": "https://localhost:8080/",
          "height": 34
        },
        "outputId": "9b0942b7-cdf6-4cc1-9610-bb14e385bece"
      },
      "source": [
        "print(len(y_valor))"
      ],
      "execution_count": 38,
      "outputs": [
        {
          "output_type": "stream",
          "text": [
            "147\n"
          ],
          "name": "stdout"
        }
      ]
    },
    {
      "cell_type": "code",
      "metadata": {
        "id": "u48SDVPavRwS",
        "colab_type": "code",
        "colab": {
          "base_uri": "https://localhost:8080/",
          "height": 86
        },
        "outputId": "6ef73361-564b-46e7-d77c-677b6394d975"
      },
      "source": [
        "confusion_matrix = pd.crosstab(df['y_Actual'], df['y_Predicted'], rownames=['Actual'], colnames=['Predicted'])\n",
        "print(confusion_matrix)"
      ],
      "execution_count": 39,
      "outputs": [
        {
          "output_type": "stream",
          "text": [
            "Predicted   1   2\n",
            "Actual           \n",
            "1          65  12\n",
            "2           8  62\n"
          ],
          "name": "stdout"
        }
      ]
    },
    {
      "cell_type": "code",
      "metadata": {
        "id": "hyU1PG434y8F",
        "colab_type": "code",
        "colab": {}
      },
      "source": [
        ""
      ],
      "execution_count": 39,
      "outputs": []
    }
  ]
}